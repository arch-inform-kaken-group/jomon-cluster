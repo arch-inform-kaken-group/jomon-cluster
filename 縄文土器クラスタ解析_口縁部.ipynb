{
  "cells": [
    {
      "cell_type": "markdown",
      "source": [
        "# 縄文土器（口縁部）クラスタ解析"
      ],
      "metadata": {
        "id": "QjQfUS__-QUZ"
      },
      "id": "QjQfUS__-QUZ"
    },
    {
      "cell_type": "markdown",
      "source": [
        "## Voxelデータの展開"
      ],
      "metadata": {
        "id": "V6SpgfSMw6g7"
      },
      "id": "V6SpgfSMw6g7"
    },
    {
      "cell_type": "code",
      "execution_count": null,
      "metadata": {
        "colab": {
          "base_uri": "https://localhost:8080/"
        },
        "id": "7bfac36f",
        "outputId": "bca4f0d2-7be5-44fb-d53c-fe51076626a6"
      },
      "outputs": [
        {
          "output_type": "stream",
          "name": "stdout",
          "text": [
            "Mounted at /content/drive\n"
          ]
        }
      ],
      "source": [
        "from google.colab import drive\n",
        "drive.mount('/content/drive')"
      ],
      "id": "7bfac36f"
    },
    {
      "cell_type": "code",
      "execution_count": null,
      "metadata": {
        "id": "ksXWhVI3-pjw"
      },
      "outputs": [],
      "source": [
        "!unzip -q /content/drive/MyDrive/jomon/jomon/jomonvoxels-128-20240312.zip"
      ],
      "id": "ksXWhVI3-pjw"
    },
    {
      "cell_type": "code",
      "execution_count": null,
      "metadata": {
        "id": "QSFE4NYBfRQb"
      },
      "outputs": [],
      "source": [
        "# rim 除外の個体\n",
        "!rm data/voxel/rm0692* data/voxel/rm0416*\n",
        "!rm data/voxel/rm0564* data/voxel/rm0943*"
      ],
      "id": "QSFE4NYBfRQb"
    },
    {
      "cell_type": "markdown",
      "metadata": {
        "id": "vMuFpelK5SrR"
      },
      "source": [
        "# パッケージインストール\n"
      ],
      "id": "vMuFpelK5SrR"
    },
    {
      "cell_type": "code",
      "execution_count": null,
      "metadata": {
        "colab": {
          "base_uri": "https://localhost:8080/"
        },
        "id": "hf8FZb9OynSF",
        "outputId": "c6eb2b17-fdc7-43a7-e1f6-821a4cf9ffd4"
      },
      "outputs": [
        {
          "output_type": "stream",
          "name": "stdout",
          "text": [
            "\u001b[2K     \u001b[90m━━━━━━━━━━━━━━━━━━━━━━━━━━━━━━━━━━━━━━━━\u001b[0m \u001b[32m4.1/4.1 MB\u001b[0m \u001b[31m16.2 MB/s\u001b[0m eta \u001b[36m0:00:00\u001b[0m\n",
            "\u001b[?25h  Preparing metadata (setup.py) ... \u001b[?25l\u001b[?25hdone\n",
            "  Building wheel for japanize_matplotlib (setup.py) ... \u001b[?25l\u001b[?25hdone\n",
            "\u001b[2K     \u001b[90m━━━━━━━━━━━━━━━━━━━━━━━━━━━━━━━━━━━━━━━━\u001b[0m \u001b[32m69.8/69.8 kB\u001b[0m \u001b[31m2.9 MB/s\u001b[0m eta \u001b[36m0:00:00\u001b[0m\n",
            "\u001b[?25h"
          ]
        }
      ],
      "source": [
        "!pip install -q japanize_matplotlib\n",
        "!pip install -q tensorflow-determinism classification-models-3D"
      ],
      "id": "hf8FZb9OynSF"
    },
    {
      "cell_type": "markdown",
      "metadata": {
        "id": "KlTOOzkqH0Vp"
      },
      "source": [],
      "id": "KlTOOzkqH0Vp"
    },
    {
      "cell_type": "markdown",
      "metadata": {
        "id": "VNfGpmKw9j9v"
      },
      "source": [
        "# 仮ラベル付きのクラスタリング"
      ],
      "id": "VNfGpmKw9j9v"
    },
    {
      "cell_type": "code",
      "execution_count": null,
      "metadata": {
        "id": "6f464c32"
      },
      "outputs": [],
      "source": [
        "import os\n",
        "from glob import glob\n",
        "import re\n",
        "import numpy as np\n",
        "import pandas as pd\n",
        "import plotly.express as px\n",
        "import matplotlib.pyplot as plt\n",
        "import japanize_matplotlib\n",
        "%matplotlib inline\n",
        "\n",
        "import tensorflow as tf\n",
        "from tensorflow import keras\n",
        "from sklearn.cluster import KMeans\n",
        "from sklearn.preprocessing import StandardScaler\n",
        "from sklearn.decomposition import PCA\n",
        "from sklearn.manifold import TSNE\n",
        "import random\n",
        "import gc\n",
        "\n",
        "from skimage.transform import resize\n",
        "from matplotlib import pyplot as plt\n",
        "from matplotlib.colors import Normalize\n",
        "from mpl_toolkits.axes_grid1.inset_locator import inset_axes\n",
        "import matplotlib.pyplot as plt\n",
        "from matplotlib import cm"
      ],
      "id": "6f464c32"
    },
    {
      "cell_type": "code",
      "execution_count": null,
      "metadata": {
        "id": "b646003c"
      },
      "outputs": [],
      "source": [
        "\n",
        "def set_seed(seed=200):\n",
        "    tf.random.set_seed(seed)\n",
        "\n",
        "    # optional\n",
        "    # for numpy.random\n",
        "    np.random.seed(seed)\n",
        "    # for built-in random\n",
        "    random.seed(seed)\n",
        "    # for hash seed\n",
        "    os.environ[\"PYTHONHASHSEED\"] = str(seed)\n",
        "    os.environ['TF_DETERMINISTIC_OPS'] = '1'\n",
        "\n",
        "\n",
        "set_seed(123)\n"
      ],
      "id": "b646003c"
    },
    {
      "cell_type": "code",
      "execution_count": null,
      "metadata": {
        "id": "BSm7HfgKOwI0"
      },
      "outputs": [],
      "source": [],
      "id": "BSm7HfgKOwI0"
    },
    {
      "cell_type": "markdown",
      "metadata": {
        "id": "KQOUJ0nqQBB8"
      },
      "source": [
        "## 定数定義"
      ],
      "id": "KQOUJ0nqQBB8"
    },
    {
      "cell_type": "code",
      "execution_count": null,
      "metadata": {
        "id": "feed76cf"
      },
      "outputs": [],
      "source": [
        "NUM_CLASSES = 4\n",
        "NUM_CLUSTERS = 4\n",
        "NUM_PCA_COMPONENTS = 4\n",
        "BUFFER_SIZE = 1000\n",
        "BATCH_SIZE = 4\n",
        "EPOCHS = 60\n",
        "CLUSTERING_INTERVAL = 3\n",
        "DATA_DIR = '/content/data/voxel'\n",
        "IMAGE_SIZE = 128\n",
        "NUM_CHANNELS = 3\n",
        "PART = \"rim\"\n",
        "\n",
        "FEATURE_EXTRACTOR_MODEL_PATH = \"feature_extractor_20230312-128-swish-noise-single-random-IV3_JomonV7-1_{}_cls{}_ep{}.hdf5\".format(PART, NUM_CLUSTERS,EPOCHS)\n",
        "CLASSIFIER_MODEL_PATH = \"classifier_20230312-128-swish-noise-single-random-IV3_JomonV7-1_{}_cls{}_ep{}.hdf5\".format(PART, NUM_CLUSTERS,EPOCHS)\n",
        "DATASET_SAVE_PATH = \"pseudo_dataset_20230312-128-swish-noise-single-random-IV3_JomonV7-1_{}_cls{}_ep{}\".format(PART, NUM_CLUSTERS,EPOCHS)\n",
        "\n",
        "DATASAVE_DIR = \"JomonV7-1_{}_20230312-128-swish-noise-single-random-IV3_deg30_cls{}_ep{}\".format(PART, NUM_CLUSTERS,EPOCHS)\n"
      ],
      "id": "feed76cf"
    },
    {
      "cell_type": "markdown",
      "metadata": {
        "id": "2075eac1"
      },
      "source": [
        "## モデル定義"
      ],
      "id": "2075eac1"
    },
    {
      "cell_type": "code",
      "execution_count": null,
      "metadata": {
        "id": "135277a4"
      },
      "outputs": [],
      "source": [
        "class ConvNet3D(keras.Model):\n",
        "    def __init__(self):\n",
        "        super(ConvNet3D, self).__init__()\n",
        "        self.conv3d_1 = keras.layers.Conv3D(filters=64,\n",
        "                                            padding='same', kernel_size=3, activation='linear', name='conv3d_1')\n",
        "        self.bn_1 = keras.layers.BatchNormalization()\n",
        "        self.act_1 = keras.layers.Activation('swish')\n",
        "        self.maxpool3d_1 = keras.layers.MaxPool3D(pool_size=2)\n",
        "\n",
        "\n",
        "        self.conv3d_2 = keras.layers.Conv3D(filters=64,\n",
        "                                            padding='same', kernel_size=3, activation='linear', name='conv3d_2')\n",
        "        self.bn_2 = keras.layers.BatchNormalization()\n",
        "        self.act_2 = keras.layers.Activation('swish')\n",
        "        self.maxpool3d_2 = keras.layers.MaxPool3D(pool_size=2)\n",
        "\n",
        "\n",
        "        self.conv3d_3 = keras.layers.Conv3D(filters=128,\n",
        "                                            padding='same',  kernel_size=3, activation='linear', name='conv3d_3')\n",
        "        self.bn_3 = keras.layers.BatchNormalization()\n",
        "        self.act_3 = keras.layers.Activation('swish')\n",
        "        self.maxpool3d_3 = keras.layers.MaxPool3D(pool_size=2)\n",
        "\n",
        "\n",
        "        self.conv3d_4 = keras.layers.Conv3D(filters=256,\n",
        "                                            padding='same', kernel_size=3, activation='linear', name='conv3d_4')\n",
        "        self.bn_4 = keras.layers.BatchNormalization()\n",
        "        self.act_4 = keras.layers.Activation('swish')\n",
        "        self.maxpool3d_4 = keras.layers.MaxPool3D(pool_size=1)\n",
        "\n",
        "\n",
        "        self.gap_1 = keras.layers.GlobalAveragePooling3D()\n",
        "\n",
        "        self.dense_1 = keras.layers.Dense(128,\n",
        "                                          )\n",
        "\n",
        "    def call(self, inputs):\n",
        "        x = self.conv3d_1(inputs)\n",
        "        x = self.bn_1(x)\n",
        "        x = self.act_1(x)\n",
        "        x = self.maxpool3d_1(x)\n",
        "\n",
        "        x = self.conv3d_2(x)\n",
        "        x = self.bn_2(x)\n",
        "        x = self.act_2(x)\n",
        "        x = self.maxpool3d_2(x)\n",
        "\n",
        "        x = self.conv3d_3(x)\n",
        "        x = self.bn_3(x)\n",
        "        x = self.act_3(x)\n",
        "        x = self.maxpool3d_3(x)\n",
        "\n",
        "        x = self.conv3d_4(x)\n",
        "        x = self.bn_4(x)\n",
        "        x = self.act_4(x)\n",
        "        x = self.maxpool3d_4(x)\n",
        "\n",
        "        x = self.gap_1(x)\n",
        "        x = self.dense_1(x)\n",
        "        return x"
      ],
      "id": "135277a4"
    },
    {
      "cell_type": "code",
      "execution_count": null,
      "metadata": {
        "id": "YYH2hrqz1Ecm"
      },
      "outputs": [],
      "source": [
        "class Classify3D(tf.keras.Model):\n",
        "    def __init__(self, feature_extractor, num_of_classes=3):\n",
        "        super(Classify3D, self).__init__()\n",
        "        self.feature_extractor = feature_extractor\n",
        "        self.num_of_classes = num_of_classes\n",
        "        self.activation_1 = keras.layers.Activation(keras.activations.selu)\n",
        "        self.dense_1 = keras.layers.Dense(self.num_of_classes, activation='softmax')\n",
        "\n",
        "    def call(self, inputs):\n",
        "        x = self.feature_extractor(inputs)\n",
        "        x = self.activation_1(x)\n",
        "        x = self.dense_1(x)\n",
        "\n",
        "        return x"
      ],
      "id": "YYH2hrqz1Ecm"
    },
    {
      "cell_type": "code",
      "execution_count": null,
      "metadata": {
        "colab": {
          "base_uri": "https://localhost:8080/"
        },
        "id": "4d1a20f9",
        "outputId": "ab19a4f4-73f2-4646-9d0b-ebc834455f95"
      },
      "outputs": [
        {
          "output_type": "stream",
          "name": "stdout",
          "text": [
            "Model: \"conv_net3d\"\n",
            "_________________________________________________________________\n",
            " Layer (type)                Output Shape              Param #   \n",
            "=================================================================\n",
            " conv3d_1 (Conv3D)           multiple                  5248      \n",
            "                                                                 \n",
            " batch_normalization (Batch  multiple                  256       \n",
            " Normalization)                                                  \n",
            "                                                                 \n",
            " activation (Activation)     multiple                  0         \n",
            "                                                                 \n",
            " max_pooling3d (MaxPooling3  multiple                  0         \n",
            " D)                                                              \n",
            "                                                                 \n",
            " conv3d_2 (Conv3D)           multiple                  110656    \n",
            "                                                                 \n",
            " batch_normalization_1 (Bat  multiple                  256       \n",
            " chNormalization)                                                \n",
            "                                                                 \n",
            " activation_1 (Activation)   multiple                  0         \n",
            "                                                                 \n",
            " max_pooling3d_1 (MaxPoolin  multiple                  0         \n",
            " g3D)                                                            \n",
            "                                                                 \n",
            " conv3d_3 (Conv3D)           multiple                  221312    \n",
            "                                                                 \n",
            " batch_normalization_2 (Bat  multiple                  512       \n",
            " chNormalization)                                                \n",
            "                                                                 \n",
            " activation_2 (Activation)   multiple                  0         \n",
            "                                                                 \n",
            " max_pooling3d_2 (MaxPoolin  multiple                  0         \n",
            " g3D)                                                            \n",
            "                                                                 \n",
            " conv3d_4 (Conv3D)           multiple                  884992    \n",
            "                                                                 \n",
            " batch_normalization_3 (Bat  multiple                  1024      \n",
            " chNormalization)                                                \n",
            "                                                                 \n",
            " activation_3 (Activation)   multiple                  0         \n",
            "                                                                 \n",
            " max_pooling3d_3 (MaxPoolin  multiple                  0         \n",
            " g3D)                                                            \n",
            "                                                                 \n",
            " global_average_pooling3d (  multiple                  0         \n",
            " GlobalAveragePooling3D)                                         \n",
            "                                                                 \n",
            " dense (Dense)               multiple                  32896     \n",
            "                                                                 \n",
            "=================================================================\n",
            "Total params: 1257152 (4.80 MB)\n",
            "Trainable params: 1256128 (4.79 MB)\n",
            "Non-trainable params: 1024 (4.00 KB)\n",
            "_________________________________________________________________\n"
          ]
        }
      ],
      "source": [
        "feature_extractor = ConvNet3D()\n",
        "feature_extractor.build(input_shape=(BATCH_SIZE, IMAGE_SIZE, IMAGE_SIZE, IMAGE_SIZE, NUM_CHANNELS))\n",
        "feature_extractor.summary()"
      ],
      "id": "4d1a20f9"
    },
    {
      "cell_type": "code",
      "execution_count": null,
      "metadata": {
        "colab": {
          "base_uri": "https://localhost:8080/"
        },
        "id": "a0683a3c",
        "outputId": "4a1fad04-ce39-40c3-b465-efc77d085e0c"
      },
      "outputs": [
        {
          "output_type": "stream",
          "name": "stdout",
          "text": [
            "Model: \"classify3d\"\n",
            "_________________________________________________________________\n",
            " Layer (type)                Output Shape              Param #   \n",
            "=================================================================\n",
            " conv_net3d (ConvNet3D)      multiple                  1257152   \n",
            "                                                                 \n",
            " activation_4 (Activation)   multiple                  0         \n",
            "                                                                 \n",
            " dense_1 (Dense)             multiple                  516       \n",
            "                                                                 \n",
            "=================================================================\n",
            "Total params: 1257668 (4.80 MB)\n",
            "Trainable params: 1256644 (4.79 MB)\n",
            "Non-trainable params: 1024 (4.00 KB)\n",
            "_________________________________________________________________\n"
          ]
        }
      ],
      "source": [
        "classifier = Classify3D(feature_extractor, num_of_classes=NUM_CLASSES)\n",
        "classifier.build(input_shape=(BATCH_SIZE, IMAGE_SIZE, IMAGE_SIZE, IMAGE_SIZE, NUM_CHANNELS))\n",
        "classifier.summary()"
      ],
      "id": "a0683a3c"
    },
    {
      "cell_type": "code",
      "execution_count": null,
      "metadata": {
        "id": "00e7de59"
      },
      "outputs": [],
      "source": [
        "pca = PCA(n_components=NUM_PCA_COMPONENTS)\n",
        "\n",
        "stdsc = StandardScaler()\n",
        "\n",
        "kmc = KMeans(n_clusters=NUM_CLUSTERS, init='k-means++', n_init=2, max_iter=300,\n",
        "                       tol=0.0001, verbose=0, random_state=123, copy_x=True)"
      ],
      "id": "00e7de59"
    },
    {
      "cell_type": "code",
      "execution_count": null,
      "metadata": {
        "id": "ZFxU5bUEPcSA"
      },
      "outputs": [],
      "source": [],
      "id": "ZFxU5bUEPcSA"
    },
    {
      "cell_type": "markdown",
      "metadata": {
        "id": "8a3126a6"
      },
      "source": [
        "## データ準備"
      ],
      "id": "8a3126a6"
    },
    {
      "cell_type": "code",
      "execution_count": null,
      "metadata": {
        "id": "b5fc3646"
      },
      "outputs": [],
      "source": [
        "train_pattern = DATA_DIR +'/rm*_{}_*_{}.npy'.format(IMAGE_SIZE, PART)\n",
        "\n",
        "train_list_ds = tf.data.Dataset.list_files(train_pattern, shuffle=False)\n",
        "\n",
        "# 学習中の混同行列表示用に正解ラベルを格納する（推論モードから入りラベルを変更するためモデルは読み込まない）\n",
        "# 今回は全て0を入れる\n",
        "train_ids = list(np.zeros(len(train_list_ds)))\n",
        "\n",
        "train_label_ds = tf.data.Dataset.from_tensor_slices(tf.cast(train_ids, tf.int64))"
      ],
      "id": "b5fc3646"
    },
    {
      "cell_type": "code",
      "execution_count": null,
      "metadata": {
        "id": "6bI1CJEkAUbJ"
      },
      "outputs": [],
      "source": [],
      "id": "6bI1CJEkAUbJ"
    },
    {
      "cell_type": "code",
      "execution_count": null,
      "metadata": {
        "id": "1e854c64"
      },
      "outputs": [],
      "source": [
        "def read_npy_file(path):\n",
        "    voxel_data = np.load(path.numpy())\n",
        "    #RGBAが全て0ならばランダム値をいれてAチャネルを切る\n",
        "    data = np.where(np.all(voxel_data, axis=3, keepdims=True) ==0, np.random.randint(0, 256,(IMAGE_SIZE,IMAGE_SIZE,IMAGE_SIZE,4)), voxel_data)[:,:,:,0:3]/255\n",
        "    return tf.convert_to_tensor(data, dtype=tf.float32)"
      ],
      "id": "1e854c64"
    },
    {
      "cell_type": "code",
      "execution_count": null,
      "metadata": {
        "id": "96ccb6e3"
      },
      "outputs": [],
      "source": [
        "train_3d_ds = train_list_ds.map(\n",
        "        lambda item: tf.py_function(read_npy_file, [item], tf.float32))#.cache(filename='./cache.tf-data')"
      ],
      "id": "96ccb6e3"
    },
    {
      "cell_type": "markdown",
      "metadata": {
        "id": "5d4f898d"
      },
      "source": [
        "## モデルの学習"
      ],
      "id": "5d4f898d"
    },
    {
      "cell_type": "code",
      "execution_count": null,
      "metadata": {
        "colab": {
          "base_uri": "https://localhost:8080/"
        },
        "id": "CeHJ_QUkkPda",
        "outputId": "f274adc0-dca4-4a75-9256-3fa18e4d2661"
      },
      "outputs": [
        {
          "output_type": "stream",
          "name": "stdout",
          "text": [
            "Tue Mar 12 14:07:50 2024       \n",
            "+---------------------------------------------------------------------------------------+\n",
            "| NVIDIA-SMI 535.104.05             Driver Version: 535.104.05   CUDA Version: 12.2     |\n",
            "|-----------------------------------------+----------------------+----------------------+\n",
            "| GPU  Name                 Persistence-M | Bus-Id        Disp.A | Volatile Uncorr. ECC |\n",
            "| Fan  Temp   Perf          Pwr:Usage/Cap |         Memory-Usage | GPU-Util  Compute M. |\n",
            "|                                         |                      |               MIG M. |\n",
            "|=========================================+======================+======================|\n",
            "|   0  NVIDIA A100-SXM4-40GB          Off | 00000000:00:04.0 Off |                    0 |\n",
            "| N/A   32C    P0              50W / 400W |    455MiB / 40960MiB |      0%      Default |\n",
            "|                                         |                      |             Disabled |\n",
            "+-----------------------------------------+----------------------+----------------------+\n",
            "                                                                                         \n",
            "+---------------------------------------------------------------------------------------+\n",
            "| Processes:                                                                            |\n",
            "|  GPU   GI   CI        PID   Type   Process name                            GPU Memory |\n",
            "|        ID   ID                                                             Usage      |\n",
            "|=======================================================================================|\n",
            "+---------------------------------------------------------------------------------------+\n"
          ]
        }
      ],
      "source": [
        "!nvidia-smi"
      ],
      "id": "CeHJ_QUkkPda"
    },
    {
      "cell_type": "code",
      "execution_count": null,
      "metadata": {
        "id": "m9ffRB_-pqpt"
      },
      "outputs": [],
      "source": [],
      "id": "m9ffRB_-pqpt"
    },
    {
      "cell_type": "code",
      "execution_count": null,
      "metadata": {
        "colab": {
          "base_uri": "https://localhost:8080/"
        },
        "id": "2161662a",
        "outputId": "c6a213cb-a6ff-4456-cc29-b198eee4814e",
        "scrolled": false
      },
      "outputs": [
        {
          "metadata": {
            "tags": null
          },
          "name": "stdout",
          "output_type": "stream",
          "text": [
            "Epoch: 0, Distortion: 1049.79\n",
            "[[115  92 172  89]\n",
            " [  0   0   0   0]\n",
            " [  0   0   0   0]\n",
            " [  0   0   0   0]]\n"
          ]
        },
        {
          "metadata": {
            "tags": null
          },
          "name": "stderr",
          "output_type": "stream",
          "text": [
            "WARNING:tensorflow:5 out of the last 5 calls to <function _BaseOptimizer._update_step_xla at 0x7e6cdbf02b00> triggered tf.function retracing. Tracing is expensive and the excessive number of tracings could be due to (1) creating @tf.function repeatedly in a loop, (2) passing tensors with different shapes, (3) passing Python objects instead of tensors. For (1), please define your @tf.function outside of the loop. For (2), @tf.function has reduce_retracing=True option that can avoid unnecessary retracing. For (3), please refer to https://www.tensorflow.org/guide/function#controlling_retracing and https://www.tensorflow.org/api_docs/python/tf/function for  more details.\n",
            "WARNING:tensorflow:6 out of the last 6 calls to <function _BaseOptimizer._update_step_xla at 0x7e6cdbf02b00> triggered tf.function retracing. Tracing is expensive and the excessive number of tracings could be due to (1) creating @tf.function repeatedly in a loop, (2) passing tensors with different shapes, (3) passing Python objects instead of tensors. For (1), please define your @tf.function outside of the loop. For (2), @tf.function has reduce_retracing=True option that can avoid unnecessary retracing. For (3), please refer to https://www.tensorflow.org/guide/function#controlling_retracing and https://www.tensorflow.org/api_docs/python/tf/function for  more details.\n"
          ]
        },
        {
          "output_type": "stream",
          "name": "stdout",
          "text": [
            "Epoch 1, Loss: 0.9662390947341919, Accuracy: 58.5470085144043\n",
            "Epoch 2, Loss: 0.7700316309928894, Accuracy: 69.23077392578125\n",
            "Epoch 3, Loss: 0.7547745704650879, Accuracy: 71.79487609863281\n",
            "Epoch: 3, Distortion: 1024.18\n",
            "[[103 160 102 103]\n",
            " [  0   0   0   0]\n",
            " [  0   0   0   0]\n",
            " [  0   0   0   0]]\n",
            "Epoch 4, Loss: 0.9017398357391357, Accuracy: 60.47008514404297\n",
            "Epoch 5, Loss: 0.6976943016052246, Accuracy: 73.29059600830078\n",
            "Epoch 6, Loss: 0.6336714625358582, Accuracy: 78.20512390136719\n",
            "Epoch: 6, Distortion: 973.33\n",
            "[[ 81 161 103 123]\n",
            " [  0   0   0   0]\n",
            " [  0   0   0   0]\n",
            " [  0   0   0   0]]\n",
            "Epoch 7, Loss: 0.51955246925354, Accuracy: 80.12820434570312\n",
            "Epoch 8, Loss: 0.5246483683586121, Accuracy: 77.991455078125\n",
            "Epoch 9, Loss: 0.47796887159347534, Accuracy: 81.4102554321289\n",
            "Epoch: 9, Distortion: 825.36\n",
            "[[135 203  96  34]\n",
            " [  0   0   0   0]\n",
            " [  0   0   0   0]\n",
            " [  0   0   0   0]]\n",
            "Epoch 10, Loss: 0.6343607902526855, Accuracy: 76.4957275390625\n",
            "Epoch 11, Loss: 0.3973286747932434, Accuracy: 85.47008514404297\n",
            "Epoch 12, Loss: 0.3482963740825653, Accuracy: 88.67521667480469\n",
            "Epoch: 12, Distortion: 941.83\n",
            "[[ 68 128 183  89]\n",
            " [  0   0   0   0]\n",
            " [  0   0   0   0]\n",
            " [  0   0   0   0]]\n",
            "Epoch 13, Loss: 0.8491267561912537, Accuracy: 66.025634765625\n",
            "Epoch 14, Loss: 0.5561323165893555, Accuracy: 78.20512390136719\n",
            "Epoch 15, Loss: 0.43518176674842834, Accuracy: 84.61538696289062\n",
            "Epoch: 15, Distortion: 917.89\n",
            "[[ 78  84 120 186]\n",
            " [  0   0   0   0]\n",
            " [  0   0   0   0]\n",
            " [  0   0   0   0]]\n",
            "Epoch 16, Loss: 0.9461109638214111, Accuracy: 67.52136993408203\n",
            "Epoch 17, Loss: 0.4903533160686493, Accuracy: 83.11965942382812\n",
            "Epoch 18, Loss: 0.4105567932128906, Accuracy: 83.76068115234375\n",
            "Epoch: 18, Distortion: 909.86\n",
            "[[ 72 120 181  95]\n",
            " [  0   0   0   0]\n",
            " [  0   0   0   0]\n",
            " [  0   0   0   0]]\n",
            "Epoch 19, Loss: 1.1389447450637817, Accuracy: 58.5470085144043\n",
            "Epoch 20, Loss: 0.5643919706344604, Accuracy: 80.55555725097656\n",
            "Epoch 21, Loss: 0.3411400020122528, Accuracy: 88.67521667480469\n",
            "Epoch: 21, Distortion: 906.94\n",
            "[[ 98  96  96 178]\n",
            " [  0   0   0   0]\n",
            " [  0   0   0   0]\n",
            " [  0   0   0   0]]\n",
            "Epoch 22, Loss: 1.0778710842132568, Accuracy: 59.829063415527344\n",
            "Epoch 23, Loss: 0.4934904873371124, Accuracy: 81.19657897949219\n",
            "Epoch 24, Loss: 0.4957517683506012, Accuracy: 82.69230651855469\n",
            "Epoch: 24, Distortion: 917.10\n",
            "[[ 96 110  95 167]\n",
            " [  0   0   0   0]\n",
            " [  0   0   0   0]\n",
            " [  0   0   0   0]]\n",
            "Epoch 25, Loss: 1.0109385251998901, Accuracy: 64.31623840332031\n",
            "Epoch 26, Loss: 0.5680748224258423, Accuracy: 77.991455078125\n",
            "Epoch 27, Loss: 0.4966975450515747, Accuracy: 81.19657897949219\n",
            "Epoch: 27, Distortion: 858.89\n",
            "[[120 144  24 180]\n",
            " [  0   0   0   0]\n",
            " [  0   0   0   0]\n",
            " [  0   0   0   0]]\n",
            "Epoch 28, Loss: 0.5373544096946716, Accuracy: 81.62393188476562\n",
            "Epoch 29, Loss: 0.4078401029109955, Accuracy: 83.76068115234375\n",
            "Epoch 30, Loss: 0.3751813471317291, Accuracy: 86.1111068725586\n",
            "Epoch: 30, Distortion: 837.29\n",
            "[[152 132 157  27]\n",
            " [  0   0   0   0]\n",
            " [  0   0   0   0]\n",
            " [  0   0   0   0]]\n",
            "Epoch 31, Loss: 1.1246145963668823, Accuracy: 62.606834411621094\n",
            "Epoch 32, Loss: 0.5940720438957214, Accuracy: 73.07691955566406\n",
            "Epoch 33, Loss: 0.4946797490119934, Accuracy: 81.62393188476562\n",
            "Epoch: 33, Distortion: 885.83\n",
            "[[ 84 155  83 146]\n",
            " [  0   0   0   0]\n",
            " [  0   0   0   0]\n",
            " [  0   0   0   0]]\n",
            "Epoch 34, Loss: 1.0878863334655762, Accuracy: 60.04273223876953\n",
            "Epoch 35, Loss: 0.5400635004043579, Accuracy: 78.84615325927734\n",
            "Epoch 36, Loss: 0.42189332842826843, Accuracy: 84.61538696289062\n",
            "Epoch: 36, Distortion: 803.25\n",
            "[[107 193  43 125]\n",
            " [  0   0   0   0]\n",
            " [  0   0   0   0]\n",
            " [  0   0   0   0]]\n",
            "Epoch 37, Loss: 0.9114114046096802, Accuracy: 55.982906341552734\n",
            "Epoch 38, Loss: 0.5513389706611633, Accuracy: 77.35042572021484\n",
            "Epoch 39, Loss: 0.491613507270813, Accuracy: 82.9059829711914\n",
            "Epoch: 39, Distortion: 871.40\n",
            "[[158 103 156  51]\n",
            " [  0   0   0   0]\n",
            " [  0   0   0   0]\n",
            " [  0   0   0   0]]\n",
            "Epoch 40, Loss: 1.1480093002319336, Accuracy: 62.82051086425781\n",
            "Epoch 41, Loss: 0.4433382451534271, Accuracy: 85.47008514404297\n",
            "Epoch 42, Loss: 0.4481828510761261, Accuracy: 81.62393188476562\n",
            "Epoch: 42, Distortion: 838.39\n",
            "[[124 194  44 106]\n",
            " [  0   0   0   0]\n",
            " [  0   0   0   0]\n",
            " [  0   0   0   0]]\n",
            "Epoch 43, Loss: 0.7538184523582458, Accuracy: 70.5128173828125\n",
            "Epoch 44, Loss: 0.46219402551651, Accuracy: 82.47863006591797\n",
            "Epoch 45, Loss: 0.3544163107872009, Accuracy: 89.31623840332031\n",
            "Epoch: 45, Distortion: 811.23\n",
            "[[108  48 192 120]\n",
            " [  0   0   0   0]\n",
            " [  0   0   0   0]\n",
            " [  0   0   0   0]]\n",
            "Epoch 46, Loss: 1.342543363571167, Accuracy: 50.21367645263672\n",
            "Epoch 47, Loss: 0.6584900617599487, Accuracy: 75.85469818115234\n",
            "Epoch 48, Loss: 0.4987524747848511, Accuracy: 82.05128479003906\n",
            "Epoch: 48, Distortion: 799.86\n",
            "[[120 108 192  48]\n",
            " [  0   0   0   0]\n",
            " [  0   0   0   0]\n",
            " [  0   0   0   0]]\n",
            "Epoch 49, Loss: 0.8776386976242065, Accuracy: 66.66667175292969\n",
            "Epoch 50, Loss: 0.48735836148262024, Accuracy: 81.62393188476562\n",
            "Epoch 51, Loss: 0.3943496346473694, Accuracy: 86.32478332519531\n",
            "Epoch: 51, Distortion: 785.05\n",
            "[[120 108  48 192]\n",
            " [  0   0   0   0]\n",
            " [  0   0   0   0]\n",
            " [  0   0   0   0]]\n",
            "Epoch 52, Loss: 0.7008188366889954, Accuracy: 77.991455078125\n",
            "Epoch 53, Loss: 0.3650348484516144, Accuracy: 87.17948913574219\n",
            "Epoch 54, Loss: 0.30197352170944214, Accuracy: 89.95726776123047\n",
            "Epoch: 54, Distortion: 772.66\n",
            "[[120 108  48 192]\n",
            " [  0   0   0   0]\n",
            " [  0   0   0   0]\n",
            " [  0   0   0   0]]\n",
            "Epoch 55, Loss: 0.2757071554660797, Accuracy: 90.17093658447266\n",
            "Epoch 56, Loss: 0.21798133850097656, Accuracy: 92.30769348144531\n",
            "Epoch 57, Loss: 0.1744110882282257, Accuracy: 95.94017028808594\n",
            "Epoch: 57, Distortion: 747.57\n",
            "[[120 108 192  48]\n",
            " [  0   0   0   0]\n",
            " [  0   0   0   0]\n",
            " [  0   0   0   0]]\n",
            "Epoch 58, Loss: 0.5482949018478394, Accuracy: 80.98290252685547\n",
            "Epoch 59, Loss: 0.35220178961753845, Accuracy: 87.6068344116211\n",
            "Epoch 60, Loss: 0.27156320214271545, Accuracy: 91.23931884765625\n"
          ]
        }
      ],
      "source": [
        "\n",
        "loss_fn = tf.keras.losses.SparseCategoricalCrossentropy()\n",
        "optimizer = tf.optimizers.Adam(learning_rate=1.0e-4)\n",
        "\n",
        "train_loss = tf.keras.metrics.Mean(name='train_loss')\n",
        "train_accuracy = tf.keras.metrics.SparseCategoricalAccuracy(name='train_accuracy')\n",
        "\n",
        "\n",
        "for epoch in range(EPOCHS):\n",
        "    if epoch % CLUSTERING_INTERVAL == 0:\n",
        "        features_list= [feature_extractor(batch_x, training=False) \\\n",
        "                         for batch_x in train_3d_ds.batch(BATCH_SIZE).prefetch(1)]\n",
        "\n",
        "\n",
        "        #分類クラスタリング\n",
        "        features = np.vstack([rslt for rslt in features_list])\n",
        "        #PCA\n",
        "        features_pca = pca.fit_transform(features)\n",
        "        #PCA後標準化\n",
        "        features_std = stdsc.fit_transform(features_pca)\n",
        "        km_predictions = kmc.fit_predict(features_std)\n",
        "        cluster_matrix = np.zeros((NUM_CLASSES, NUM_CLUSTERS), dtype=np.int32)\n",
        "\n",
        "        for i, cat_id in enumerate(train_label_ds.batch(BATCH_SIZE)):\n",
        "          for true, kmp in zip(cat_id,km_predictions[i*BATCH_SIZE:(i+1)*BATCH_SIZE]):\n",
        "            cluster_matrix[true, kmp] += 1\n",
        "\n",
        "        print(\"Epoch: {}, Distortion: {:.2f}\".format(epoch, kmc.inertia_))\n",
        "        print(cluster_matrix)\n",
        "\n",
        "        #仮ラベルのデータセット\n",
        "        pseudo_label_ds = tf.data.Dataset.from_tensor_slices(tf.cast(\\\n",
        "                                                  np.array(km_predictions).T, tf.int64))\n",
        "        #仮ラベルの学習データセット\n",
        "        train_dataset = tf.data.Dataset.zip((train_3d_ds, pseudo_label_ds)).shuffle(BUFFER_SIZE).batch(BATCH_SIZE)\n",
        "\n",
        "\n",
        "    for step, (x_batch_train, y_batch_train) in enumerate(train_dataset):\n",
        "\n",
        "        with tf.GradientTape() as tape:\n",
        "\n",
        "            y = classifier(x_batch_train, training=True)\n",
        "            loss = loss_fn(y_batch_train, y)\n",
        "\n",
        "        grads = tape.gradient(loss, classifier.trainable_weights)\n",
        "        optimizer.apply_gradients(zip(grads, classifier.trainable_weights))\n",
        "\n",
        "        train_loss(loss)\n",
        "        train_accuracy(y_batch_train, y)\n",
        "\n",
        "\n",
        "\n",
        "    template = 'Epoch {}, Loss: {}, Accuracy: {}'\n",
        "\n",
        "\n",
        "    print (template.format(epoch+1,\n",
        "                         train_loss.result(),\n",
        "                         train_accuracy.result()*100))\n",
        "    #reset0\n",
        "    train_loss.reset_states()\n",
        "    train_accuracy.reset_states()"
      ],
      "id": "2161662a"
    },
    {
      "cell_type": "code",
      "execution_count": null,
      "metadata": {
        "id": "vpmdnQiJy2zP"
      },
      "outputs": [],
      "source": [],
      "id": "vpmdnQiJy2zP"
    },
    {
      "cell_type": "code",
      "execution_count": null,
      "metadata": {
        "id": "VoHXAVXOiiAM"
      },
      "outputs": [],
      "source": [],
      "id": "VoHXAVXOiiAM"
    },
    {
      "cell_type": "code",
      "execution_count": null,
      "metadata": {
        "id": "n5bZvzSiBM3w"
      },
      "outputs": [],
      "source": [],
      "id": "n5bZvzSiBM3w"
    },
    {
      "cell_type": "markdown",
      "metadata": {
        "id": "xIYz0L1KRW74"
      },
      "source": [
        "## 仮ラベル付きのデータセットとモデルを保存する\n",
        " ・データのパスと仮ラベルの組合せのデータセットを保存"
      ],
      "id": "xIYz0L1KRW74"
    },
    {
      "cell_type": "code",
      "execution_count": null,
      "metadata": {
        "colab": {
          "base_uri": "https://localhost:8080/"
        },
        "id": "tkwqwUTERWKI",
        "outputId": "88fbc0bf-b67d-4003-a42d-9a5d48741181"
      },
      "outputs": [
        {
          "metadata": {
            "tags": null
          },
          "name": "stderr",
          "output_type": "stream",
          "text": [
            "WARNING:tensorflow:From <ipython-input-28-bbae90bb0c4c>:1: save (from tensorflow.python.data.experimental.ops.io) is deprecated and will be removed in a future version.\n",
            "Instructions for updating:\n",
            "Use `tf.data.Dataset.save(...)` instead.\n"
          ]
        }
      ],
      "source": [
        "tf.data.experimental.save(tf.data.Dataset.zip((train_list_ds, pseudo_label_ds)), DATASET_SAVE_PATH)\n",
        "tf.data.experimental.save(tf.data.Dataset.zip((train_list_ds, train_label_ds)), DATASET_SAVE_PATH+\"-inital\")"
      ],
      "id": "tkwqwUTERWKI"
    },
    {
      "cell_type": "code",
      "execution_count": null,
      "metadata": {
        "colab": {
          "base_uri": "https://localhost:8080/"
        },
        "id": "mmqm6NxbcRMU",
        "outputId": "9cff44ce-b1d4-4138-d06d-b740336d1965"
      },
      "outputs": [
        {
          "output_type": "stream",
          "name": "stderr",
          "text": [
            "WARNING:tensorflow:From <ipython-input-29-26d35ae92926>:2: load (from tensorflow.python.data.experimental.ops.io) is deprecated and will be removed in a future version.\n",
            "Instructions for updating:\n",
            "Use `tf.data.Dataset.load(...)` instead.\n"
          ]
        }
      ],
      "source": [
        "#データセットの読み込み用\n",
        "pseudo_dataset = tf.data.experimental.load(DATASET_SAVE_PATH)"
      ],
      "id": "mmqm6NxbcRMU"
    },
    {
      "cell_type": "code",
      "execution_count": null,
      "metadata": {
        "id": "XimIPFfGs5su"
      },
      "outputs": [],
      "source": [
        "feature_extractor.save_weights(FEATURE_EXTRACTOR_MODEL_PATH)\n",
        "classifier.save_weights(CLASSIFIER_MODEL_PATH)"
      ],
      "id": "XimIPFfGs5su"
    },
    {
      "cell_type": "markdown",
      "metadata": {
        "id": "758ba10c"
      },
      "source": [
        "## 学習済みモデルを使用したクラスタリング"
      ],
      "id": "758ba10c"
    },
    {
      "cell_type": "code",
      "execution_count": null,
      "metadata": {
        "id": "R0phCzAhQw0l"
      },
      "outputs": [],
      "source": [],
      "id": "R0phCzAhQw0l"
    },
    {
      "cell_type": "code",
      "execution_count": null,
      "metadata": {
        "id": "805a9916"
      },
      "outputs": [],
      "source": [
        "features_list = [feature_extractor(batch, training=False) for batch in train_3d_ds.batch(BATCH_SIZE)]\n",
        "\n",
        "features = np.vstack([rslt for rslt in features_list])\n",
        "\n",
        "features_pca = pca.fit_transform(features)\n",
        "features_std = stdsc.fit_transform(features_pca)\n",
        "\n",
        "km_predictions = kmc.fit_predict(features_std)\n",
        "\n",
        "\n",
        "np.save('features.npy', features)\n",
        "np.save('features_pca.npy', features_pca)\n",
        "np.save('features_std.npy', features_std)\n",
        "np.save('km_predictions.npy', km_predictions)"
      ],
      "id": "805a9916"
    },
    {
      "cell_type": "code",
      "execution_count": null,
      "metadata": {
        "id": "EeqMv0_DL6MK"
      },
      "outputs": [],
      "source": [
        "##ドライブへ一時退避\n",
        "!mkdir /content/drive/MyDrive/jomon/jomon/{DATASAVE_DIR}\n",
        "!cp -r *.npy {FEATURE_EXTRACTOR_MODEL_PATH} {CLASSIFIER_MODEL_PATH} {DATASET_SAVE_PATH} {DATASET_SAVE_PATH}-inital /content/drive/MyDrive/jomon/jomon/{DATASAVE_DIR}"
      ],
      "id": "EeqMv0_DL6MK"
    },
    {
      "cell_type": "code",
      "execution_count": null,
      "metadata": {
        "id": "vAHFPUhpucH3"
      },
      "outputs": [],
      "source": [
        "!cp -r /content/drive/MyDrive/jomon/jomon/{DATASAVE_DIR} ./"
      ],
      "id": "vAHFPUhpucH3"
    },
    {
      "cell_type": "code",
      "execution_count": null,
      "metadata": {
        "id": "MZSMTUNIuZzT"
      },
      "outputs": [],
      "source": [
        "num = []\n",
        "name = []\n",
        "true_type = []\n",
        "true_age = []\n",
        "pseudo_id = []\n",
        "cluster_id = []\n",
        "initial_id = []\n",
        "\n",
        "\n",
        "\n",
        "for i, d in enumerate(pseudo_dataset):\n",
        "  name.append(os.path.splitext(os.path.basename(d[0].numpy().decode()))[0].split('_',2)[0])\n",
        "  pseudo_id.append(d[1].numpy())\n",
        "  num.append(os.path.splitext(os.path.basename(d[0].numpy().decode()))[0].split('_',2)[2])\n",
        "\n",
        "for k in km_predictions:\n",
        "  cluster_id.append(k)\n",
        "\n",
        "for i in train_label_ds:\n",
        "  initial_id.append(i.numpy())\n",
        "\n",
        "\n",
        "pseudo_df = pd.DataFrame(list(zip(name, num, \\\n",
        "                                  initial_id, \\\n",
        "                                  pseudo_id, cluster_id)), columns = \\\n",
        "                  ['列品番号','回転角度',\\\n",
        "                   '初期ラベル-ID',\\\n",
        "                   '疑似ラベル-ID','クラスタ-ID'])\n",
        "pseudo_df.to_csv(DATASET_SAVE_PATH+\".csv\")"
      ],
      "id": "MZSMTUNIuZzT"
    },
    {
      "cell_type": "code",
      "execution_count": null,
      "metadata": {
        "id": "96wPw3OWmgVu"
      },
      "outputs": [],
      "source": [
        "gc.collect()"
      ],
      "id": "96wPw3OWmgVu"
    },
    {
      "cell_type": "markdown",
      "metadata": {
        "id": "85596152"
      },
      "source": [
        "## クラスタ可視化"
      ],
      "id": "85596152"
    },
    {
      "cell_type": "markdown",
      "metadata": {
        "id": "FXoZggZybvh_"
      },
      "source": [
        "### plot用のラベル"
      ],
      "id": "FXoZggZybvh_"
    },
    {
      "cell_type": "code",
      "execution_count": null,
      "metadata": {
        "id": "ztIlm672bqAO"
      },
      "outputs": [],
      "source": [
        "pseudo_dataset = tf.data.experimental.load(DATASET_SAVE_PATH)"
      ],
      "id": "ztIlm672bqAO"
    },
    {
      "cell_type": "code",
      "execution_count": null,
      "metadata": {
        "id": "w_Bc2zVYbtlH"
      },
      "outputs": [],
      "source": [
        "\n",
        "cc_re = re.compile(r'.+/(.+?)_[0-9]+_[0-9]+_(.+?).npy')\n",
        "name_list = [ cc_re.match(item.numpy().decode())[1]+\"_\"+cc_re.match(item.numpy().decode())[2] for item, label in pseudo_dataset]"
      ],
      "id": "w_Bc2zVYbtlH"
    },
    {
      "cell_type": "markdown",
      "metadata": {
        "id": "2ea82361"
      },
      "source": [
        "### PCA"
      ],
      "id": "2ea82361"
    },
    {
      "cell_type": "code",
      "execution_count": null,
      "metadata": {
        "id": "K2-Ya7QmMbxH"
      },
      "outputs": [],
      "source": [],
      "id": "K2-Ya7QmMbxH"
    },
    {
      "cell_type": "code",
      "execution_count": null,
      "metadata": {
        "colab": {
          "base_uri": "https://localhost:8080/",
          "height": 1000
        },
        "id": "NJTDxu0nJhxd",
        "outputId": "b0a1591d-db35-4d4d-d3ad-9cde8d0319cb"
      },
      "outputs": [
        {
          "output_type": "display_data",
          "data": {
            "text/html": [
              "<html>\n",
              "<head><meta charset=\"utf-8\" /></head>\n",
              "<body>\n",
              "    <div>            <script src=\"https://cdnjs.cloudflare.com/ajax/libs/mathjax/2.7.5/MathJax.js?config=TeX-AMS-MML_SVG\"></script><script type=\"text/javascript\">if (window.MathJax && window.MathJax.Hub && window.MathJax.Hub.Config) {window.MathJax.Hub.Config({SVG: {font: \"STIX-Web\"}});}</script>                <script type=\"text/javascript\">window.PlotlyConfig = {MathJaxConfig: 'local'};</script>\n",
              "        <script charset=\"utf-8\" src=\"https://cdn.plot.ly/plotly-2.24.1.min.js\"></script>                <div id=\"cee87f0a-bf1c-470b-b0de-daf16808695e\" class=\"plotly-graph-div\" style=\"height:1000px; width:1000px;\"></div>            <script type=\"text/javascript\">                                    window.PLOTLYENV=window.PLOTLYENV || {};                                    if (document.getElementById(\"cee87f0a-bf1c-470b-b0de-daf16808695e\")) {                    Plotly.newPlot(                        \"cee87f0a-bf1c-470b-b0de-daf16808695e\",                        [{\"hovertemplate\":\"Categories=0\\u003cbr\\u003esymbol=0\\u003cbr\\u003e0=%{x}\\u003cbr\\u003e1=%{y}\\u003cbr\\u003esize=%{marker.size}\\u003cbr\\u003etext=%{text}\\u003cextra\\u003e\\u003c\\u002fextra\\u003e\",\"legendgroup\":\"0, 0\",\"marker\":{\"color\":\"#636efa\",\"size\":[10,10,10,10,10,10,10,10,10,10,10,10,10,10,10,10,10,10,10,10,10,10,10,10,10,10,10,10,10,10,10,10,10,10,10,10,10,10,10,10,10,10,10,10,10,10,10,10,10,10,10,10,10,10,10,10,10,10,10,10,10,10,10,10,10,10,10,10,10,10,10,10,10,10,10,10,10,10,10,10,10,10,10,10,10,10,10,10,10,10,10,10,10,10,10,10,10,10,10,10,10,10,10,10,10,10,10,10,10,10,10,10,10,10,10,10,10,10,10,10],\"sizemode\":\"area\",\"sizeref\":0.1,\"symbol\":\"circle\"},\"mode\":\"markers+text\",\"name\":\"0, 0\",\"orientation\":\"v\",\"showlegend\":true,\"text\":[\"rm1316_rim\",\"rm0699_rim\",\"rm0699_rim\",\"rm0699_rim\",\"rm0699_rim\",\"rm0699_rim\",\"rm0699_rim\",\"rm0699_rim\",\"rm1022_rim\",\"rm1348_rim\",\"rm1348_rim\",\"rm1348_rim\",\"rm1348_rim\",\"rm1348_rim\",\"rm1348_rim\",\"rm1348_rim\",\"rm0699_rim\",\"rm1348_rim\",\"rm0699_rim\",\"rm0681_rim\",\"rm1022_rim\",\"rm1022_rim\",\"rm0699_rim\",\"rm0699_rim\",\"rm0699_rim\",\"rm0681_rim\",\"rm0681_rim\",\"rm0681_rim\",\"rm0681_rim\",\"rm0681_rim\",\"rm0681_rim\",\"rm0681_rim\",\"rm0681_rim\",\"rm0681_rim\",\"rm0681_rim\",\"rm0681_rim\",\"rm1348_rim\",\"rm1348_rim\",\"rm1348_rim\",\"rm1316_rim\",\"rm1316_rim\",\"rm1316_rim\",\"rm1316_rim\",\"rm1316_rim\",\"rm1313_rim\",\"rm1313_rim\",\"rm1313_rim\",\"rm1313_rim\",\"rm1313_rim\",\"rm1313_rim\",\"rm1313_rim\",\"rm1313_rim\",\"rm1313_rim\",\"rm1313_rim\",\"rm1316_rim\",\"rm1316_rim\",\"rm1316_rim\",\"rm1316_rim\",\"rm1348_rim\",\"rm1321_rim\",\"rm1321_rim\",\"rm1321_rim\",\"rm1321_rim\",\"rm1321_rim\",\"rm1321_rim\",\"rm1022_rim\",\"rm1321_rim\",\"rm1321_rim\",\"rm1321_rim\",\"rm1321_rim\",\"rm1321_rim\",\"rm1022_rim\",\"rm1316_rim\",\"rm1316_rim\",\"rm1321_rim\",\"rm1022_rim\",\"rm1022_rim\",\"rm1022_rim\",\"rm0493_rim\",\"rm0493_rim\",\"rm0493_rim\",\"rm0732_rim\",\"rm0732_rim\",\"rm0732_rim\",\"rm1313_rim\",\"rm0750_rim\",\"rm0750_rim\",\"rm0750_rim\",\"rm0750_rim\",\"rm0750_rim\",\"rm0750_rim\",\"rm0750_rim\",\"rm0750_rim\",\"rm0750_rim\",\"rm0750_rim\",\"rm0750_rim\",\"rm0750_rim\",\"rm0493_rim\",\"rm0493_rim\",\"rm1313_rim\",\"rm0493_rim\",\"rm1022_rim\",\"rm1022_rim\",\"rm1022_rim\",\"rm0493_rim\",\"rm0732_rim\",\"rm0732_rim\",\"rm0732_rim\",\"rm0732_rim\",\"rm0732_rim\",\"rm0732_rim\",\"rm0732_rim\",\"rm1022_rim\",\"rm0493_rim\",\"rm0493_rim\",\"rm0493_rim\",\"rm0732_rim\",\"rm0732_rim\",\"rm0493_rim\",\"rm0493_rim\"],\"x\":[19.5693302154541,24.912954330444336,24.415699005126953,24.739665985107422,24.96807289123535,24.286081314086914,25.451690673828125,24.825559616088867,15.12904167175293,4.861227989196777,5.184589385986328,4.690298557281494,4.800937652587891,4.998878479003906,5.409550666809082,5.1677165031433105,25.257158279418945,5.08482027053833,24.598697662353516,18.460163116455078,14.950700759887695,14.693951606750488,24.283445358276367,25.374475479125977,25.286937713623047,18.549747467041016,18.40982437133789,18.40306282043457,18.449609756469727,18.19101333618164,18.078516006469727,18.221935272216797,18.265296936035156,18.075698852539062,18.563289642333984,18.246990203857422,4.900079250335693,5.0060505867004395,5.179553031921387,20.102384567260742,21.04645538330078,19.749210357666016,20.3677921295166,21.472732543945312,8.224685668945312,9.052397727966309,8.834028244018555,8.278426170349121,9.246932983398438,9.12380313873291,8.33441162109375,9.084850311279297,9.359355926513672,8.536537170410156,19.82673454284668,21.19537353515625,20.471221923828125,19.71526527404785,4.844209671020508,10.844651222229004,11.351238250732422,11.258858680725098,11.0720853805542,11.582850456237793,11.47304916381836,15.101631164550781,10.800162315368652,11.849111557006836,11.111283302307129,11.728963851928711,11.404223442077637,15.08080005645752,20.332517623901367,20.598434448242188,11.609481811523438,14.427021026611328,15.184141159057617,15.015213012695312,20.707195281982422,22.080286026000977,21.4865779876709,6.8759942054748535,6.70304012298584,6.636694431304932,9.157706260681152,24.541635513305664,24.77599334716797,24.26270294189453,24.93028450012207,24.733797073364258,24.311906814575195,25.225305557250977,25.164703369140625,24.6973934173584,24.73603057861328,25.077924728393555,23.507537841796875,21.689414978027344,21.775157928466797,8.88306999206543,21.905065536499023,14.724414825439453,15.156896591186523,14.685205459594727,21.349836349487305,6.641342639923096,6.935827255249023,6.452388286590576,7.1509690284729,6.712198257446289,6.836956977844238,7.159921169281006,14.733494758605957,21.714561462402344,20.525714874267578,21.64809226989746,6.8983635902404785,6.709832191467285,20.62512969970703,21.669763565063477],\"xaxis\":\"x\",\"y\":[-4.814631938934326,-2.2956607341766357,-1.8241773843765259,-2.756056547164917,-2.3607349395751953,-2.0890016555786133,-2.66328763961792,-1.977735161781311,-10.82293701171875,-10.762518882751465,-10.769562721252441,-10.711058616638184,-10.565398216247559,-10.84861946105957,-10.916135787963867,-10.495473861694336,-2.627490997314453,-10.87440013885498,-1.898417592048645,-9.791413307189941,-10.610365867614746,-10.698573112487793,-1.8074477910995483,-2.5497846603393555,-2.147808074951172,-9.767977714538574,-10.02697467803955,-9.633973121643066,-10.037585258483887,-10.072380065917969,-9.83730411529541,-10.02558708190918,-9.67098331451416,-9.956622123718262,-9.78927993774414,-9.680524826049805,-10.833800315856934,-10.755289077758789,-10.855597496032715,-5.192782402038574,-5.01826810836792,-4.5918779373168945,-5.034813404083252,-4.364928722381592,-8.766075134277344,-9.262206077575684,-9.235291481018066,-8.855525970458984,-9.265003204345703,-9.242186546325684,-8.831473350524902,-9.11616039276123,-9.128775596618652,-8.831338882446289,-4.80894660949707,-5.154831886291504,-5.078622341156006,-4.747133731842041,-11.039322853088379,-10.257250785827637,-10.397560119628906,-10.644386291503906,-10.212372779846191,-10.394071578979492,-10.263092994689941,-10.690142631530762,-10.157670021057129,-10.386013984680176,-10.349913597106934,-10.537718772888184,-10.626970291137695,-10.613192558288574,-4.796579360961914,-5.217559814453125,-10.395248413085938,-10.678975105285645,-10.650691032409668,-10.683526992797852,-4.3289408683776855,-5.106671333312988,-5.519240379333496,-8.316791534423828,-8.134932518005371,-7.876909255981445,-9.215746879577637,-3.6439168453216553,-4.049170970916748,-3.274775505065918,-3.370453357696533,-3.7871761322021484,-2.911720037460327,-3.4383411407470703,-3.3498713970184326,-3.039360523223877,-3.589808225631714,-3.7610836029052734,-3.6099865436553955,-4.643505096435547,-4.926608085632324,-9.303872108459473,-5.086782932281494,-10.699936866760254,-10.525919914245605,-10.75461483001709,-4.224704265594482,-8.288646697998047,-8.085083961486816,-7.843838214874268,-8.150829315185547,-7.820254802703857,-7.784873008728027,-8.049345970153809,-10.73261833190918,-5.463489532470703,-4.569962024688721,-4.8057732582092285,-7.712231636047363,-7.806201457977295,-4.561148166656494,-5.611344337463379],\"yaxis\":\"y\",\"type\":\"scatter\"},{\"hovertemplate\":\"Categories=1\\u003cbr\\u003esymbol=1\\u003cbr\\u003e0=%{x}\\u003cbr\\u003e1=%{y}\\u003cbr\\u003esize=%{marker.size}\\u003cbr\\u003etext=%{text}\\u003cextra\\u003e\\u003c\\u002fextra\\u003e\",\"legendgroup\":\"1, 1\",\"marker\":{\"color\":\"#EF553B\",\"size\":[10,10,10,10,10,10,10,10,10,10,10,10,10,10,10,10,10,10,10,10,10,10,10,10,10,10,10,10,10,10,10,10,10,10,10,10,10,10,10,10,10,10,10,10,10,10,10,10,10,10,10,10,10,10,10,10,10,10,10,10,10,10,10,10,10,10,10,10,10,10,10,10,10,10,10,10,10,10,10,10,10,10,10,10,10,10,10,10,10,10,10,10,10,10,10,10,10,10,10,10,10,10,10,10,10,10,10,10],\"sizemode\":\"area\",\"sizeref\":0.1,\"symbol\":\"diamond\"},\"mode\":\"markers+text\",\"name\":\"1, 1\",\"orientation\":\"v\",\"showlegend\":true,\"text\":[\"rm0945_rim\",\"rm0871_rim\",\"rm0871_rim\",\"rm0871_rim\",\"rm0871_rim\",\"rm0873_rim\",\"rm0871_rim\",\"rm0873_rim\",\"rm0873_rim\",\"rm0873_rim\",\"rm0873_rim\",\"rm0873_rim\",\"rm0873_rim\",\"rm0873_rim\",\"rm0871_rim\",\"rm0871_rim\",\"rm0871_rim\",\"rm0871_rim\",\"rm0945_rim\",\"rm0945_rim\",\"rm0945_rim\",\"rm0945_rim\",\"rm0945_rim\",\"rm0945_rim\",\"rm0871_rim\",\"rm0945_rim\",\"rm0945_rim\",\"rm0873_rim\",\"rm0873_rim\",\"rm0871_rim\",\"rm0945_rim\",\"rm0871_rim\",\"rm0945_rim\",\"rm0945_rim\",\"rm0331_rim\",\"rm1406_rim\",\"rm0457_rim\",\"rm0457_rim\",\"rm0457_rim\",\"rm1408_rim\",\"rm1408_rim\",\"rm1408_rim\",\"rm1408_rim\",\"rm0873_rim\",\"rm1408_rim\",\"rm1408_rim\",\"rm1408_rim\",\"rm1408_rim\",\"rm1408_rim\",\"rm1407_rim\",\"rm1407_rim\",\"rm0580_rim\",\"rm0580_rim\",\"rm0457_rim\",\"rm0457_rim\",\"rm0457_rim\",\"rm0457_rim\",\"rm0331_rim\",\"rm0331_rim\",\"rm0331_rim\",\"rm0331_rim\",\"rm0331_rim\",\"rm0331_rim\",\"rm0331_rim\",\"rm0331_rim\",\"rm0580_rim\",\"rm0331_rim\",\"rm0331_rim\",\"rm1408_rim\",\"rm1408_rim\",\"rm0457_rim\",\"rm0457_rim\",\"rm0457_rim\",\"rm0457_rim\",\"rm0457_rim\",\"rm0331_rim\",\"rm0580_rim\",\"rm1408_rim\",\"rm0580_rim\",\"rm1407_rim\",\"rm1407_rim\",\"rm1407_rim\",\"rm1407_rim\",\"rm1407_rim\",\"rm1407_rim\",\"rm0580_rim\",\"rm1407_rim\",\"rm1406_rim\",\"rm1406_rim\",\"rm1406_rim\",\"rm1406_rim\",\"rm1406_rim\",\"rm1406_rim\",\"rm1406_rim\",\"rm1406_rim\",\"rm1406_rim\",\"rm1406_rim\",\"rm1406_rim\",\"rm1407_rim\",\"rm1407_rim\",\"rm0873_rim\",\"rm0580_rim\",\"rm0580_rim\",\"rm0580_rim\",\"rm1407_rim\",\"rm0580_rim\",\"rm0580_rim\",\"rm0580_rim\"],\"x\":[-0.03904324769973755,11.792641639709473,11.826936721801758,10.037521362304688,10.588399887084961,10.062315940856934,11.489707946777344,10.661419868469238,10.23227310180664,9.833556175231934,10.804109573364258,10.477320671081543,10.928702354431152,11.01293659210205,11.57069206237793,11.114751815795898,11.017518997192383,11.06112003326416,0.08113390952348709,0.008356457576155663,-0.04744135960936546,0.010153871960937977,0.12511280179023743,0.31112241744995117,11.64581298828125,0.2555682957172394,0.14270873367786407,11.514253616333008,10.374504089355469,10.916138648986816,0.017070556059479713,11.493642807006836,-0.10826724022626877,0.10666108131408691,3.6492674350738525,5.443887710571289,7.2909746170043945,6.921847820281982,9.025999069213867,9.498357772827148,9.403545379638672,9.529196739196777,9.368120193481445,11.22357177734375,8.425715446472168,8.65731430053711,9.174817085266113,9.74721622467041,9.203008651733398,7.1300153732299805,7.6126580238342285,4.4485087394714355,4.332235336303711,8.412657737731934,6.4570159912109375,7.04184627532959,8.687616348266602,4.420725345611572,5.327087879180908,3.9023728370666504,4.271030902862549,5.172955513000488,3.6076414585113525,4.760047435760498,5.517496109008789,4.512160778045654,3.801487922668457,5.870471000671387,9.568743705749512,8.858105659484863,7.352569103240967,7.1852216720581055,8.568830490112305,7.238476753234863,7.0488200187683105,4.258951187133789,4.515310764312744,9.066635131835938,4.853362083435059,8.042901992797852,7.008801460266113,7.280971527099609,7.872567653656006,7.571148872375488,7.348355770111084,4.6088762283325195,7.656911849975586,5.394752502441406,4.858791351318359,4.76101016998291,5.454919815063477,4.905412673950195,5.207330703735352,4.962246894836426,4.901278018951416,5.623863220214844,4.692239284515381,4.8142876625061035,7.312893867492676,7.557715892791748,10.387526512145996,4.607172012329102,4.274528980255127,4.295407772064209,7.582794666290283,4.778300762176514,4.770593166351318,4.853293418884277],\"xaxis\":\"x\",\"y\":[33.8416862487793,23.798189163208008,23.275829315185547,24.830007553100586,25.195098876953125,25.794212341308594,24.11075210571289,25.278764724731445,24.992639541625977,25.193470001220703,24.189802169799805,24.145057678222656,25.301570892333984,24.48772430419922,23.625125885009766,23.592864990234375,23.599468231201172,23.340234756469727,33.83778381347656,33.84589385986328,33.56061553955078,33.81275939941406,33.84716033935547,33.60203170776367,23.585256576538086,33.64751052856445,33.38070297241211,24.15005874633789,25.21444320678711,24.146366119384766,33.50582504272461,23.167680740356445,33.50180435180664,33.52417755126953,32.41184616088867,33.58454132080078,31.212732315063477,32.15889358520508,26.996416091918945,26.743825912475586,26.691614151000977,26.229684829711914,25.2360897064209,24.806875228881836,26.031505584716797,25.644968032836914,26.136924743652344,25.739553451538086,25.397838592529297,29.241207122802734,28.9407901763916,35.763492584228516,35.94956588745117,27.04350471496582,32.069881439208984,31.080219268798828,27.39875030517578,32.22943878173828,30.636871337890625,32.13841247558594,32.31875991821289,31.05929946899414,32.790672302246094,31.59803581237793,30.721765518188477,35.579246520996094,32.62824630737305,30.414337158203125,26.028987884521484,26.7985897064209,31.479536056518555,31.8563232421875,25.150432586669922,31.35146141052246,31.613086700439453,31.93703269958496,36.28545379638672,25.881288528442383,35.6217041015625,28.53981590270996,29.361005783081055,29.509965896606445,29.009111404418945,29.412368774414062,28.940296173095703,36.25633239746094,29.453174591064453,33.74095153808594,34.01674270629883,33.9750862121582,33.65486526489258,33.98727798461914,33.88875198364258,33.615814208984375,33.63115692138672,33.506126403808594,33.911827087402344,33.67831039428711,28.95416831970215,29.90738868713379,25.650367736816406,36.16267013549805,35.875816345214844,36.35859680175781,29.506826400756836,35.9135627746582,36.13543701171875,35.66359329223633],\"yaxis\":\"y\",\"type\":\"scatter\"},{\"hovertemplate\":\"Categories=2\\u003cbr\\u003esymbol=2\\u003cbr\\u003e0=%{x}\\u003cbr\\u003e1=%{y}\\u003cbr\\u003esize=%{marker.size}\\u003cbr\\u003etext=%{text}\\u003cextra\\u003e\\u003c\\u002fextra\\u003e\",\"legendgroup\":\"2, 2\",\"marker\":{\"color\":\"#00cc96\",\"size\":[10,10,10,10,10,10,10,10,10,10,10,10,10,10,10,10,10,10,10,10,10,10,10,10,10,10,10,10,10,10,10,10,10,10,10,10,10,10,10,10,10,10,10,10,10,10,10,10],\"sizemode\":\"area\",\"sizeref\":0.1,\"symbol\":\"square\"},\"mode\":\"markers+text\",\"name\":\"2, 2\",\"orientation\":\"v\",\"showlegend\":true,\"text\":[\"rm1011_rim\",\"rm1011_rim\",\"rm1011_rim\",\"rm1410_rim\",\"rm1011_rim\",\"rm1011_rim\",\"rm1410_rim\",\"rm1410_rim\",\"rm1410_rim\",\"rm1410_rim\",\"rm1410_rim\",\"rm1410_rim\",\"rm1011_rim\",\"rm1410_rim\",\"rm1410_rim\",\"rm1011_rim\",\"rm1011_rim\",\"rm0923_rim\",\"rm0923_rim\",\"rm1011_rim\",\"rm1011_rim\",\"rm0923_rim\",\"rm1011_rim\",\"rm0923_rim\",\"rm0923_rim\",\"rm0923_rim\",\"rm0923_rim\",\"rm0923_rim\",\"rm0923_rim\",\"rm0923_rim\",\"rm0923_rim\",\"rm1011_rim\",\"rm1410_rim\",\"rm0923_rim\",\"rm1410_rim\",\"rm0693_rim\",\"rm0693_rim\",\"rm0693_rim\",\"rm0693_rim\",\"rm0693_rim\",\"rm0693_rim\",\"rm1410_rim\",\"rm0693_rim\",\"rm0693_rim\",\"rm0693_rim\",\"rm0693_rim\",\"rm0693_rim\",\"rm0693_rim\"],\"x\":[-2.0609073638916016,-1.7021867036819458,-2.5603995323181152,-2.507081985473633,-1.8695287704467773,-2.601837396621704,-2.690920829772949,-2.480238676071167,-2.584871292114258,-2.637272596359253,-2.3742661476135254,-2.3561367988586426,-2.484490156173706,-2.4225497245788574,-2.4629645347595215,-2.6336669921875,-1.7471392154693604,-1.3063898086547852,-1.990360975265503,-2.3408923149108887,-2.4776954650878906,-1.6881369352340698,-1.9732563495635986,-1.5631047487258911,-1.2007845640182495,-2.117522954940796,-1.373066782951355,-1.3572585582733154,-2.2917051315307617,-1.8343372344970703,-1.2680766582489014,-2.398871421813965,-2.57917857170105,-1.9982361793518066,-2.4566171169281006,0.8149651288986206,1.6190550327301025,0.8411031365394592,1.312814712524414,1.4450680017471313,0.616787314414978,-2.5906481742858887,1.2854260206222534,0.7643254399299622,1.5407096147537231,1.3828109502792358,1.182066798210144,1.5115232467651367],\"xaxis\":\"x\",\"y\":[5.496016979217529,5.391557216644287,5.044610500335693,0.7795395255088806,5.466639518737793,5.093710422515869,0.9483033418655396,1.1776049137115479,0.6862335801124573,1.0385891199111938,1.122066617012024,0.9613044261932373,5.57199764251709,0.957391083240509,1.299316644668579,5.341330051422119,5.237612247467041,4.255434989929199,4.137272834777832,5.274003505706787,4.931819438934326,4.6452178955078125,5.297713756561279,4.3765411376953125,4.485410690307617,4.2036051750183105,4.006913661956787,4.618947982788086,4.209262847900391,4.280502796173096,4.523047924041748,5.54686164855957,0.6785619258880615,4.128079414367676,1.2781332731246948,-11.025121688842773,-11.115457534790039,-10.990492820739746,-11.133538246154785,-11.125669479370117,-11.068799018859863,0.6169323921203613,-11.170760154724121,-11.069913864135742,-11.158239364624023,-11.088730812072754,-11.120238304138184,-11.160110473632812],\"yaxis\":\"y\",\"type\":\"scatter\"},{\"hovertemplate\":\"Categories=3\\u003cbr\\u003esymbol=3\\u003cbr\\u003e0=%{x}\\u003cbr\\u003e1=%{y}\\u003cbr\\u003esize=%{marker.size}\\u003cbr\\u003etext=%{text}\\u003cextra\\u003e\\u003c\\u002fextra\\u003e\",\"legendgroup\":\"3, 3\",\"marker\":{\"color\":\"#ab63fa\",\"size\":[10,10,10,10,10,10,10,10,10,10,10,10,10,10,10,10,10,10,10,10,10,10,10,10,10,10,10,10,10,10,10,10,10,10,10,10,10,10,10,10,10,10,10,10,10,10,10,10,10,10,10,10,10,10,10,10,10,10,10,10,10,10,10,10,10,10,10,10,10,10,10,10,10,10,10,10,10,10,10,10,10,10,10,10,10,10,10,10,10,10,10,10,10,10,10,10,10,10,10,10,10,10,10,10,10,10,10,10,10,10,10,10,10,10,10,10,10,10,10,10,10,10,10,10,10,10,10,10,10,10,10,10,10,10,10,10,10,10,10,10,10,10,10,10,10,10,10,10,10,10,10,10,10,10,10,10,10,10,10,10,10,10,10,10,10,10,10,10,10,10,10,10,10,10,10,10,10,10,10,10,10,10,10,10,10,10,10,10,10,10,10,10],\"sizemode\":\"area\",\"sizeref\":0.1,\"symbol\":\"x\"},\"mode\":\"markers+text\",\"name\":\"3, 3\",\"orientation\":\"v\",\"showlegend\":true,\"text\":[\"rm1318_rim\",\"rm0863_rim\",\"rm0684_rim\",\"rm0684_rim\",\"rm0684_rim\",\"rm0684_rim\",\"rm0684_rim\",\"rm0684_rim\",\"rm0684_rim\",\"rm0684_rim\",\"rm0684_rim\",\"rm1318_rim\",\"rm1318_rim\",\"rm1318_rim\",\"rm0684_rim\",\"rm0698_rim\",\"rm0698_rim\",\"rm0695_rim\",\"rm0695_rim\",\"rm0695_rim\",\"rm0695_rim\",\"rm0695_rim\",\"rm0695_rim\",\"rm0695_rim\",\"rm0695_rim\",\"rm0695_rim\",\"rm0695_rim\",\"rm0695_rim\",\"rm0695_rim\",\"rm1318_rim\",\"rm1318_rim\",\"rm1318_rim\",\"rm1318_rim\",\"rm1318_rim\",\"rm1318_rim\",\"rm1318_rim\",\"rm1318_rim\",\"rm0684_rim\",\"rm0684_rim\",\"rm0683_rim\",\"rm0476_rim\",\"rm0476_rim\",\"rm0476_rim\",\"rm0476_rim\",\"rm0476_rim\",\"rm0476_rim\",\"rm0476_rim\",\"rm0476_rim\",\"rm0476_rim\",\"rm0455_rim\",\"rm0455_rim\",\"rm0455_rim\",\"rm0455_rim\",\"rm0455_rim\",\"rm0455_rim\",\"rm0455_rim\",\"rm0455_rim\",\"rm0455_rim\",\"rm0455_rim\",\"rm0455_rim\",\"rm0455_rim\",\"rm0476_rim\",\"rm0476_rim\",\"rm0476_rim\",\"rm0657_rim\",\"rm0683_rim\",\"rm0683_rim\",\"rm0683_rim\",\"rm0683_rim\",\"rm0683_rim\",\"rm0683_rim\",\"rm0683_rim\",\"rm0683_rim\",\"rm0683_rim\",\"rm0683_rim\",\"rm0698_rim\",\"rm0683_rim\",\"rm0657_rim\",\"rm0657_rim\",\"rm0657_rim\",\"rm0657_rim\",\"rm0657_rim\",\"rm0657_rim\",\"rm0657_rim\",\"rm0657_rim\",\"rm0657_rim\",\"rm0657_rim\",\"rm0657_rim\",\"rm0698_rim\",\"rm0698_rim\",\"rm0698_rim\",\"rm0733_rim\",\"rm0733_rim\",\"rm0733_rim\",\"rm0733_rim\",\"rm0733_rim\",\"rm0733_rim\",\"rm0733_rim\",\"rm0721_rim\",\"rm0721_rim\",\"rm0956_rim\",\"rm0956_rim\",\"rm0956_rim\",\"rm0956_rim\",\"rm0956_rim\",\"rm0956_rim\",\"rm0956_rim\",\"rm0956_rim\",\"rm0956_rim\",\"rm0956_rim\",\"rm0956_rim\",\"rm0956_rim\",\"rm0733_rim\",\"rm0733_rim\",\"rm0733_rim\",\"rm0733_rim\",\"rm0875_rim\",\"rm0875_rim\",\"rm0875_rim\",\"rm0875_rim\",\"rm0875_rim\",\"rm0875_rim\",\"rm0875_rim\",\"rm0875_rim\",\"rm0875_rim\",\"rm0875_rim\",\"rm0721_rim\",\"rm0875_rim\",\"rm0863_rim\",\"rm0863_rim\",\"rm0863_rim\",\"rm0863_rim\",\"rm0863_rim\",\"rm0863_rim\",\"rm0863_rim\",\"rm0863_rim\",\"rm0863_rim\",\"rm0733_rim\",\"rm0875_rim\",\"rm0721_rim\",\"rm0721_rim\",\"rm0721_rim\",\"rm1145_rim\",\"rm1145_rim\",\"rm1145_rim\",\"rm1145_rim\",\"rm1145_rim\",\"rm1145_rim\",\"rm1276_rim\",\"rm1276_rim\",\"rm1276_rim\",\"rm1276_rim\",\"rm1145_rim\",\"rm1276_rim\",\"rm1276_rim\",\"rm1276_rim\",\"rm1276_rim\",\"rm1276_rim\",\"rm1276_rim\",\"rm1276_rim\",\"rm0698_rim\",\"rm0698_rim\",\"rm0698_rim\",\"rm0698_rim\",\"rm1276_rim\",\"rm0863_rim\",\"rm1145_rim\",\"rm1145_rim\",\"rm0721_rim\",\"rm0721_rim\",\"rm0721_rim\",\"rm0721_rim\",\"rm0721_rim\",\"rm0721_rim\",\"rm0701_rim\",\"rm0701_rim\",\"rm0701_rim\",\"rm0701_rim\",\"rm1145_rim\",\"rm0701_rim\",\"rm0701_rim\",\"rm0701_rim\",\"rm0701_rim\",\"rm0701_rim\",\"rm0701_rim\",\"rm0701_rim\",\"rm0698_rim\",\"rm0698_rim\",\"rm1145_rim\",\"rm1145_rim\",\"rm0701_rim\",\"rm0863_rim\"],\"x\":[-21.29930877685547,-14.019784927368164,-17.135541915893555,-17.703548431396484,-17.457019805908203,-16.7841854095459,-17.046167373657227,-17.82500457763672,-16.845287322998047,-16.932247161865234,-17.475576400756836,-21.176231384277344,-21.313182830810547,-20.94943618774414,-16.745466232299805,-4.200662136077881,-3.80057430267334,-16.19038963317871,-15.99257755279541,-16.083574295043945,-16.155378341674805,-15.826065063476562,-15.798691749572754,-16.433252334594727,-16.11418342590332,-16.04317855834961,-16.43264389038086,-15.814265251159668,-15.925042152404785,-21.14090347290039,-20.87157440185547,-21.46915626525879,-20.89415168762207,-21.461523056030273,-20.8961238861084,-21.551881790161133,-21.35796546936035,-17.619062423706055,-17.589496612548828,-22.88324546813965,-5.521971702575684,-4.845718860626221,-5.506374835968018,-5.161452293395996,-5.671818733215332,-5.500180244445801,-5.217442512512207,-5.279501438140869,-5.462635517120361,-3.122749090194702,-3.3285446166992188,-3.2835896015167236,-3.134566068649292,-3.3054347038269043,-3.2237966060638428,-2.9584591388702393,-3.3665971755981445,-3.265080451965332,-3.116597890853882,-3.5496013164520264,-3.334672689437866,-5.055445194244385,-5.122123718261719,-5.531722068786621,-20.311317443847656,-22.43112564086914,-23.11480140686035,-23.281553268432617,-23.15041732788086,-22.541427612304688,-23.143136978149414,-22.652544021606445,-22.489261627197266,-22.77557373046875,-22.988279342651367,-4.08341121673584,-23.18683624267578,-19.93018913269043,-19.785554885864258,-19.787086486816406,-19.807010650634766,-20.14975929260254,-20.127490997314453,-20.093013763427734,-20.005220413208008,-20.445510864257812,-20.424264907836914,-20.20770835876465,-3.7943708896636963,-3.6915481090545654,-4.353805065155029,-21.86119270324707,-21.446992874145508,-22.61815071105957,-21.856246948242188,-21.251312255859375,-22.499713897705078,-21.997005462646484,-20.49098777770996,-20.4778995513916,-23.613191604614258,-23.251066207885742,-22.93487548828125,-23.883834838867188,-23.708969116210938,-23.593399047851562,-23.719356536865234,-22.89887237548828,-23.185720443725586,-22.982439041137695,-23.04812240600586,-23.42881202697754,-22.455202102661133,-21.4881534576416,-22.2640380859375,-22.762313842773438,-25.118144989013672,-25.13184928894043,-24.369049072265625,-24.688581466674805,-25.258811950683594,-25.027896881103516,-24.9942684173584,-25.030590057373047,-24.70749855041504,-25.13813018798828,-20.48607063293457,-25.566556930541992,-14.2874174118042,-14.137049674987793,-14.510493278503418,-14.202529907226562,-14.459399223327637,-14.180339813232422,-14.160431861877441,-13.930278778076172,-14.706809043884277,-21.31647300720215,-25.101383209228516,-19.169349670410156,-20.371801376342773,-20.43259620666504,-18.928144454956055,-19.531797409057617,-19.926862716674805,-20.015289306640625,-19.86142349243164,-20.208980560302734,-1.1872408390045166,-1.0498478412628174,-0.7657281160354614,-1.1889302730560303,-19.424999237060547,-0.6880753636360168,-0.79634690284729,-0.8857250809669495,-0.8873716592788696,-1.0979903936386108,-0.8980810642242432,-0.8433439135551453,-4.064923286437988,-4.509361267089844,-4.501450538635254,-3.968125343322754,-0.8436340689659119,-14.197677612304688,-19.42667007446289,-19.450265884399414,-19.546302795410156,-20.63863182067871,-20.148006439208984,-19.334257125854492,-20.67632484436035,-20.426883697509766,-3.388807773590088,-3.657881498336792,-3.6243326663970947,-3.4213998317718506,-19.06421661376953,-3.8504927158355713,-3.347003936767578,-3.565225839614868,-3.637864828109741,-3.319722890853882,-3.368187665939331,-3.795570135116577,-4.575747966766357,-3.9614744186401367,-19.484479904174805,-19.466920852661133,-3.4852912425994873,-14.200433731079102],\"xaxis\":\"x\",\"y\":[-6.079886436462402,-7.644344806671143,-3.2300360202789307,-2.7780532836914062,-2.613511085510254,-3.9367806911468506,-3.1303939819335938,-2.8919317722320557,-3.6954455375671387,-3.30660343170166,-2.4436655044555664,-5.989971160888672,-5.622226238250732,-5.9259233474731445,-3.2107725143432617,-24.559940338134766,-23.86073875427246,-6.9176154136657715,-6.884871959686279,-6.1108198165893555,-6.639542579650879,-6.906739711761475,-6.512790679931641,-6.295009613037109,-6.7147955894470215,-6.3999433517456055,-6.295605659484863,-6.998690128326416,-6.548020362854004,-5.953862190246582,-6.156388282775879,-6.228987216949463,-5.631640434265137,-5.791202068328857,-6.469221115112305,-5.366945266723633,-6.055118083953857,-2.9375405311584473,-2.586927652359009,7.372585773468018,-24.71486473083496,-24.630680084228516,-24.681602478027344,-25.21482276916504,-24.974199295043945,-24.657209396362305,-25.15778160095215,-24.957263946533203,-24.544395446777344,-3.902378559112549,-3.180499315261841,-3.469830274581909,-3.86755108833313,-3.364321708679199,-3.475937604904175,-4.228646755218506,-3.347304582595825,-3.7628822326660156,-3.8876993656158447,-3.537459373474121,-3.1747467517852783,-25.064311981201172,-25.09800148010254,-24.99466323852539,4.888800621032715,6.7050886154174805,6.686789512634277,7.358443737030029,6.951394081115723,6.891275882720947,7.411360263824463,7.207870006561279,7.073127269744873,7.401001930236816,6.776994228363037,-24.254514694213867,6.997446537017822,4.79930305480957,4.992950439453125,4.982948303222656,4.712986469268799,4.991279602050781,5.009047985076904,4.613539695739746,5.385654926300049,5.167022228240967,5.129513263702393,5.376891613006592,-23.973318099975586,-24.180213928222656,-24.544906616210938,5.246829509735107,4.157751083374023,6.192753314971924,5.162821292877197,3.498178005218506,6.056269645690918,5.308359622955322,1.2636191844940186,2.1902997493743896,-4.009589195251465,-3.982766628265381,-4.350419044494629,-3.801807165145874,-3.528216600418091,-3.6544711589813232,-3.9581451416015625,-3.924424409866333,-3.7313153743743896,-4.241926193237305,-4.076220989227295,-3.8010106086730957,5.956606864929199,3.812746286392212,5.872392177581787,6.4859490394592285,-2.690664052963257,-2.0596814155578613,-2.708312511444092,-2.4801597595214844,-2.0018320083618164,-2.156134843826294,-2.4338021278381348,-1.9847347736358643,-2.388115644454956,-2.3873095512390137,2.9159555435180664,-2.0986313819885254,-7.795177936553955,-8.130143165588379,-7.5160417556762695,-7.853414535522461,-7.575587749481201,-7.635360240936279,-7.500654220581055,-7.438705921173096,-7.717673301696777,3.544093370437622,-2.3688881397247314,-1.686107873916626,2.0781471729278564,2.5992822647094727,-2.5967154502868652,-2.771162509918213,-2.7720134258270264,-2.7442667484283447,-2.8287389278411865,-2.5330333709716797,-6.958600044250488,-7.039883136749268,-7.795267581939697,-6.837366580963135,-2.678441047668457,-7.4890031814575195,-7.443734169006348,-7.0935869216918945,-7.634998798370361,-6.949497222900391,-7.1131911277771,-7.782998561859131,-23.734407424926758,-23.98223114013672,-24.025354385375977,-24.14280891418457,-7.642157077789307,-7.284753322601318,-2.5490505695343018,-2.73215389251709,-1.202077865600586,3.28117036819458,2.043891191482544,-1.545121192932129,2.3926050662994385,2.5724904537200928,-21.681135177612305,-21.814151763916016,-21.8566951751709,-22.129337310791016,-2.3853659629821777,-21.801616668701172,-22.233562469482422,-21.468000411987305,-22.138296127319336,-21.894697189331055,-21.6724910736084,-21.802600860595703,-24.08022117614746,-23.712369918823242,-2.390550136566162,-2.9361586570739746,-22.104774475097656,-7.880167007446289],\"yaxis\":\"y\",\"type\":\"scatter\"}],                        {\"template\":{\"data\":{\"histogram2dcontour\":[{\"type\":\"histogram2dcontour\",\"colorbar\":{\"outlinewidth\":0,\"ticks\":\"\"},\"colorscale\":[[0.0,\"#0d0887\"],[0.1111111111111111,\"#46039f\"],[0.2222222222222222,\"#7201a8\"],[0.3333333333333333,\"#9c179e\"],[0.4444444444444444,\"#bd3786\"],[0.5555555555555556,\"#d8576b\"],[0.6666666666666666,\"#ed7953\"],[0.7777777777777778,\"#fb9f3a\"],[0.8888888888888888,\"#fdca26\"],[1.0,\"#f0f921\"]]}],\"choropleth\":[{\"type\":\"choropleth\",\"colorbar\":{\"outlinewidth\":0,\"ticks\":\"\"}}],\"histogram2d\":[{\"type\":\"histogram2d\",\"colorbar\":{\"outlinewidth\":0,\"ticks\":\"\"},\"colorscale\":[[0.0,\"#0d0887\"],[0.1111111111111111,\"#46039f\"],[0.2222222222222222,\"#7201a8\"],[0.3333333333333333,\"#9c179e\"],[0.4444444444444444,\"#bd3786\"],[0.5555555555555556,\"#d8576b\"],[0.6666666666666666,\"#ed7953\"],[0.7777777777777778,\"#fb9f3a\"],[0.8888888888888888,\"#fdca26\"],[1.0,\"#f0f921\"]]}],\"heatmap\":[{\"type\":\"heatmap\",\"colorbar\":{\"outlinewidth\":0,\"ticks\":\"\"},\"colorscale\":[[0.0,\"#0d0887\"],[0.1111111111111111,\"#46039f\"],[0.2222222222222222,\"#7201a8\"],[0.3333333333333333,\"#9c179e\"],[0.4444444444444444,\"#bd3786\"],[0.5555555555555556,\"#d8576b\"],[0.6666666666666666,\"#ed7953\"],[0.7777777777777778,\"#fb9f3a\"],[0.8888888888888888,\"#fdca26\"],[1.0,\"#f0f921\"]]}],\"heatmapgl\":[{\"type\":\"heatmapgl\",\"colorbar\":{\"outlinewidth\":0,\"ticks\":\"\"},\"colorscale\":[[0.0,\"#0d0887\"],[0.1111111111111111,\"#46039f\"],[0.2222222222222222,\"#7201a8\"],[0.3333333333333333,\"#9c179e\"],[0.4444444444444444,\"#bd3786\"],[0.5555555555555556,\"#d8576b\"],[0.6666666666666666,\"#ed7953\"],[0.7777777777777778,\"#fb9f3a\"],[0.8888888888888888,\"#fdca26\"],[1.0,\"#f0f921\"]]}],\"contourcarpet\":[{\"type\":\"contourcarpet\",\"colorbar\":{\"outlinewidth\":0,\"ticks\":\"\"}}],\"contour\":[{\"type\":\"contour\",\"colorbar\":{\"outlinewidth\":0,\"ticks\":\"\"},\"colorscale\":[[0.0,\"#0d0887\"],[0.1111111111111111,\"#46039f\"],[0.2222222222222222,\"#7201a8\"],[0.3333333333333333,\"#9c179e\"],[0.4444444444444444,\"#bd3786\"],[0.5555555555555556,\"#d8576b\"],[0.6666666666666666,\"#ed7953\"],[0.7777777777777778,\"#fb9f3a\"],[0.8888888888888888,\"#fdca26\"],[1.0,\"#f0f921\"]]}],\"surface\":[{\"type\":\"surface\",\"colorbar\":{\"outlinewidth\":0,\"ticks\":\"\"},\"colorscale\":[[0.0,\"#0d0887\"],[0.1111111111111111,\"#46039f\"],[0.2222222222222222,\"#7201a8\"],[0.3333333333333333,\"#9c179e\"],[0.4444444444444444,\"#bd3786\"],[0.5555555555555556,\"#d8576b\"],[0.6666666666666666,\"#ed7953\"],[0.7777777777777778,\"#fb9f3a\"],[0.8888888888888888,\"#fdca26\"],[1.0,\"#f0f921\"]]}],\"mesh3d\":[{\"type\":\"mesh3d\",\"colorbar\":{\"outlinewidth\":0,\"ticks\":\"\"}}],\"scatter\":[{\"fillpattern\":{\"fillmode\":\"overlay\",\"size\":10,\"solidity\":0.2},\"type\":\"scatter\"}],\"parcoords\":[{\"type\":\"parcoords\",\"line\":{\"colorbar\":{\"outlinewidth\":0,\"ticks\":\"\"}}}],\"scatterpolargl\":[{\"type\":\"scatterpolargl\",\"marker\":{\"colorbar\":{\"outlinewidth\":0,\"ticks\":\"\"}}}],\"bar\":[{\"error_x\":{\"color\":\"#2a3f5f\"},\"error_y\":{\"color\":\"#2a3f5f\"},\"marker\":{\"line\":{\"color\":\"#E5ECF6\",\"width\":0.5},\"pattern\":{\"fillmode\":\"overlay\",\"size\":10,\"solidity\":0.2}},\"type\":\"bar\"}],\"scattergeo\":[{\"type\":\"scattergeo\",\"marker\":{\"colorbar\":{\"outlinewidth\":0,\"ticks\":\"\"}}}],\"scatterpolar\":[{\"type\":\"scatterpolar\",\"marker\":{\"colorbar\":{\"outlinewidth\":0,\"ticks\":\"\"}}}],\"histogram\":[{\"marker\":{\"pattern\":{\"fillmode\":\"overlay\",\"size\":10,\"solidity\":0.2}},\"type\":\"histogram\"}],\"scattergl\":[{\"type\":\"scattergl\",\"marker\":{\"colorbar\":{\"outlinewidth\":0,\"ticks\":\"\"}}}],\"scatter3d\":[{\"type\":\"scatter3d\",\"line\":{\"colorbar\":{\"outlinewidth\":0,\"ticks\":\"\"}},\"marker\":{\"colorbar\":{\"outlinewidth\":0,\"ticks\":\"\"}}}],\"scattermapbox\":[{\"type\":\"scattermapbox\",\"marker\":{\"colorbar\":{\"outlinewidth\":0,\"ticks\":\"\"}}}],\"scatterternary\":[{\"type\":\"scatterternary\",\"marker\":{\"colorbar\":{\"outlinewidth\":0,\"ticks\":\"\"}}}],\"scattercarpet\":[{\"type\":\"scattercarpet\",\"marker\":{\"colorbar\":{\"outlinewidth\":0,\"ticks\":\"\"}}}],\"carpet\":[{\"aaxis\":{\"endlinecolor\":\"#2a3f5f\",\"gridcolor\":\"white\",\"linecolor\":\"white\",\"minorgridcolor\":\"white\",\"startlinecolor\":\"#2a3f5f\"},\"baxis\":{\"endlinecolor\":\"#2a3f5f\",\"gridcolor\":\"white\",\"linecolor\":\"white\",\"minorgridcolor\":\"white\",\"startlinecolor\":\"#2a3f5f\"},\"type\":\"carpet\"}],\"table\":[{\"cells\":{\"fill\":{\"color\":\"#EBF0F8\"},\"line\":{\"color\":\"white\"}},\"header\":{\"fill\":{\"color\":\"#C8D4E3\"},\"line\":{\"color\":\"white\"}},\"type\":\"table\"}],\"barpolar\":[{\"marker\":{\"line\":{\"color\":\"#E5ECF6\",\"width\":0.5},\"pattern\":{\"fillmode\":\"overlay\",\"size\":10,\"solidity\":0.2}},\"type\":\"barpolar\"}],\"pie\":[{\"automargin\":true,\"type\":\"pie\"}]},\"layout\":{\"autotypenumbers\":\"strict\",\"colorway\":[\"#636efa\",\"#EF553B\",\"#00cc96\",\"#ab63fa\",\"#FFA15A\",\"#19d3f3\",\"#FF6692\",\"#B6E880\",\"#FF97FF\",\"#FECB52\"],\"font\":{\"color\":\"#2a3f5f\"},\"hovermode\":\"closest\",\"hoverlabel\":{\"align\":\"left\"},\"paper_bgcolor\":\"white\",\"plot_bgcolor\":\"#E5ECF6\",\"polar\":{\"bgcolor\":\"#E5ECF6\",\"angularaxis\":{\"gridcolor\":\"white\",\"linecolor\":\"white\",\"ticks\":\"\"},\"radialaxis\":{\"gridcolor\":\"white\",\"linecolor\":\"white\",\"ticks\":\"\"}},\"ternary\":{\"bgcolor\":\"#E5ECF6\",\"aaxis\":{\"gridcolor\":\"white\",\"linecolor\":\"white\",\"ticks\":\"\"},\"baxis\":{\"gridcolor\":\"white\",\"linecolor\":\"white\",\"ticks\":\"\"},\"caxis\":{\"gridcolor\":\"white\",\"linecolor\":\"white\",\"ticks\":\"\"}},\"coloraxis\":{\"colorbar\":{\"outlinewidth\":0,\"ticks\":\"\"}},\"colorscale\":{\"sequential\":[[0.0,\"#0d0887\"],[0.1111111111111111,\"#46039f\"],[0.2222222222222222,\"#7201a8\"],[0.3333333333333333,\"#9c179e\"],[0.4444444444444444,\"#bd3786\"],[0.5555555555555556,\"#d8576b\"],[0.6666666666666666,\"#ed7953\"],[0.7777777777777778,\"#fb9f3a\"],[0.8888888888888888,\"#fdca26\"],[1.0,\"#f0f921\"]],\"sequentialminus\":[[0.0,\"#0d0887\"],[0.1111111111111111,\"#46039f\"],[0.2222222222222222,\"#7201a8\"],[0.3333333333333333,\"#9c179e\"],[0.4444444444444444,\"#bd3786\"],[0.5555555555555556,\"#d8576b\"],[0.6666666666666666,\"#ed7953\"],[0.7777777777777778,\"#fb9f3a\"],[0.8888888888888888,\"#fdca26\"],[1.0,\"#f0f921\"]],\"diverging\":[[0,\"#8e0152\"],[0.1,\"#c51b7d\"],[0.2,\"#de77ae\"],[0.3,\"#f1b6da\"],[0.4,\"#fde0ef\"],[0.5,\"#f7f7f7\"],[0.6,\"#e6f5d0\"],[0.7,\"#b8e186\"],[0.8,\"#7fbc41\"],[0.9,\"#4d9221\"],[1,\"#276419\"]]},\"xaxis\":{\"gridcolor\":\"white\",\"linecolor\":\"white\",\"ticks\":\"\",\"title\":{\"standoff\":15},\"zerolinecolor\":\"white\",\"automargin\":true,\"zerolinewidth\":2},\"yaxis\":{\"gridcolor\":\"white\",\"linecolor\":\"white\",\"ticks\":\"\",\"title\":{\"standoff\":15},\"zerolinecolor\":\"white\",\"automargin\":true,\"zerolinewidth\":2},\"scene\":{\"xaxis\":{\"backgroundcolor\":\"#E5ECF6\",\"gridcolor\":\"white\",\"linecolor\":\"white\",\"showbackground\":true,\"ticks\":\"\",\"zerolinecolor\":\"white\",\"gridwidth\":2},\"yaxis\":{\"backgroundcolor\":\"#E5ECF6\",\"gridcolor\":\"white\",\"linecolor\":\"white\",\"showbackground\":true,\"ticks\":\"\",\"zerolinecolor\":\"white\",\"gridwidth\":2},\"zaxis\":{\"backgroundcolor\":\"#E5ECF6\",\"gridcolor\":\"white\",\"linecolor\":\"white\",\"showbackground\":true,\"ticks\":\"\",\"zerolinecolor\":\"white\",\"gridwidth\":2}},\"shapedefaults\":{\"line\":{\"color\":\"#2a3f5f\"}},\"annotationdefaults\":{\"arrowcolor\":\"#2a3f5f\",\"arrowhead\":0,\"arrowwidth\":1},\"geo\":{\"bgcolor\":\"white\",\"landcolor\":\"#E5ECF6\",\"subunitcolor\":\"white\",\"showland\":true,\"showlakes\":true,\"lakecolor\":\"white\"},\"title\":{\"x\":0.05},\"mapbox\":{\"style\":\"light\"}}},\"xaxis\":{\"anchor\":\"y\",\"domain\":[0.0,1.0],\"title\":{\"text\":\"0\"}},\"yaxis\":{\"anchor\":\"x\",\"domain\":[0.0,1.0],\"title\":{\"text\":\"1\"}},\"legend\":{\"title\":{\"text\":\"\\u30af\\u30e9\\u30b9\\u30bf\"},\"tracegroupgap\":0,\"itemsizing\":\"constant\"},\"title\":{\"text\":\"PCA\\u5f8c\\u6a19\\u6e96\\u5316-\\u7e04\\u6587\\u571f\\u5668\"},\"height\":1000,\"width\":1000,\"font\":{\"family\":\"Courier New, monospace\",\"size\":14}},                        {\"responsive\": true}                    ).then(function(){\n",
              "                            \n",
              "var gd = document.getElementById('cee87f0a-bf1c-470b-b0de-daf16808695e');\n",
              "var x = new MutationObserver(function (mutations, observer) {{\n",
              "        var display = window.getComputedStyle(gd).display;\n",
              "        if (!display || display === 'none') {{\n",
              "            console.log([gd, 'removed!']);\n",
              "            Plotly.purge(gd);\n",
              "            observer.disconnect();\n",
              "        }}\n",
              "}});\n",
              "\n",
              "// Listen for the removal of the full notebook cells\n",
              "var notebookContainer = gd.closest('#notebook-container');\n",
              "if (notebookContainer) {{\n",
              "    x.observe(notebookContainer, {childList: true});\n",
              "}}\n",
              "\n",
              "// Listen for the clearing of the current output cell\n",
              "var outputEl = gd.closest('.output');\n",
              "if (outputEl) {{\n",
              "    x.observe(outputEl, {childList: true});\n",
              "}}\n",
              "\n",
              "                        })                };                            </script>        </div>\n",
              "</body>\n",
              "</html>"
            ]
          },
          "metadata": {}
        }
      ],
      "source": [
        "tsne = TSNE(n_components=2, random_state=0, init='pca')\n",
        "projections = tsne.fit_transform(features_std)\n",
        "\n",
        "x = projections[:,0]\n",
        "y = projections[:,1]\n",
        "color = km_predictions\n",
        "symbol = km_predictions#np.array(train_ids)#[:,0]\n",
        "df = pd.DataFrame({'x':x,'y':y, 'name':name_list,'クラスタ':np.array(color, dtype='str')})#, 'init':symbol})\n",
        "\n",
        "df_s = df.sort_values(by='クラスタ', ascending=True)\n",
        "\n",
        "\n",
        "fig = px.scatter(\n",
        "    df_s.loc[:,[\"x\",\"y\"]].values, x=0, y=1,\n",
        "    color=df_s.loc[:,\"クラスタ\"].values,\n",
        "    symbol=df_s.loc[:,\"クラスタ\"].values,\n",
        "    labels={'color': 'Categories'},\n",
        "    title='PCA後標準化-縄文土器',\n",
        "    text=df_s.loc[:,\"name\"],\n",
        "    width=1000, height=1000,\n",
        "    size_max=10,\n",
        "    size=np.full(len(km_predictions), 10),\n",
        ")\n",
        "\n",
        "\n",
        "fig.update_layout(\n",
        "    legend_title=\"クラスタ\",#，初期ラベル\",\n",
        "    font=dict(\n",
        "        family=\"Courier New, monospace\",\n",
        "        size=14,\n",
        "    )\n",
        ")\n",
        "fig.show()\n",
        "fig.write_html(\"pca_std_type.html\")"
      ],
      "id": "NJTDxu0nJhxd"
    },
    {
      "cell_type": "code",
      "source": [],
      "metadata": {
        "id": "muhtheRWYpGs"
      },
      "id": "muhtheRWYpGs",
      "execution_count": null,
      "outputs": []
    },
    {
      "cell_type": "code",
      "source": [
        "# 縦軸回転拡張データ無し版\n",
        "\n",
        "true_labels_df = pd.read_excel(\"/content/drive/MyDrive/jomon/true_labels_dataset_JomonV7.xlsx\")\n",
        "\n",
        "tsne = TSNE(n_components=2, random_state=0)\n",
        "projections = tsne.fit_transform(features_std)\n",
        "\n",
        "x = projections[:,0]\n",
        "y = projections[:,1]\n",
        "color = km_predictions\n",
        "symbol = km_predictions\n",
        "df = pd.DataFrame({'x':x,'y':y, 'name':true_labels_df[\"列品番号\"], \"labels\":true_labels_df[\"系統型式\"],\"angle\":true_labels_df[\"回転角度\"],'クラスタ':np.array(color, dtype='str')})\n",
        "\n",
        "df_s = df.sort_values(by='クラスタ', ascending=True)\n",
        "\n",
        "df_s = df_s[df_s['angle'].str.startswith('000')]\n",
        "\n",
        "fig = px.scatter(\n",
        "    df_s.loc[:,[\"x\",\"y\"]].values, x=0, y=1,\n",
        "    color=df_s.loc[:,\"クラスタ\"].values,\n",
        "    symbol=df_s.loc[:,\"クラスタ\"].values,\n",
        "    labels={'color': 'Categories', 'symbol': 'Categories'},\n",
        "    title='PCA(標準化)-縄文土器',\n",
        "    text=df_s.loc[:,\"labels\"]+\"(\"+df_s.loc[:,\"name\"]+\")\",\n",
        "    width=1000, height=1000,\n",
        "    size_max=15,\n",
        "    size=np.full(len(km_predictions[::12]), 15),\n",
        ")\n",
        "\n",
        "\n",
        "fig.update_layout(\n",
        "    legend_title=\"クラスタ\",\n",
        "    legend= {'itemsizing': 'constant'},\n",
        "    font=dict(\n",
        "        family=\"Courier New, monospace\",\n",
        "        size=20,\n",
        "    )\n",
        ")\n",
        "for trace in fig.data:\n",
        "    trace.marker.size = 15\n",
        "\n",
        "fig.show()\n",
        "fig.write_html(\"JomonV7_000_pca_std_type_3.html\")\n",
        "\n"
      ],
      "metadata": {
        "colab": {
          "base_uri": "https://localhost:8080/",
          "height": 1000
        },
        "id": "LyN--Fe8sSCv",
        "outputId": "8b78ff64-9da1-42b1-ca5f-76b61fc94237"
      },
      "execution_count": null,
      "outputs": [
        {
          "output_type": "display_data",
          "data": {
            "text/html": [
              "<html>\n",
              "<head><meta charset=\"utf-8\" /></head>\n",
              "<body>\n",
              "    <div>            <script src=\"https://cdnjs.cloudflare.com/ajax/libs/mathjax/2.7.5/MathJax.js?config=TeX-AMS-MML_SVG\"></script><script type=\"text/javascript\">if (window.MathJax && window.MathJax.Hub && window.MathJax.Hub.Config) {window.MathJax.Hub.Config({SVG: {font: \"STIX-Web\"}});}</script>                <script type=\"text/javascript\">window.PlotlyConfig = {MathJaxConfig: 'local'};</script>\n",
              "        <script charset=\"utf-8\" src=\"https://cdn.plot.ly/plotly-2.24.1.min.js\"></script>                <div id=\"494bafbe-cb0d-408d-be31-7ea01cc6ede2\" class=\"plotly-graph-div\" style=\"height:1000px; width:1000px;\"></div>            <script type=\"text/javascript\">                                    window.PLOTLYENV=window.PLOTLYENV || {};                                    if (document.getElementById(\"494bafbe-cb0d-408d-be31-7ea01cc6ede2\")) {                    Plotly.newPlot(                        \"494bafbe-cb0d-408d-be31-7ea01cc6ede2\",                        [{\"hovertemplate\":\"Categories=0\\u003cbr\\u003e0=%{x}\\u003cbr\\u003e1=%{y}\\u003cbr\\u003esize=%{marker.size}\\u003cbr\\u003etext=%{text}\\u003cextra\\u003e\\u003c\\u002fextra\\u003e\",\"legendgroup\":\"0\",\"marker\":{\"color\":\"#636efa\",\"size\":15,\"sizemode\":\"area\",\"sizeref\":0.06666666666666667,\"symbol\":\"circle\"},\"mode\":\"markers+text\",\"name\":\"0\",\"orientation\":\"v\",\"showlegend\":true,\"text\":[\"\\uff1f(rm0699)\",\"\\u516d\\u53cd\\u7530(rm0681)\",\"\\u516d\\u53cd\\u7530(rm1316)\",\"\\u516d\\u53cd\\u7530(rm1348)\",\"\\u516d\\u53cd\\u7530(rm1321)\",\"\\u516d\\u53cd\\u7530(rm0493)\",\"\\u5929\\u795e\\u5c71\\u2161a(rm0750)\",\"\\u65b0\\u5d0e\\u2161(rm1313)\",\"\\u65b0\\u5d0e\\u2161a(rm0732)\",\"\\u4fe1\\u6fc3\\u5ddd(rm1022)\"],\"x\":[24.825559616088867,18.549747467041016,21.472732543945312,4.844209671020508,11.404223442077637,21.4865779876709,24.541635513305664,8.88306999206543,6.641342639923096,14.733494758605957],\"xaxis\":\"x\",\"y\":[-1.977735161781311,-9.767977714538574,-4.364928722381592,-11.039322853088379,-10.626970291137695,-5.519240379333496,-3.6439168453216553,-9.303872108459473,-8.288646697998047,-10.73261833190918],\"yaxis\":\"y\",\"type\":\"scatter\"},{\"hovertemplate\":\"Categories=1\\u003cbr\\u003e0=%{x}\\u003cbr\\u003e1=%{y}\\u003cbr\\u003esize=%{marker.size}\\u003cbr\\u003etext=%{text}\\u003cextra\\u003e\\u003c\\u002fextra\\u003e\",\"legendgroup\":\"1\",\"marker\":{\"color\":\"#EF553B\",\"size\":15,\"sizemode\":\"area\",\"sizeref\":0.06666666666666667,\"symbol\":\"diamond\"},\"mode\":\"markers+text\",\"name\":\"1\",\"orientation\":\"v\",\"showlegend\":true,\"text\":[\"\\u65b0\\u5d0e\\u2162(rm0873)\",\"\\u5929\\u795e\\u5c71\\u2161a(rm0945)\",\"\\u65b0\\u5d0e\\u2161b(rm0871)\",\"\\u516d\\u53cd\\u7530(rm0331)\",\"\\u5927\\u6728\\uff18\\uff42\\u4e2d(rm1406)\",\"\\u5927\\u6728\\uff18\\uff42\\u4e2d(rm1408)\",\"\\u65b0\\u5d0e\\u2161b(rm0580)\",\"(\\u7121\\u8a18\\u5165)(rm0457)\",\"\\u5927\\u6728\\uff18\\uff42\\u4e2d(rm1407)\"],\"x\":[10.062315940856934,0.010153871960937977,10.916138648986816,3.6492674350738525,5.443887710571289,9.203008651733398,4.4485087394714355,7.352569103240967,7.656911849975586],\"xaxis\":\"x\",\"y\":[25.794212341308594,33.81275939941406,24.146366119384766,32.41184616088867,33.58454132080078,25.397838592529297,35.763492584228516,31.479536056518555,29.453174591064453],\"yaxis\":\"y\",\"type\":\"scatter\"},{\"hovertemplate\":\"Categories=2\\u003cbr\\u003e0=%{x}\\u003cbr\\u003e1=%{y}\\u003cbr\\u003esize=%{marker.size}\\u003cbr\\u003etext=%{text}\\u003cextra\\u003e\\u003c\\u002fextra\\u003e\",\"legendgroup\":\"2\",\"marker\":{\"color\":\"#00cc96\",\"size\":15,\"sizemode\":\"area\",\"sizeref\":0.06666666666666667,\"symbol\":\"square\"},\"mode\":\"markers+text\",\"name\":\"2\",\"orientation\":\"v\",\"showlegend\":true,\"text\":[\"\\u713c\\u753a\\u53e4(rm1011)\",\"\\u5929\\u795e\\u5c71\\u2162(rm1410)\",\"\\u65b0\\u9053(rm0923)\",\"\\u516d\\u53cd\\u7530(rm0693)\"],\"x\":[-2.0609073638916016,-2.4629645347595215,-1.2680766582489014,1.5407096147537231],\"xaxis\":\"x\",\"y\":[5.496016979217529,1.299316644668579,4.523047924041748,-11.158239364624023],\"yaxis\":\"y\",\"type\":\"scatter\"},{\"hovertemplate\":\"Categories=3\\u003cbr\\u003e0=%{x}\\u003cbr\\u003e1=%{y}\\u003cbr\\u003esize=%{marker.size}\\u003cbr\\u003etext=%{text}\\u003cextra\\u003e\\u003c\\u002fextra\\u003e\",\"legendgroup\":\"3\",\"marker\":{\"color\":\"#ab63fa\",\"size\":15,\"sizemode\":\"area\",\"sizeref\":0.06666666666666667,\"symbol\":\"x\"},\"mode\":\"markers+text\",\"name\":\"3\",\"orientation\":\"v\",\"showlegend\":true,\"text\":[\"(\\u7121\\u8a18\\u5165)(rm0698)\",\"\\u65b0\\u5d0e\\u2160(rm0695)\",\"\\u85e4\\u5185\\u2161\\uff5e\\u4e95\\u6238\\u5c3b\\u2160(rm1318)\",\"\\u5929\\u795e\\u5c71\\u2161a(rm0684)\",\"\\u5929\\u795e\\u5c71\\u2160(rm0476)\",\"\\u516d\\u53cd\\u7530(rm0455)\",\"\\u65b0\\u5d0e\\u2161b(rm0657)\",\"\\u65b0\\u5d0e\\u2160(rm0683)\",\"\\u713c\\u753a\\u53e4(rm0733)\",\"\\u516d\\u53cd\\u7530(rm0956)\",\"\\u516d\\u53cd\\u7530(rm0875)\",\"\\u5929\\u795e\\u5c71\\u2160(rm0863)\",\"\\u5929\\u795e\\u5c71\\u2161a(rm1276)\",\"\\u516d\\u53cd\\u7530(rm0721)\",\"\\u5929\\u795e\\u5c71\\u2160(rm0701)\",\"\\u5929\\u795e\\u5c71\\u2160(rm1145)\"],\"x\":[-3.80057430267334,-15.925042152404785,-21.14090347290039,-17.589496612548828,-5.462635517120361,-3.334672689437866,-20.311317443847656,-23.18683624267578,-21.997005462646484,-23.613191604614258,-25.118144989013672,-14.706809043884277,-1.1872408390045166,-20.426883697509766,-3.795570135116577,-19.484479904174805],\"xaxis\":\"x\",\"y\":[-23.86073875427246,-6.548020362854004,-5.953862190246582,-2.586927652359009,-24.544395446777344,-3.1747467517852783,4.888800621032715,6.997446537017822,5.308359622955322,-4.009589195251465,-2.690664052963257,-7.717673301696777,-6.958600044250488,2.5724904537200928,-21.802600860595703,-2.390550136566162],\"yaxis\":\"y\",\"type\":\"scatter\"}],                        {\"template\":{\"data\":{\"histogram2dcontour\":[{\"type\":\"histogram2dcontour\",\"colorbar\":{\"outlinewidth\":0,\"ticks\":\"\"},\"colorscale\":[[0.0,\"#0d0887\"],[0.1111111111111111,\"#46039f\"],[0.2222222222222222,\"#7201a8\"],[0.3333333333333333,\"#9c179e\"],[0.4444444444444444,\"#bd3786\"],[0.5555555555555556,\"#d8576b\"],[0.6666666666666666,\"#ed7953\"],[0.7777777777777778,\"#fb9f3a\"],[0.8888888888888888,\"#fdca26\"],[1.0,\"#f0f921\"]]}],\"choropleth\":[{\"type\":\"choropleth\",\"colorbar\":{\"outlinewidth\":0,\"ticks\":\"\"}}],\"histogram2d\":[{\"type\":\"histogram2d\",\"colorbar\":{\"outlinewidth\":0,\"ticks\":\"\"},\"colorscale\":[[0.0,\"#0d0887\"],[0.1111111111111111,\"#46039f\"],[0.2222222222222222,\"#7201a8\"],[0.3333333333333333,\"#9c179e\"],[0.4444444444444444,\"#bd3786\"],[0.5555555555555556,\"#d8576b\"],[0.6666666666666666,\"#ed7953\"],[0.7777777777777778,\"#fb9f3a\"],[0.8888888888888888,\"#fdca26\"],[1.0,\"#f0f921\"]]}],\"heatmap\":[{\"type\":\"heatmap\",\"colorbar\":{\"outlinewidth\":0,\"ticks\":\"\"},\"colorscale\":[[0.0,\"#0d0887\"],[0.1111111111111111,\"#46039f\"],[0.2222222222222222,\"#7201a8\"],[0.3333333333333333,\"#9c179e\"],[0.4444444444444444,\"#bd3786\"],[0.5555555555555556,\"#d8576b\"],[0.6666666666666666,\"#ed7953\"],[0.7777777777777778,\"#fb9f3a\"],[0.8888888888888888,\"#fdca26\"],[1.0,\"#f0f921\"]]}],\"heatmapgl\":[{\"type\":\"heatmapgl\",\"colorbar\":{\"outlinewidth\":0,\"ticks\":\"\"},\"colorscale\":[[0.0,\"#0d0887\"],[0.1111111111111111,\"#46039f\"],[0.2222222222222222,\"#7201a8\"],[0.3333333333333333,\"#9c179e\"],[0.4444444444444444,\"#bd3786\"],[0.5555555555555556,\"#d8576b\"],[0.6666666666666666,\"#ed7953\"],[0.7777777777777778,\"#fb9f3a\"],[0.8888888888888888,\"#fdca26\"],[1.0,\"#f0f921\"]]}],\"contourcarpet\":[{\"type\":\"contourcarpet\",\"colorbar\":{\"outlinewidth\":0,\"ticks\":\"\"}}],\"contour\":[{\"type\":\"contour\",\"colorbar\":{\"outlinewidth\":0,\"ticks\":\"\"},\"colorscale\":[[0.0,\"#0d0887\"],[0.1111111111111111,\"#46039f\"],[0.2222222222222222,\"#7201a8\"],[0.3333333333333333,\"#9c179e\"],[0.4444444444444444,\"#bd3786\"],[0.5555555555555556,\"#d8576b\"],[0.6666666666666666,\"#ed7953\"],[0.7777777777777778,\"#fb9f3a\"],[0.8888888888888888,\"#fdca26\"],[1.0,\"#f0f921\"]]}],\"surface\":[{\"type\":\"surface\",\"colorbar\":{\"outlinewidth\":0,\"ticks\":\"\"},\"colorscale\":[[0.0,\"#0d0887\"],[0.1111111111111111,\"#46039f\"],[0.2222222222222222,\"#7201a8\"],[0.3333333333333333,\"#9c179e\"],[0.4444444444444444,\"#bd3786\"],[0.5555555555555556,\"#d8576b\"],[0.6666666666666666,\"#ed7953\"],[0.7777777777777778,\"#fb9f3a\"],[0.8888888888888888,\"#fdca26\"],[1.0,\"#f0f921\"]]}],\"mesh3d\":[{\"type\":\"mesh3d\",\"colorbar\":{\"outlinewidth\":0,\"ticks\":\"\"}}],\"scatter\":[{\"fillpattern\":{\"fillmode\":\"overlay\",\"size\":10,\"solidity\":0.2},\"type\":\"scatter\"}],\"parcoords\":[{\"type\":\"parcoords\",\"line\":{\"colorbar\":{\"outlinewidth\":0,\"ticks\":\"\"}}}],\"scatterpolargl\":[{\"type\":\"scatterpolargl\",\"marker\":{\"colorbar\":{\"outlinewidth\":0,\"ticks\":\"\"}}}],\"bar\":[{\"error_x\":{\"color\":\"#2a3f5f\"},\"error_y\":{\"color\":\"#2a3f5f\"},\"marker\":{\"line\":{\"color\":\"#E5ECF6\",\"width\":0.5},\"pattern\":{\"fillmode\":\"overlay\",\"size\":10,\"solidity\":0.2}},\"type\":\"bar\"}],\"scattergeo\":[{\"type\":\"scattergeo\",\"marker\":{\"colorbar\":{\"outlinewidth\":0,\"ticks\":\"\"}}}],\"scatterpolar\":[{\"type\":\"scatterpolar\",\"marker\":{\"colorbar\":{\"outlinewidth\":0,\"ticks\":\"\"}}}],\"histogram\":[{\"marker\":{\"pattern\":{\"fillmode\":\"overlay\",\"size\":10,\"solidity\":0.2}},\"type\":\"histogram\"}],\"scattergl\":[{\"type\":\"scattergl\",\"marker\":{\"colorbar\":{\"outlinewidth\":0,\"ticks\":\"\"}}}],\"scatter3d\":[{\"type\":\"scatter3d\",\"line\":{\"colorbar\":{\"outlinewidth\":0,\"ticks\":\"\"}},\"marker\":{\"colorbar\":{\"outlinewidth\":0,\"ticks\":\"\"}}}],\"scattermapbox\":[{\"type\":\"scattermapbox\",\"marker\":{\"colorbar\":{\"outlinewidth\":0,\"ticks\":\"\"}}}],\"scatterternary\":[{\"type\":\"scatterternary\",\"marker\":{\"colorbar\":{\"outlinewidth\":0,\"ticks\":\"\"}}}],\"scattercarpet\":[{\"type\":\"scattercarpet\",\"marker\":{\"colorbar\":{\"outlinewidth\":0,\"ticks\":\"\"}}}],\"carpet\":[{\"aaxis\":{\"endlinecolor\":\"#2a3f5f\",\"gridcolor\":\"white\",\"linecolor\":\"white\",\"minorgridcolor\":\"white\",\"startlinecolor\":\"#2a3f5f\"},\"baxis\":{\"endlinecolor\":\"#2a3f5f\",\"gridcolor\":\"white\",\"linecolor\":\"white\",\"minorgridcolor\":\"white\",\"startlinecolor\":\"#2a3f5f\"},\"type\":\"carpet\"}],\"table\":[{\"cells\":{\"fill\":{\"color\":\"#EBF0F8\"},\"line\":{\"color\":\"white\"}},\"header\":{\"fill\":{\"color\":\"#C8D4E3\"},\"line\":{\"color\":\"white\"}},\"type\":\"table\"}],\"barpolar\":[{\"marker\":{\"line\":{\"color\":\"#E5ECF6\",\"width\":0.5},\"pattern\":{\"fillmode\":\"overlay\",\"size\":10,\"solidity\":0.2}},\"type\":\"barpolar\"}],\"pie\":[{\"automargin\":true,\"type\":\"pie\"}]},\"layout\":{\"autotypenumbers\":\"strict\",\"colorway\":[\"#636efa\",\"#EF553B\",\"#00cc96\",\"#ab63fa\",\"#FFA15A\",\"#19d3f3\",\"#FF6692\",\"#B6E880\",\"#FF97FF\",\"#FECB52\"],\"font\":{\"color\":\"#2a3f5f\"},\"hovermode\":\"closest\",\"hoverlabel\":{\"align\":\"left\"},\"paper_bgcolor\":\"white\",\"plot_bgcolor\":\"#E5ECF6\",\"polar\":{\"bgcolor\":\"#E5ECF6\",\"angularaxis\":{\"gridcolor\":\"white\",\"linecolor\":\"white\",\"ticks\":\"\"},\"radialaxis\":{\"gridcolor\":\"white\",\"linecolor\":\"white\",\"ticks\":\"\"}},\"ternary\":{\"bgcolor\":\"#E5ECF6\",\"aaxis\":{\"gridcolor\":\"white\",\"linecolor\":\"white\",\"ticks\":\"\"},\"baxis\":{\"gridcolor\":\"white\",\"linecolor\":\"white\",\"ticks\":\"\"},\"caxis\":{\"gridcolor\":\"white\",\"linecolor\":\"white\",\"ticks\":\"\"}},\"coloraxis\":{\"colorbar\":{\"outlinewidth\":0,\"ticks\":\"\"}},\"colorscale\":{\"sequential\":[[0.0,\"#0d0887\"],[0.1111111111111111,\"#46039f\"],[0.2222222222222222,\"#7201a8\"],[0.3333333333333333,\"#9c179e\"],[0.4444444444444444,\"#bd3786\"],[0.5555555555555556,\"#d8576b\"],[0.6666666666666666,\"#ed7953\"],[0.7777777777777778,\"#fb9f3a\"],[0.8888888888888888,\"#fdca26\"],[1.0,\"#f0f921\"]],\"sequentialminus\":[[0.0,\"#0d0887\"],[0.1111111111111111,\"#46039f\"],[0.2222222222222222,\"#7201a8\"],[0.3333333333333333,\"#9c179e\"],[0.4444444444444444,\"#bd3786\"],[0.5555555555555556,\"#d8576b\"],[0.6666666666666666,\"#ed7953\"],[0.7777777777777778,\"#fb9f3a\"],[0.8888888888888888,\"#fdca26\"],[1.0,\"#f0f921\"]],\"diverging\":[[0,\"#8e0152\"],[0.1,\"#c51b7d\"],[0.2,\"#de77ae\"],[0.3,\"#f1b6da\"],[0.4,\"#fde0ef\"],[0.5,\"#f7f7f7\"],[0.6,\"#e6f5d0\"],[0.7,\"#b8e186\"],[0.8,\"#7fbc41\"],[0.9,\"#4d9221\"],[1,\"#276419\"]]},\"xaxis\":{\"gridcolor\":\"white\",\"linecolor\":\"white\",\"ticks\":\"\",\"title\":{\"standoff\":15},\"zerolinecolor\":\"white\",\"automargin\":true,\"zerolinewidth\":2},\"yaxis\":{\"gridcolor\":\"white\",\"linecolor\":\"white\",\"ticks\":\"\",\"title\":{\"standoff\":15},\"zerolinecolor\":\"white\",\"automargin\":true,\"zerolinewidth\":2},\"scene\":{\"xaxis\":{\"backgroundcolor\":\"#E5ECF6\",\"gridcolor\":\"white\",\"linecolor\":\"white\",\"showbackground\":true,\"ticks\":\"\",\"zerolinecolor\":\"white\",\"gridwidth\":2},\"yaxis\":{\"backgroundcolor\":\"#E5ECF6\",\"gridcolor\":\"white\",\"linecolor\":\"white\",\"showbackground\":true,\"ticks\":\"\",\"zerolinecolor\":\"white\",\"gridwidth\":2},\"zaxis\":{\"backgroundcolor\":\"#E5ECF6\",\"gridcolor\":\"white\",\"linecolor\":\"white\",\"showbackground\":true,\"ticks\":\"\",\"zerolinecolor\":\"white\",\"gridwidth\":2}},\"shapedefaults\":{\"line\":{\"color\":\"#2a3f5f\"}},\"annotationdefaults\":{\"arrowcolor\":\"#2a3f5f\",\"arrowhead\":0,\"arrowwidth\":1},\"geo\":{\"bgcolor\":\"white\",\"landcolor\":\"#E5ECF6\",\"subunitcolor\":\"white\",\"showland\":true,\"showlakes\":true,\"lakecolor\":\"white\"},\"title\":{\"x\":0.05},\"mapbox\":{\"style\":\"light\"}}},\"xaxis\":{\"anchor\":\"y\",\"domain\":[0.0,1.0],\"title\":{\"text\":\"0\"}},\"yaxis\":{\"anchor\":\"x\",\"domain\":[0.0,1.0],\"title\":{\"text\":\"1\"}},\"legend\":{\"title\":{\"text\":\"\\u30af\\u30e9\\u30b9\\u30bf\"},\"tracegroupgap\":0,\"itemsizing\":\"constant\"},\"title\":{\"text\":\"PCA(\\u6a19\\u6e96\\u5316)-\\u7e04\\u6587\\u571f\\u5668\"},\"height\":1000,\"width\":1000,\"font\":{\"family\":\"Courier New, monospace\",\"size\":20}},                        {\"responsive\": true}                    ).then(function(){\n",
              "                            \n",
              "var gd = document.getElementById('494bafbe-cb0d-408d-be31-7ea01cc6ede2');\n",
              "var x = new MutationObserver(function (mutations, observer) {{\n",
              "        var display = window.getComputedStyle(gd).display;\n",
              "        if (!display || display === 'none') {{\n",
              "            console.log([gd, 'removed!']);\n",
              "            Plotly.purge(gd);\n",
              "            observer.disconnect();\n",
              "        }}\n",
              "}});\n",
              "\n",
              "// Listen for the removal of the full notebook cells\n",
              "var notebookContainer = gd.closest('#notebook-container');\n",
              "if (notebookContainer) {{\n",
              "    x.observe(notebookContainer, {childList: true});\n",
              "}}\n",
              "\n",
              "// Listen for the clearing of the current output cell\n",
              "var outputEl = gd.closest('.output');\n",
              "if (outputEl) {{\n",
              "    x.observe(outputEl, {childList: true});\n",
              "}}\n",
              "\n",
              "                        })                };                            </script>        </div>\n",
              "</body>\n",
              "</html>"
            ]
          },
          "metadata": {}
        }
      ],
      "id": "LyN--Fe8sSCv"
    },
    {
      "cell_type": "markdown",
      "metadata": {
        "id": "f6734be8"
      },
      "source": [
        "### エルボー法の適用"
      ],
      "id": "f6734be8"
    },
    {
      "cell_type": "code",
      "execution_count": null,
      "metadata": {
        "id": "1a377b3b"
      },
      "outputs": [],
      "source": [
        "inertias1 = []\n",
        "for k in range(2,16):\n",
        "    kmc = KMeans(n_clusters=k, init='k-means++', n_init=16, max_iter=300,\n",
        "                           tol=0.0001, verbose=0, random_state=None, copy_x=True)\n",
        "\n",
        "    km_predictions1_e = kmc.fit_predict(features_std)\n",
        "    inertias1.append(kmc.inertia_)"
      ],
      "id": "1a377b3b"
    },
    {
      "cell_type": "code",
      "execution_count": null,
      "metadata": {
        "colab": {
          "base_uri": "https://localhost:8080/",
          "height": 469
        },
        "id": "6c848350",
        "outputId": "36ba4b7f-3157-467c-f8a2-f1d19dfb5560"
      },
      "outputs": [
        {
          "output_type": "display_data",
          "data": {
            "text/plain": [
              "<Figure size 640x480 with 1 Axes>"
            ],
            "image/png": "[encoded data removed]"
          },
          "metadata": {}
        }
      ],
      "source": [
        "plt.plot(range(2,16), inertias1, '-')\n",
        "plt.xticks(range(2,16))\n",
        "plt.title(\"clusters\")\n",
        "plt.xlabel('Num of clusters')\n",
        "plt.ylabel('SSE/Distortion')\n",
        "plt.savefig('elbow_chart.png')"
      ],
      "id": "6c848350"
    },
    {
      "cell_type": "markdown",
      "metadata": {
        "id": "OfeBfaP7cy0M"
      },
      "source": [
        "### グラフなどを保存する"
      ],
      "id": "OfeBfaP7cy0M"
    },
    {
      "cell_type": "code",
      "execution_count": null,
      "metadata": {
        "id": "Gvqov4HFtaqM"
      },
      "outputs": [],
      "source": [
        "!mkdir {DATASAVE_DIR}\n",
        "!cp -r *.png *.npy *.html *.hdf5 *.csv {DATASET_SAVE_PATH} {DATASET_SAVE_PATH}-inital {DATASAVE_DIR}\n",
        "!zip -r {DATASAVE_DIR}.zip {DATASAVE_DIR}"
      ],
      "id": "Gvqov4HFtaqM"
    },
    {
      "cell_type": "code",
      "execution_count": null,
      "metadata": {
        "id": "Lby_u9AEBXQt"
      },
      "outputs": [],
      "source": [
        "!mv {DATASAVE_DIR}.zip /content/drive/MyDrive/jomon/jomon"
      ],
      "id": "Lby_u9AEBXQt"
    },
    {
      "cell_type": "markdown",
      "metadata": {
        "id": "dQtL10NHVFnP"
      },
      "source": [],
      "id": "dQtL10NHVFnP"
    }
  ],
  "metadata": {
    "colab": {
      "machine_shape": "hm",
      "provenance": [],
      "gpuClass": "premium",
      "gpuType": "A100"
    },
    "kernelspec": {
      "display_name": "Python 3",
      "name": "python3"
    },
    "language_info": {
      "codemirror_mode": {
        "name": "ipython",
        "version": 3
      },
      "file_extension": ".py",
      "mimetype": "text/x-python",
      "name": "python",
      "nbconvert_exporter": "python",
      "pygments_lexer": "ipython3",
      "version": "3.9.5"
    },
    "accelerator": "GPU"
  },
  "nbformat": 4,
  "nbformat_minor": 5
}
