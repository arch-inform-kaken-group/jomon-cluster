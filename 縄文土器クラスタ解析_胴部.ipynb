{
  "cells": [
    {
      "cell_type": "markdown",
      "source": [
        "#縄文土器（胴部）クラスタ解析"
      ],
      "metadata": {
        "id": "SYcksB6991_e"
      },
      "id": "SYcksB6991_e"
    },
    {
      "cell_type": "markdown",
      "source": [
        "## Voxelデータの展開\n"
      ],
      "metadata": {
        "id": "4rcFkhk00AJ9"
      },
      "id": "4rcFkhk00AJ9"
    },
    {
      "cell_type": "code",
      "execution_count": null,
      "metadata": {
        "colab": {
          "base_uri": "https://localhost:8080/"
        },
        "id": "7bfac36f",
        "outputId": "6c11b039-92da-4f92-df34-93203f5b0c33"
      },
      "outputs": [
        {
          "output_type": "stream",
          "name": "stdout",
          "text": [
            "Mounted at /content/drive\n"
          ]
        }
      ],
      "source": [
        "from google.colab import drive\n",
        "drive.mount('/content/drive')"
      ],
      "id": "7bfac36f"
    },
    {
      "cell_type": "code",
      "execution_count": null,
      "metadata": {
        "id": "ksXWhVI3-pjw"
      },
      "outputs": [],
      "source": [
        "!unzip -q /content/drive/MyDrive/jomon/jomon/jomonvoxels-128-20240308.zip"
      ],
      "id": "ksXWhVI3-pjw"
    },
    {
      "cell_type": "code",
      "source": [
        "# body 除外の個体を削除\n",
        "!rm data/voxel/rm0681* data/voxel/rm0943*"
      ],
      "metadata": {
        "id": "QSFE4NYBfRQb"
      },
      "id": "QSFE4NYBfRQb",
      "execution_count": null,
      "outputs": []
    },
    {
      "cell_type": "markdown",
      "metadata": {
        "id": "vMuFpelK5SrR"
      },
      "source": [
        "# パッケージインストール\n"
      ],
      "id": "vMuFpelK5SrR"
    },
    {
      "cell_type": "code",
      "execution_count": null,
      "metadata": {
        "colab": {
          "base_uri": "https://localhost:8080/"
        },
        "id": "hf8FZb9OynSF",
        "outputId": "88e8e6f9-6417-4600-e91a-1c369da6c6ac"
      },
      "outputs": [
        {
          "output_type": "stream",
          "name": "stdout",
          "text": [
            "\u001b[?25l     \u001b[90m━━━━━━━━━━━━━━━━━━━━━━━━━━━━━━━━━━━━━━━━\u001b[0m \u001b[32m0.0/4.1 MB\u001b[0m \u001b[31m?\u001b[0m eta \u001b[36m-:--:--\u001b[0m\r\u001b[2K     \u001b[91m━━━━━━━━\u001b[0m\u001b[91m╸\u001b[0m\u001b[90m━━━━━━━━━━━━━━━━━━━━━━━━━━━━━━━\u001b[0m \u001b[32m0.9/4.1 MB\u001b[0m \u001b[31m27.1 MB/s\u001b[0m eta \u001b[36m0:00:01\u001b[0m\r\u001b[2K     \u001b[91m━━━━━━━━━━━━━━━━━━━━━━━━━━━━━━━━━━━━━━━\u001b[0m\u001b[91m╸\u001b[0m \u001b[32m4.1/4.1 MB\u001b[0m \u001b[31m80.2 MB/s\u001b[0m eta \u001b[36m0:00:01\u001b[0m\r\u001b[2K     \u001b[90m━━━━━━━━━━━━━━━━━━━━━━━━━━━━━━━━━━━━━━━━\u001b[0m \u001b[32m4.1/4.1 MB\u001b[0m \u001b[31m55.5 MB/s\u001b[0m eta \u001b[36m0:00:00\u001b[0m\n",
            "\u001b[?25h  Preparing metadata (setup.py) ... \u001b[?25l\u001b[?25hdone\n",
            "  Building wheel for japanize_matplotlib (setup.py) ... \u001b[?25l\u001b[?25hdone\n",
            "\u001b[2K     \u001b[90m━━━━━━━━━━━━━━━━━━━━━━━━━━━━━━━━━━━━━━━━\u001b[0m \u001b[32m69.8/69.8 kB\u001b[0m \u001b[31m3.0 MB/s\u001b[0m eta \u001b[36m0:00:00\u001b[0m\n",
            "\u001b[?25h"
          ]
        }
      ],
      "source": [
        "!pip install -q japanize_matplotlib\n",
        "!pip install -q tensorflow-determinism classification-models-3D"
      ],
      "id": "hf8FZb9OynSF"
    },
    {
      "cell_type": "markdown",
      "metadata": {
        "id": "VNfGpmKw9j9v"
      },
      "source": [
        "# 仮ラベル付きのクラスタリング"
      ],
      "id": "VNfGpmKw9j9v"
    },
    {
      "cell_type": "code",
      "execution_count": null,
      "metadata": {
        "id": "6f464c32"
      },
      "outputs": [],
      "source": [
        "import os\n",
        "from glob import glob\n",
        "import re\n",
        "import numpy as np\n",
        "import pandas as pd\n",
        "import plotly.express as px\n",
        "import matplotlib.pyplot as plt\n",
        "import japanize_matplotlib\n",
        "%matplotlib inline\n",
        "\n",
        "import tensorflow as tf\n",
        "from tensorflow import keras\n",
        "from sklearn.cluster import KMeans\n",
        "from sklearn.preprocessing import StandardScaler\n",
        "from sklearn.decomposition import PCA\n",
        "from sklearn.manifold import TSNE\n",
        "import random\n",
        "import gc\n",
        "\n",
        "from skimage.transform import resize\n",
        "from matplotlib import pyplot as plt\n",
        "from matplotlib.colors import Normalize\n",
        "from mpl_toolkits.axes_grid1.inset_locator import inset_axes\n",
        "import matplotlib.pyplot as plt\n",
        "from matplotlib import cm"
      ],
      "id": "6f464c32"
    },
    {
      "cell_type": "code",
      "execution_count": null,
      "metadata": {
        "id": "b646003c"
      },
      "outputs": [],
      "source": [
        "\n",
        "def set_seed(seed=200):\n",
        "    tf.random.set_seed(seed)\n",
        "\n",
        "    # optional\n",
        "    # for numpy.random\n",
        "    np.random.seed(seed)\n",
        "    # for built-in random\n",
        "    random.seed(seed)\n",
        "    # for hash seed\n",
        "    os.environ[\"PYTHONHASHSEED\"] = str(seed)\n",
        "    os.environ['TF_DETERMINISTIC_OPS'] = '1'\n",
        "\n",
        "\n",
        "set_seed(123)\n"
      ],
      "id": "b646003c"
    },
    {
      "cell_type": "markdown",
      "metadata": {
        "id": "KQOUJ0nqQBB8"
      },
      "source": [
        "## 定数定義"
      ],
      "id": "KQOUJ0nqQBB8"
    },
    {
      "cell_type": "code",
      "execution_count": null,
      "metadata": {
        "id": "feed76cf"
      },
      "outputs": [],
      "source": [
        "NUM_CLASSES = 4\n",
        "NUM_CLUSTERS = 4\n",
        "NUM_PCA_COMPONENTS = 4\n",
        "BUFFER_SIZE = 1000\n",
        "BATCH_SIZE = 4\n",
        "EPOCHS = 60\n",
        "CLUSTERING_INTERVAL = 3\n",
        "DATA_DIR = '/content/data/voxel'\n",
        "IMAGE_SIZE = 128\n",
        "NUM_CHANNELS = 3\n",
        "PART = \"body\"\n",
        "\n",
        "FEATURE_EXTRACTOR_MODEL_PATH = \"feature_extractor_20230308-128-swish-noise-single-random-IV3_JomonV7_{}_cls{}_ep{}.hdf5\".format(PART, NUM_CLUSTERS,EPOCHS)\n",
        "CLASSIFIER_MODEL_PATH = \"classifier_20230308-128-swish-noise-single-random-IV3_JomonV7_{}_cls{}_ep{}.hdf5\".format(PART, NUM_CLUSTERS,EPOCHS)\n",
        "DATASET_SAVE_PATH = \"pseudo_dataset_20230308-128-swish-noise-single-random-IV3_JomonV7_{}_cls{}_ep{}\".format(PART, NUM_CLUSTERS,EPOCHS)\n",
        "\n",
        "DATASAVE_DIR = \"JomonV7_{}_20230308-128-swish-noise-single-random-IV3_deg30_cls{}_ep{}\".format(PART, NUM_CLUSTERS,EPOCHS)\n"
      ],
      "id": "feed76cf"
    },
    {
      "cell_type": "markdown",
      "metadata": {
        "id": "2075eac1"
      },
      "source": [
        "## モデル定義"
      ],
      "id": "2075eac1"
    },
    {
      "cell_type": "code",
      "execution_count": null,
      "metadata": {
        "id": "135277a4"
      },
      "outputs": [],
      "source": [
        "class ConvNet3D(keras.Model):\n",
        "    def __init__(self):\n",
        "        super(ConvNet3D, self).__init__()\n",
        "        self.conv3d_1 = keras.layers.Conv3D(filters=64,\n",
        "                                            padding='same', kernel_size=3, activation='linear', name='conv3d_1')\n",
        "        self.bn_1 = keras.layers.BatchNormalization()\n",
        "        self.act_1 = keras.layers.Activation('swish')\n",
        "        self.maxpool3d_1 = keras.layers.MaxPool3D(pool_size=2)\n",
        "\n",
        "\n",
        "        self.conv3d_2 = keras.layers.Conv3D(filters=64,\n",
        "                                            padding='same', kernel_size=3, activation='linear', name='conv3d_2')\n",
        "        self.bn_2 = keras.layers.BatchNormalization()\n",
        "        self.act_2 = keras.layers.Activation('swish')\n",
        "        self.maxpool3d_2 = keras.layers.MaxPool3D(pool_size=2)\n",
        "\n",
        "\n",
        "        self.conv3d_3 = keras.layers.Conv3D(filters=128,\n",
        "                                            padding='same',  kernel_size=3, activation='linear', name='conv3d_3')\n",
        "        self.bn_3 = keras.layers.BatchNormalization()\n",
        "        self.act_3 = keras.layers.Activation('swish')\n",
        "        self.maxpool3d_3 = keras.layers.MaxPool3D(pool_size=2)\n",
        "\n",
        "\n",
        "        self.conv3d_4 = keras.layers.Conv3D(filters=256,\n",
        "                                            padding='same', kernel_size=3, activation='linear', name='conv3d_4')\n",
        "        self.bn_4 = keras.layers.BatchNormalization()\n",
        "        self.act_4 = keras.layers.Activation('swish')\n",
        "        self.maxpool3d_4 = keras.layers.MaxPool3D(pool_size=1)\n",
        "\n",
        "\n",
        "        self.gap_1 = keras.layers.GlobalAveragePooling3D()\n",
        "\n",
        "        self.dense_1 = keras.layers.Dense(128)\n",
        "\n",
        "    def call(self, inputs):\n",
        "        x = self.conv3d_1(inputs)\n",
        "        x = self.bn_1(x)\n",
        "        x = self.act_1(x)\n",
        "        x = self.maxpool3d_1(x)\n",
        "\n",
        "        x = self.conv3d_2(x)\n",
        "        x = self.bn_2(x)\n",
        "        x = self.act_2(x)\n",
        "        x = self.maxpool3d_2(x)\n",
        "\n",
        "        x = self.conv3d_3(x)\n",
        "        x = self.bn_3(x)\n",
        "        x = self.act_3(x)\n",
        "        x = self.maxpool3d_3(x)\n",
        "\n",
        "        x = self.conv3d_4(x)\n",
        "        x = self.bn_4(x)\n",
        "        x = self.act_4(x)\n",
        "        x = self.maxpool3d_4(x)\n",
        "\n",
        "        x = self.gap_1(x)\n",
        "        x = self.dense_1(x)\n",
        "        return x"
      ],
      "id": "135277a4"
    },
    {
      "cell_type": "code",
      "execution_count": null,
      "metadata": {
        "id": "YYH2hrqz1Ecm"
      },
      "outputs": [],
      "source": [
        "class Classify3D(tf.keras.Model):\n",
        "    def __init__(self, feature_extractor, num_of_classes=3):\n",
        "        super(Classify3D, self).__init__()\n",
        "        self.feature_extractor = feature_extractor\n",
        "        self.num_of_classes = num_of_classes\n",
        "        self.activation_1 = keras.layers.Activation(keras.activations.selu)\n",
        "        self.dense_1 = keras.layers.Dense(self.num_of_classes, activation='softmax')\n",
        "\n",
        "    def call(self, inputs):\n",
        "        x = self.feature_extractor(inputs)\n",
        "        x = self.activation_1(x)\n",
        "        x = self.dense_1(x)\n",
        "\n",
        "        return x"
      ],
      "id": "YYH2hrqz1Ecm"
    },
    {
      "cell_type": "code",
      "execution_count": null,
      "metadata": {
        "colab": {
          "base_uri": "https://localhost:8080/"
        },
        "id": "4d1a20f9",
        "outputId": "018d6dee-cc88-4db9-f58f-4bddcee074ea"
      },
      "outputs": [
        {
          "output_type": "stream",
          "name": "stdout",
          "text": [
            "Model: \"conv_net3d\"\n",
            "_________________________________________________________________\n",
            " Layer (type)                Output Shape              Param #   \n",
            "=================================================================\n",
            " conv3d_1 (Conv3D)           multiple                  5248      \n",
            "                                                                 \n",
            " batch_normalization (Batch  multiple                  256       \n",
            " Normalization)                                                  \n",
            "                                                                 \n",
            " activation (Activation)     multiple                  0         \n",
            "                                                                 \n",
            " max_pooling3d (MaxPooling3  multiple                  0         \n",
            " D)                                                              \n",
            "                                                                 \n",
            " conv3d_2 (Conv3D)           multiple                  110656    \n",
            "                                                                 \n",
            " batch_normalization_1 (Bat  multiple                  256       \n",
            " chNormalization)                                                \n",
            "                                                                 \n",
            " activation_1 (Activation)   multiple                  0         \n",
            "                                                                 \n",
            " max_pooling3d_1 (MaxPoolin  multiple                  0         \n",
            " g3D)                                                            \n",
            "                                                                 \n",
            " conv3d_3 (Conv3D)           multiple                  221312    \n",
            "                                                                 \n",
            " batch_normalization_2 (Bat  multiple                  512       \n",
            " chNormalization)                                                \n",
            "                                                                 \n",
            " activation_2 (Activation)   multiple                  0         \n",
            "                                                                 \n",
            " max_pooling3d_2 (MaxPoolin  multiple                  0         \n",
            " g3D)                                                            \n",
            "                                                                 \n",
            " conv3d_4 (Conv3D)           multiple                  884992    \n",
            "                                                                 \n",
            " batch_normalization_3 (Bat  multiple                  1024      \n",
            " chNormalization)                                                \n",
            "                                                                 \n",
            " activation_3 (Activation)   multiple                  0         \n",
            "                                                                 \n",
            " max_pooling3d_3 (MaxPoolin  multiple                  0         \n",
            " g3D)                                                            \n",
            "                                                                 \n",
            " global_average_pooling3d (  multiple                  0         \n",
            " GlobalAveragePooling3D)                                         \n",
            "                                                                 \n",
            " dense (Dense)               multiple                  32896     \n",
            "                                                                 \n",
            "=================================================================\n",
            "Total params: 1257152 (4.80 MB)\n",
            "Trainable params: 1256128 (4.79 MB)\n",
            "Non-trainable params: 1024 (4.00 KB)\n",
            "_________________________________________________________________\n"
          ]
        }
      ],
      "source": [
        "feature_extractor = ConvNet3D()\n",
        "feature_extractor.build(input_shape=(BATCH_SIZE, IMAGE_SIZE, IMAGE_SIZE, IMAGE_SIZE, NUM_CHANNELS))\n",
        "feature_extractor.summary()"
      ],
      "id": "4d1a20f9"
    },
    {
      "cell_type": "code",
      "execution_count": null,
      "metadata": {
        "colab": {
          "base_uri": "https://localhost:8080/"
        },
        "id": "a0683a3c",
        "outputId": "30031385-8cf8-4d5d-9468-7ad18554f415"
      },
      "outputs": [
        {
          "output_type": "stream",
          "name": "stdout",
          "text": [
            "Model: \"classify3d\"\n",
            "_________________________________________________________________\n",
            " Layer (type)                Output Shape              Param #   \n",
            "=================================================================\n",
            " conv_net3d (ConvNet3D)      multiple                  1257152   \n",
            "                                                                 \n",
            " activation_4 (Activation)   multiple                  0         \n",
            "                                                                 \n",
            " dense_1 (Dense)             multiple                  516       \n",
            "                                                                 \n",
            "=================================================================\n",
            "Total params: 1257668 (4.80 MB)\n",
            "Trainable params: 1256644 (4.79 MB)\n",
            "Non-trainable params: 1024 (4.00 KB)\n",
            "_________________________________________________________________\n"
          ]
        }
      ],
      "source": [
        "classifier = Classify3D(feature_extractor, num_of_classes=NUM_CLASSES)\n",
        "classifier.build(input_shape=(BATCH_SIZE, IMAGE_SIZE, IMAGE_SIZE, IMAGE_SIZE, NUM_CHANNELS))\n",
        "classifier.summary()"
      ],
      "id": "a0683a3c"
    },
    {
      "cell_type": "code",
      "execution_count": null,
      "metadata": {
        "id": "00e7de59"
      },
      "outputs": [],
      "source": [
        "pca = PCA(n_components=NUM_PCA_COMPONENTS)\n",
        "\n",
        "stdsc = StandardScaler()\n",
        "\n",
        "kmc = KMeans(n_clusters=NUM_CLUSTERS, init='k-means++', n_init=2, max_iter=300,\n",
        "                       tol=0.0001, verbose=0, random_state=123, copy_x=True)"
      ],
      "id": "00e7de59"
    },
    {
      "cell_type": "code",
      "execution_count": null,
      "metadata": {
        "id": "ZFxU5bUEPcSA"
      },
      "outputs": [],
      "source": [],
      "id": "ZFxU5bUEPcSA"
    },
    {
      "cell_type": "markdown",
      "metadata": {
        "id": "8a3126a6"
      },
      "source": [
        "## データ準備"
      ],
      "id": "8a3126a6"
    },
    {
      "cell_type": "code",
      "execution_count": null,
      "metadata": {
        "id": "b5fc3646"
      },
      "outputs": [],
      "source": [
        "train_pattern = DATA_DIR +'/rm*_{}_*_{}.npy'.format(IMAGE_SIZE, PART)\n",
        "\n",
        "train_list_ds = tf.data.Dataset.list_files(train_pattern, shuffle=False)\n",
        "\n",
        "# 学習中の混同行列表示用に正解ラベルを格納する（推論モードから入りラベルを変更するためモデルは読み込まない）\n",
        "# 今回は全て0を入れる\n",
        "train_ids = list(np.zeros(len(train_list_ds)))\n",
        "\n",
        "train_label_ds = tf.data.Dataset.from_tensor_slices(tf.cast(train_ids, tf.int64))"
      ],
      "id": "b5fc3646"
    },
    {
      "cell_type": "code",
      "execution_count": null,
      "metadata": {
        "id": "6bI1CJEkAUbJ"
      },
      "outputs": [],
      "source": [],
      "id": "6bI1CJEkAUbJ"
    },
    {
      "cell_type": "code",
      "execution_count": null,
      "metadata": {
        "id": "1e854c64"
      },
      "outputs": [],
      "source": [
        "def read_npy_file(path):\n",
        "    voxel_data = np.load(path.numpy())\n",
        "    #RGBAが全て0ならばランダム値をいれてAチャネルを切る\n",
        "    data = np.where(np.all(voxel_data, axis=3, keepdims=True) ==0, np.random.randint(0, 256,(IMAGE_SIZE,IMAGE_SIZE,IMAGE_SIZE,4)), voxel_data)[:,:,:,0:3]/255\n",
        "    return tf.convert_to_tensor(data, dtype=tf.float32)"
      ],
      "id": "1e854c64"
    },
    {
      "cell_type": "code",
      "execution_count": null,
      "metadata": {
        "id": "96ccb6e3"
      },
      "outputs": [],
      "source": [
        "train_3d_ds = train_list_ds.map(\n",
        "        lambda item: tf.py_function(read_npy_file, [item], tf.float32))#.cache(filename='./cache.tf-data')"
      ],
      "id": "96ccb6e3"
    },
    {
      "cell_type": "markdown",
      "metadata": {
        "id": "5d4f898d"
      },
      "source": [
        "## モデルの学習"
      ],
      "id": "5d4f898d"
    },
    {
      "cell_type": "code",
      "execution_count": null,
      "metadata": {
        "colab": {
          "base_uri": "https://localhost:8080/"
        },
        "id": "CeHJ_QUkkPda",
        "outputId": "dc0fe0c2-4ea9-4c4e-9e31-0483e6c1a59c"
      },
      "outputs": [
        {
          "output_type": "stream",
          "name": "stdout",
          "text": [
            "Sun Mar 10 23:55:49 2024       \n",
            "+---------------------------------------------------------------------------------------+\n",
            "| NVIDIA-SMI 535.104.05             Driver Version: 535.104.05   CUDA Version: 12.2     |\n",
            "|-----------------------------------------+----------------------+----------------------+\n",
            "| GPU  Name                 Persistence-M | Bus-Id        Disp.A | Volatile Uncorr. ECC |\n",
            "| Fan  Temp   Perf          Pwr:Usage/Cap |         Memory-Usage | GPU-Util  Compute M. |\n",
            "|                                         |                      |               MIG M. |\n",
            "|=========================================+======================+======================|\n",
            "|   0  NVIDIA A100-SXM4-40GB          Off | 00000000:00:04.0 Off |                    0 |\n",
            "| N/A   35C    P0              53W / 400W |    455MiB / 40960MiB |      0%      Default |\n",
            "|                                         |                      |             Disabled |\n",
            "+-----------------------------------------+----------------------+----------------------+\n",
            "                                                                                         \n",
            "+---------------------------------------------------------------------------------------+\n",
            "| Processes:                                                                            |\n",
            "|  GPU   GI   CI        PID   Type   Process name                            GPU Memory |\n",
            "|        ID   ID                                                             Usage      |\n",
            "|=======================================================================================|\n",
            "+---------------------------------------------------------------------------------------+\n"
          ]
        }
      ],
      "source": [
        "!nvidia-smi"
      ],
      "id": "CeHJ_QUkkPda"
    },
    {
      "cell_type": "code",
      "execution_count": null,
      "metadata": {
        "id": "m9ffRB_-pqpt"
      },
      "outputs": [],
      "source": [],
      "id": "m9ffRB_-pqpt"
    },
    {
      "cell_type": "code",
      "execution_count": null,
      "metadata": {
        "colab": {
          "base_uri": "https://localhost:8080/"
        },
        "id": "2161662a",
        "scrolled": false,
        "outputId": "ef1e09fd-bdd5-4933-d323-b1c746745a0a"
      },
      "outputs": [
        {
          "output_type": "stream",
          "name": "stdout",
          "text": [
            "Epoch: 0, Distortion: 1000.43\n",
            "[[ 95 176 126  71]\n",
            " [  0   0   0   0]\n",
            " [  0   0   0   0]\n",
            " [  0   0   0   0]]\n"
          ]
        },
        {
          "output_type": "stream",
          "name": "stderr",
          "text": [
            "WARNING:tensorflow:5 out of the last 5 calls to <function _BaseOptimizer._update_step_xla at 0x7dac0422b880> triggered tf.function retracing. Tracing is expensive and the excessive number of tracings could be due to (1) creating @tf.function repeatedly in a loop, (2) passing tensors with different shapes, (3) passing Python objects instead of tensors. For (1), please define your @tf.function outside of the loop. For (2), @tf.function has reduce_retracing=True option that can avoid unnecessary retracing. For (3), please refer to https://www.tensorflow.org/guide/function#controlling_retracing and https://www.tensorflow.org/api_docs/python/tf/function for  more details.\n",
            "WARNING:tensorflow:6 out of the last 6 calls to <function _BaseOptimizer._update_step_xla at 0x7dac0422b880> triggered tf.function retracing. Tracing is expensive and the excessive number of tracings could be due to (1) creating @tf.function repeatedly in a loop, (2) passing tensors with different shapes, (3) passing Python objects instead of tensors. For (1), please define your @tf.function outside of the loop. For (2), @tf.function has reduce_retracing=True option that can avoid unnecessary retracing. For (3), please refer to https://www.tensorflow.org/guide/function#controlling_retracing and https://www.tensorflow.org/api_docs/python/tf/function for  more details.\n"
          ]
        },
        {
          "output_type": "stream",
          "name": "stdout",
          "text": [
            "Epoch 1, Loss: 0.8696236610412598, Accuracy: 63.88888931274414\n",
            "Epoch 2, Loss: 0.5832920074462891, Accuracy: 77.56410217285156\n",
            "Epoch 3, Loss: 0.5193639993667603, Accuracy: 80.34188079833984\n",
            "Epoch: 3, Distortion: 945.24\n",
            "[[ 59  96 204 109]\n",
            " [  0   0   0   0]\n",
            " [  0   0   0   0]\n",
            " [  0   0   0   0]]\n",
            "Epoch 4, Loss: 0.9830902814865112, Accuracy: 66.23931884765625\n",
            "Epoch 5, Loss: 0.4838554859161377, Accuracy: 82.69230651855469\n",
            "Epoch 6, Loss: 0.4404628276824951, Accuracy: 85.04273223876953\n",
            "Epoch: 6, Distortion: 868.40\n",
            "[[ 47 217 120  84]\n",
            " [  0   0   0   0]\n",
            " [  0   0   0   0]\n",
            " [  0   0   0   0]]\n",
            "Epoch 7, Loss: 1.0047086477279663, Accuracy: 63.88888931274414\n",
            "Epoch 8, Loss: 0.5310909748077393, Accuracy: 79.9145278930664\n",
            "Epoch 9, Loss: 0.37143200635910034, Accuracy: 87.82051086425781\n",
            "Epoch: 9, Distortion: 767.79\n",
            "[[ 48 216 120  84]\n",
            " [  0   0   0   0]\n",
            " [  0   0   0   0]\n",
            " [  0   0   0   0]]\n",
            "Epoch 10, Loss: 0.3204714059829712, Accuracy: 90.17093658447266\n",
            "Epoch 11, Loss: 0.25510767102241516, Accuracy: 90.5982894897461\n",
            "Epoch 12, Loss: 0.22190526127815247, Accuracy: 94.23077392578125\n",
            "Epoch: 12, Distortion: 784.65\n",
            "[[ 60 120 216  72]\n",
            " [  0   0   0   0]\n",
            " [  0   0   0   0]\n",
            " [  0   0   0   0]]\n",
            "Epoch 13, Loss: 0.6189540028572083, Accuracy: 80.12820434570312\n",
            "Epoch 14, Loss: 0.31571176648139954, Accuracy: 89.10256958007812\n",
            "Epoch 15, Loss: 0.2782411277294159, Accuracy: 89.31623840332031\n",
            "Epoch: 15, Distortion: 747.20\n",
            "[[ 60 216  72 120]\n",
            " [  0   0   0   0]\n",
            " [  0   0   0   0]\n",
            " [  0   0   0   0]]\n",
            "Epoch 16, Loss: 0.7773275971412659, Accuracy: 76.06837463378906\n",
            "Epoch 17, Loss: 0.3535407483577728, Accuracy: 89.10256958007812\n",
            "Epoch 18, Loss: 0.2985152006149292, Accuracy: 89.95726776123047\n",
            "Epoch: 18, Distortion: 720.71\n",
            "[[120 216  72  60]\n",
            " [  0   0   0   0]\n",
            " [  0   0   0   0]\n",
            " [  0   0   0   0]]\n",
            "Epoch 19, Loss: 0.5668483376502991, Accuracy: 81.62393188476562\n",
            "Epoch 20, Loss: 0.3501223623752594, Accuracy: 86.1111068725586\n",
            "Epoch 21, Loss: 0.27237749099731445, Accuracy: 89.74359130859375\n",
            "Epoch: 21, Distortion: 720.90\n",
            "[[ 60 216  72 120]\n",
            " [  0   0   0   0]\n",
            " [  0   0   0   0]\n",
            " [  0   0   0   0]]\n",
            "Epoch 22, Loss: 0.40376052260398865, Accuracy: 84.4017105102539\n",
            "Epoch 23, Loss: 0.21240054070949554, Accuracy: 93.37606811523438\n",
            "Epoch 24, Loss: 0.19977448880672455, Accuracy: 94.44444274902344\n",
            "Epoch: 24, Distortion: 687.19\n",
            "[[ 60 216 120  72]\n",
            " [  0   0   0   0]\n",
            " [  0   0   0   0]\n",
            " [  0   0   0   0]]\n",
            "Epoch 25, Loss: 0.48942384123802185, Accuracy: 84.61538696289062\n",
            "Epoch 26, Loss: 0.2276879847049713, Accuracy: 92.94871520996094\n",
            "Epoch 27, Loss: 0.20626971125602722, Accuracy: 92.0940170288086\n",
            "Epoch: 27, Distortion: 866.67\n",
            "[[ 60 228 156  24]\n",
            " [  0   0   0   0]\n",
            " [  0   0   0   0]\n",
            " [  0   0   0   0]]\n",
            "Epoch 28, Loss: 0.5242866277694702, Accuracy: 82.26496124267578\n",
            "Epoch 29, Loss: 0.2917383909225464, Accuracy: 89.52991485595703\n",
            "Epoch 30, Loss: 0.2312869280576706, Accuracy: 91.45299530029297\n",
            "Epoch: 30, Distortion: 859.00\n",
            "[[144  60 157 107]\n",
            " [  0   0   0   0]\n",
            " [  0   0   0   0]\n",
            " [  0   0   0   0]]\n",
            "Epoch 31, Loss: 1.044914722442627, Accuracy: 63.67521286010742\n",
            "Epoch 32, Loss: 0.46155503392219543, Accuracy: 82.69230651855469\n",
            "Epoch 33, Loss: 0.3681821823120117, Accuracy: 85.25640869140625\n",
            "Epoch: 33, Distortion: 783.99\n",
            "[[132  92 196  48]\n",
            " [  0   0   0   0]\n",
            " [  0   0   0   0]\n",
            " [  0   0   0   0]]\n",
            "Epoch 34, Loss: 0.5640770196914673, Accuracy: 78.20512390136719\n",
            "Epoch 35, Loss: 0.34784358739852905, Accuracy: 87.82051086425781\n",
            "Epoch 36, Loss: 0.35066401958465576, Accuracy: 86.53846740722656\n",
            "Epoch: 36, Distortion: 893.99\n",
            "[[ 83 120  74 191]\n",
            " [  0   0   0   0]\n",
            " [  0   0   0   0]\n",
            " [  0   0   0   0]]\n",
            "Epoch 37, Loss: 1.0225898027420044, Accuracy: 67.94871520996094\n",
            "Epoch 38, Loss: 0.5052400231361389, Accuracy: 81.19657897949219\n",
            "Epoch 39, Loss: 0.3733668923377991, Accuracy: 87.82051086425781\n",
            "Epoch: 39, Distortion: 767.38\n",
            "[[ 48 215 121  84]\n",
            " [  0   0   0   0]\n",
            " [  0   0   0   0]\n",
            " [  0   0   0   0]]\n",
            "Epoch 40, Loss: 1.0816030502319336, Accuracy: 64.52991485595703\n",
            "Epoch 41, Loss: 0.5408399701118469, Accuracy: 81.19657897949219\n",
            "Epoch 42, Loss: 0.4799495339393616, Accuracy: 82.47863006591797\n",
            "Epoch: 42, Distortion: 817.39\n",
            "[[ 72 204  84 108]\n",
            " [  0   0   0   0]\n",
            " [  0   0   0   0]\n",
            " [  0   0   0   0]]\n",
            "Epoch 43, Loss: 0.645855724811554, Accuracy: 73.07691955566406\n",
            "Epoch 44, Loss: 0.4101114869117737, Accuracy: 85.25640869140625\n",
            "Epoch 45, Loss: 0.276714026927948, Accuracy: 89.10256958007812\n",
            "Epoch: 45, Distortion: 745.48\n",
            "[[ 48 108 216  96]\n",
            " [  0   0   0   0]\n",
            " [  0   0   0   0]\n",
            " [  0   0   0   0]]\n",
            "Epoch 46, Loss: 1.067695140838623, Accuracy: 67.0940170288086\n",
            "Epoch 47, Loss: 0.46130257844924927, Accuracy: 82.05128479003906\n",
            "Epoch 48, Loss: 0.2714286148548126, Accuracy: 90.17093658447266\n",
            "Epoch: 48, Distortion: 756.57\n",
            "[[108 216  96  48]\n",
            " [  0   0   0   0]\n",
            " [  0   0   0   0]\n",
            " [  0   0   0   0]]\n",
            "Epoch 49, Loss: 1.0252575874328613, Accuracy: 64.52991485595703\n",
            "Epoch 50, Loss: 0.3253788650035858, Accuracy: 90.5982894897461\n",
            "Epoch 51, Loss: 0.30380702018737793, Accuracy: 89.95726776123047\n",
            "Epoch: 51, Distortion: 769.06\n",
            "[[ 48 216  84 120]\n",
            " [  0   0   0   0]\n",
            " [  0   0   0   0]\n",
            " [  0   0   0   0]]\n",
            "Epoch 52, Loss: 0.49941113591194153, Accuracy: 85.25640869140625\n",
            "Epoch 53, Loss: 0.2630125880241394, Accuracy: 90.17093658447266\n",
            "Epoch 54, Loss: 0.20360541343688965, Accuracy: 92.30769348144531\n",
            "Epoch: 54, Distortion: 720.23\n",
            "[[ 48 240 120  60]\n",
            " [  0   0   0   0]\n",
            " [  0   0   0   0]\n",
            " [  0   0   0   0]]\n",
            "Epoch 55, Loss: 0.6840716600418091, Accuracy: 76.4957275390625\n",
            "Epoch 56, Loss: 0.40093645453453064, Accuracy: 85.89743041992188\n",
            "Epoch 57, Loss: 0.34111154079437256, Accuracy: 86.1111068725586\n",
            "Epoch: 57, Distortion: 720.85\n",
            "[[ 48 216  99 105]\n",
            " [  0   0   0   0]\n",
            " [  0   0   0   0]\n",
            " [  0   0   0   0]]\n",
            "Epoch 58, Loss: 0.30303266644477844, Accuracy: 88.46153259277344\n",
            "Epoch 59, Loss: 0.29056745767593384, Accuracy: 88.03418731689453\n",
            "Epoch 60, Loss: 0.218287393450737, Accuracy: 92.73503875732422\n"
          ]
        }
      ],
      "source": [
        "\n",
        "loss_fn = tf.keras.losses.SparseCategoricalCrossentropy()\n",
        "optimizer = tf.optimizers.Adam(learning_rate=1.0e-4)\n",
        "\n",
        "train_loss = tf.keras.metrics.Mean(name='train_loss')\n",
        "train_accuracy = tf.keras.metrics.SparseCategoricalAccuracy(name='train_accuracy')\n",
        "\n",
        "\n",
        "for epoch in range(EPOCHS):\n",
        "    if epoch % CLUSTERING_INTERVAL == 0:\n",
        "        features_list= [feature_extractor(batch_x, training=False) \\\n",
        "                         for batch_x in train_3d_ds.batch(BATCH_SIZE).prefetch(1)]\n",
        "\n",
        "\n",
        "        #分類クラスタリング\n",
        "        features = np.vstack([rslt for rslt in features_list])\n",
        "        #PCA\n",
        "        features_pca = pca.fit_transform(features)\n",
        "        #PCA後標準化\n",
        "        features_std = stdsc.fit_transform(features_pca)\n",
        "        km_predictions = kmc.fit_predict(features_std)\n",
        "        cluster_matrix = np.zeros((NUM_CLASSES, NUM_CLUSTERS), dtype=np.int32)\n",
        "\n",
        "        for i, cat_id in enumerate(train_label_ds.batch(BATCH_SIZE)):\n",
        "          for true, kmp in zip(cat_id,km_predictions[i*BATCH_SIZE:(i+1)*BATCH_SIZE]):\n",
        "            cluster_matrix[true, kmp] += 1\n",
        "\n",
        "        print(\"Epoch: {}, Distortion: {:.2f}\".format(epoch, kmc.inertia_))\n",
        "        print(cluster_matrix)\n",
        "\n",
        "        #仮ラベルのデータセット\n",
        "        pseudo_label_ds = tf.data.Dataset.from_tensor_slices(tf.cast(\\\n",
        "                                                  np.array(km_predictions).T, tf.int64))\n",
        "        #仮ラベルの学習データセット\n",
        "        train_dataset = tf.data.Dataset.zip((train_3d_ds, pseudo_label_ds)).shuffle(BUFFER_SIZE).batch(BATCH_SIZE)\n",
        "\n",
        "\n",
        "    for step, (x_batch_train, y_batch_train) in enumerate(train_dataset):\n",
        "\n",
        "        with tf.GradientTape() as tape:\n",
        "\n",
        "            y = classifier(x_batch_train, training=True)\n",
        "            loss = loss_fn(y_batch_train, y)\n",
        "\n",
        "        grads = tape.gradient(loss, classifier.trainable_weights)\n",
        "        optimizer.apply_gradients(zip(grads, classifier.trainable_weights))\n",
        "\n",
        "        train_loss(loss)\n",
        "        train_accuracy(y_batch_train, y)\n",
        "\n",
        "\n",
        "\n",
        "    template = 'Epoch {}, Loss: {}, Accuracy: {}'\n",
        "\n",
        "\n",
        "    print (template.format(epoch+1,\n",
        "                         train_loss.result(),\n",
        "                         train_accuracy.result()*100))\n",
        "    #reset0\n",
        "    train_loss.reset_states()\n",
        "    train_accuracy.reset_states()"
      ],
      "id": "2161662a"
    },
    {
      "cell_type": "code",
      "execution_count": null,
      "metadata": {
        "id": "vpmdnQiJy2zP"
      },
      "outputs": [],
      "source": [],
      "id": "vpmdnQiJy2zP"
    },
    {
      "cell_type": "markdown",
      "metadata": {
        "id": "xIYz0L1KRW74"
      },
      "source": [
        "## 仮ラベル付きのデータセットとモデルを保存する\n",
        " ・データのパスと仮ラベルの組合せのデータセットを保存"
      ],
      "id": "xIYz0L1KRW74"
    },
    {
      "cell_type": "code",
      "execution_count": null,
      "metadata": {
        "colab": {
          "base_uri": "https://localhost:8080/"
        },
        "id": "tkwqwUTERWKI",
        "outputId": "5b18fb6e-8ae9-4b14-e235-06ac2f1a133a"
      },
      "outputs": [
        {
          "output_type": "stream",
          "name": "stderr",
          "text": [
            "WARNING:tensorflow:From <ipython-input-19-bbae90bb0c4c>:1: save (from tensorflow.python.data.experimental.ops.io) is deprecated and will be removed in a future version.\n",
            "Instructions for updating:\n",
            "Use `tf.data.Dataset.save(...)` instead.\n"
          ]
        }
      ],
      "source": [
        "tf.data.experimental.save(tf.data.Dataset.zip((train_list_ds, pseudo_label_ds)), DATASET_SAVE_PATH)\n",
        "tf.data.experimental.save(tf.data.Dataset.zip((train_list_ds, train_label_ds)), DATASET_SAVE_PATH+\"-inital\")"
      ],
      "id": "tkwqwUTERWKI"
    },
    {
      "cell_type": "code",
      "execution_count": null,
      "metadata": {
        "id": "mmqm6NxbcRMU",
        "colab": {
          "base_uri": "https://localhost:8080/"
        },
        "outputId": "48d0d683-0f19-44ba-fda5-6947908f3303"
      },
      "outputs": [
        {
          "output_type": "stream",
          "name": "stderr",
          "text": [
            "WARNING:tensorflow:From <ipython-input-20-26d35ae92926>:2: load (from tensorflow.python.data.experimental.ops.io) is deprecated and will be removed in a future version.\n",
            "Instructions for updating:\n",
            "Use `tf.data.Dataset.load(...)` instead.\n"
          ]
        }
      ],
      "source": [
        "#データセットの読み込み用\n",
        "pseudo_dataset = tf.data.experimental.load(DATASET_SAVE_PATH)"
      ],
      "id": "mmqm6NxbcRMU"
    },
    {
      "cell_type": "code",
      "execution_count": null,
      "metadata": {
        "id": "XimIPFfGs5su"
      },
      "outputs": [],
      "source": [
        "feature_extractor.save_weights(FEATURE_EXTRACTOR_MODEL_PATH)\n",
        "classifier.save_weights(CLASSIFIER_MODEL_PATH)"
      ],
      "id": "XimIPFfGs5su"
    },
    {
      "cell_type": "markdown",
      "metadata": {
        "id": "758ba10c"
      },
      "source": [
        "## 学習済みモデルを使用したクラスタリング"
      ],
      "id": "758ba10c"
    },
    {
      "cell_type": "code",
      "execution_count": null,
      "metadata": {
        "id": "R0phCzAhQw0l"
      },
      "outputs": [],
      "source": [],
      "id": "R0phCzAhQw0l"
    },
    {
      "cell_type": "code",
      "execution_count": null,
      "metadata": {
        "id": "805a9916"
      },
      "outputs": [],
      "source": [
        "features_list = [feature_extractor(batch, training=False) for batch in train_3d_ds.batch(BATCH_SIZE)]\n",
        "\n",
        "features = np.vstack([rslt for rslt in features_list])\n",
        "\n",
        "features_pca = pca.fit_transform(features)\n",
        "features_std = stdsc.fit_transform(features_pca)\n",
        "\n",
        "km_predictions = kmc.fit_predict(features_std)\n",
        "\n",
        "\n",
        "np.save('features.npy', features)\n",
        "np.save('features_pca.npy', features_pca)\n",
        "np.save('features_std.npy', features_std)\n",
        "np.save('km_predictions.npy', km_predictions)"
      ],
      "id": "805a9916"
    },
    {
      "cell_type": "code",
      "execution_count": null,
      "metadata": {
        "id": "EeqMv0_DL6MK"
      },
      "outputs": [],
      "source": [
        "##ドライブへ一時退避\n",
        "!mkdir /content/drive/MyDrive/jomon/jomon/{DATASAVE_DIR}\n",
        "!cp -r *.npy {FEATURE_EXTRACTOR_MODEL_PATH} {CLASSIFIER_MODEL_PATH} {DATASET_SAVE_PATH} {DATASET_SAVE_PATH}-inital /content/drive/MyDrive/jomon/jomon/{DATASAVE_DIR}"
      ],
      "id": "EeqMv0_DL6MK"
    },
    {
      "cell_type": "code",
      "execution_count": null,
      "metadata": {
        "id": "vAHFPUhpucH3"
      },
      "outputs": [],
      "source": [
        "!cp -r /content/drive/MyDrive/jomon/jomon/{DATASAVE_DIR} ./"
      ],
      "id": "vAHFPUhpucH3"
    },
    {
      "cell_type": "code",
      "execution_count": null,
      "metadata": {
        "id": "MZSMTUNIuZzT"
      },
      "outputs": [],
      "source": [
        "num = []\n",
        "name = []\n",
        "pseudo_id = []\n",
        "cluster_id = []\n",
        "initial_id = []\n",
        "\n",
        "\n",
        "\n",
        "for i, d in enumerate(pseudo_dataset):\n",
        "  name.append(os.path.splitext(os.path.basename(d[0].numpy().decode()))[0].split('_',2)[0])\n",
        "  pseudo_id.append(d[1].numpy())\n",
        "  num.append(os.path.splitext(os.path.basename(d[0].numpy().decode()))[0].split('_',2)[2])\n",
        "\n",
        "for k in km_predictions:\n",
        "  cluster_id.append(k)\n",
        "\n",
        "for i in train_label_ds:\n",
        "  initial_id.append(i.numpy())\n",
        "\n",
        "\n",
        "pseudo_df = pd.DataFrame(list(zip(name, num, \\\n",
        "                                  initial_id, \\\n",
        "                                  pseudo_id, cluster_id)), columns = \\\n",
        "                  ['列品番号','回転角度',\\\n",
        "                   '初期ラベル-ID',\\\n",
        "                   '疑似ラベル-ID','クラスタ-ID'])\n",
        "pseudo_df.to_csv(DATASET_SAVE_PATH+\".csv\")"
      ],
      "id": "MZSMTUNIuZzT"
    },
    {
      "cell_type": "code",
      "execution_count": null,
      "metadata": {
        "colab": {
          "base_uri": "https://localhost:8080/"
        },
        "id": "96wPw3OWmgVu",
        "outputId": "b6f6b91e-9f1a-4fa4-c6e5-22c6e0207428"
      },
      "outputs": [
        {
          "output_type": "execute_result",
          "data": {
            "text/plain": [
              "267"
            ]
          },
          "metadata": {},
          "execution_count": 26
        }
      ],
      "source": [
        "gc.collect()"
      ],
      "id": "96wPw3OWmgVu"
    },
    {
      "cell_type": "markdown",
      "metadata": {
        "id": "85596152"
      },
      "source": [
        "## クラスタ可視化"
      ],
      "id": "85596152"
    },
    {
      "cell_type": "markdown",
      "metadata": {
        "id": "FXoZggZybvh_"
      },
      "source": [
        "### plot用のラベル"
      ],
      "id": "FXoZggZybvh_"
    },
    {
      "cell_type": "code",
      "execution_count": null,
      "metadata": {
        "id": "ztIlm672bqAO"
      },
      "outputs": [],
      "source": [
        "pseudo_dataset = tf.data.experimental.load(DATASET_SAVE_PATH)"
      ],
      "id": "ztIlm672bqAO"
    },
    {
      "cell_type": "code",
      "execution_count": null,
      "metadata": {
        "id": "w_Bc2zVYbtlH"
      },
      "outputs": [],
      "source": [
        "cc_re = re.compile(r'.+/(.+?)_[0-9]+_[0-9]+_(.+?).npy')\n",
        "name_list = [ cc_re.match(item.numpy().decode())[1]+\"_\"+cc_re.match(item.numpy().decode())[2] for item, label in pseudo_dataset]"
      ],
      "id": "w_Bc2zVYbtlH"
    },
    {
      "cell_type": "markdown",
      "metadata": {
        "id": "2ea82361"
      },
      "source": [
        "### PCA"
      ],
      "id": "2ea82361"
    },
    {
      "cell_type": "code",
      "execution_count": null,
      "metadata": {
        "colab": {
          "base_uri": "https://localhost:8080/",
          "height": 1000
        },
        "id": "NJTDxu0nJhxd",
        "outputId": "1e8dd5ca-d45d-42be-c49d-58b04e2b37fb"
      },
      "outputs": [
        {
          "output_type": "display_data",
          "data": {
            "text/html": [
              "<html>\n",
              "<head><meta charset=\"utf-8\" /></head>\n",
              "<body>\n",
              "    <div>            <script src=\"https://cdnjs.cloudflare.com/ajax/libs/mathjax/2.7.5/MathJax.js?config=TeX-AMS-MML_SVG\"></script><script type=\"text/javascript\">if (window.MathJax && window.MathJax.Hub && window.MathJax.Hub.Config) {window.MathJax.Hub.Config({SVG: {font: \"STIX-Web\"}});}</script>                <script type=\"text/javascript\">window.PlotlyConfig = {MathJaxConfig: 'local'};</script>\n",
              "        <script charset=\"utf-8\" src=\"https://cdn.plot.ly/plotly-2.24.1.min.js\"></script>                <div id=\"9dcb14cf-ba5a-49b7-b8ef-891db3b665e9\" class=\"plotly-graph-div\" style=\"height:1000px; width:1000px;\"></div>            <script type=\"text/javascript\">                                    window.PLOTLYENV=window.PLOTLYENV || {};                                    if (document.getElementById(\"9dcb14cf-ba5a-49b7-b8ef-891db3b665e9\")) {                    Plotly.newPlot(                        \"9dcb14cf-ba5a-49b7-b8ef-891db3b665e9\",                        [{\"hovertemplate\":\"Categories=0\\u003cbr\\u003esymbol=0\\u003cbr\\u003e0=%{x}\\u003cbr\\u003e1=%{y}\\u003cbr\\u003esize=%{marker.size}\\u003cbr\\u003etext=%{text}\\u003cextra\\u003e\\u003c\\u002fextra\\u003e\",\"legendgroup\":\"0, 0\",\"marker\":{\"color\":\"#636efa\",\"size\":[10,10,10,10,10,10,10,10,10,10,10,10,10,10,10,10,10,10,10,10,10,10,10,10,10,10,10,10,10,10,10,10,10,10,10,10,10,10,10,10,10,10,10,10,10,10,10,10],\"sizemode\":\"area\",\"sizeref\":0.1,\"symbol\":\"circle\"},\"mode\":\"markers+text\",\"name\":\"0, 0\",\"orientation\":\"v\",\"showlegend\":true,\"text\":[\"rm1313_body\",\"rm1011_body\",\"rm1011_body\",\"rm1011_body\",\"rm1011_body\",\"rm1011_body\",\"rm1011_body\",\"rm1313_body\",\"rm0564_body\",\"rm1011_body\",\"rm1011_body\",\"rm1011_body\",\"rm1011_body\",\"rm0701_body\",\"rm0701_body\",\"rm0701_body\",\"rm0701_body\",\"rm1011_body\",\"rm0564_body\",\"rm0564_body\",\"rm0564_body\",\"rm1313_body\",\"rm1313_body\",\"rm1313_body\",\"rm1313_body\",\"rm1313_body\",\"rm1313_body\",\"rm1313_body\",\"rm1313_body\",\"rm1313_body\",\"rm0564_body\",\"rm0564_body\",\"rm0564_body\",\"rm0564_body\",\"rm0564_body\",\"rm0564_body\",\"rm0564_body\",\"rm0564_body\",\"rm0701_body\",\"rm0701_body\",\"rm1011_body\",\"rm0701_body\",\"rm0701_body\",\"rm0701_body\",\"rm1313_body\",\"rm0701_body\",\"rm0701_body\",\"rm0701_body\"],\"x\":[16.74673843383789,21.732498168945312,21.51676368713379,21.92922019958496,21.65526008605957,21.333003997802734,22.030061721801758,16.575334548950195,19.249292373657227,21.33422088623047,22.115798950195312,21.65761375427246,21.701072692871094,20.441869735717773,20.14512825012207,19.867216110229492,20.541868209838867,21.756168365478516,18.61893081665039,18.991472244262695,19.55320167541504,16.91223907470703,16.612895965576172,16.657024383544922,16.904882431030273,16.638547897338867,16.899606704711914,16.639596939086914,16.80931282043457,16.946401596069336,19.100818634033203,18.7702693939209,19.350162506103516,18.919252395629883,18.63237953186035,19.499008178710938,19.49433135986328,18.82893943786621,20.07221794128418,20.08905792236328,21.731170654296875,20.185964584350586,20.480873107910156,19.89457893371582,16.552465438842773,20.559120178222656,20.159475326538086,20.38398551940918],\"xaxis\":\"x\",\"y\":[11.340726852416992,15.286666870117188,15.0704345703125,15.64828872680664,15.247265815734863,15.795267105102539,15.337807655334473,11.165578842163086,13.794299125671387,15.624140739440918,15.471219062805176,15.297906875610352,15.787741661071777,14.716283798217773,14.516973495483398,14.72066593170166,15.39944839477539,15.816167831420898,13.304092407226562,13.610875129699707,14.094151496887207,11.396675109863281,11.131991386413574,11.398428916931152,11.259531021118164,11.191544532775879,11.389776229858398,11.278034210205078,11.148459434509277,11.261931419372559,13.755181312561035,13.444559097290039,14.074959754943848,13.567225456237793,13.31863021850586,14.121833801269531,13.96268081665039,13.498895645141602,15.314220428466797,15.139847755432129,15.86507511138916,15.156688690185547,14.985087394714355,14.873433113098145,11.177083015441895,15.266385078430176,14.598777770996094,14.62560749053955],\"yaxis\":\"y\",\"type\":\"scatter\"},{\"hovertemplate\":\"Categories=1\\u003cbr\\u003esymbol=1\\u003cbr\\u003e0=%{x}\\u003cbr\\u003e1=%{y}\\u003cbr\\u003esize=%{marker.size}\\u003cbr\\u003etext=%{text}\\u003cextra\\u003e\\u003c\\u002fextra\\u003e\",\"legendgroup\":\"1, 1\",\"marker\":{\"color\":\"#EF553B\",\"size\":[10,10,10,10,10,10,10,10,10,10,10,10,10,10,10,10,10,10,10,10,10,10,10,10,10,10,10,10,10,10,10,10,10,10,10,10,10,10,10,10,10,10,10,10,10,10,10,10,10,10,10,10,10,10,10,10,10,10,10,10,10,10,10,10,10,10,10,10,10,10,10,10,10,10,10,10,10,10,10,10,10,10,10,10,10,10,10,10,10,10,10,10,10,10,10,10,10,10,10,10,10,10,10,10,10,10,10,10,10,10,10,10,10,10,10,10,10,10,10,10],\"sizemode\":\"area\",\"sizeref\":0.1,\"symbol\":\"diamond\"},\"mode\":\"markers+text\",\"name\":\"1, 1\",\"orientation\":\"v\",\"showlegend\":true,\"text\":[\"rm0871_body\",\"rm0871_body\",\"rm1145_body\",\"rm1145_body\",\"rm1145_body\",\"rm1145_body\",\"rm0695_body\",\"rm0695_body\",\"rm0695_body\",\"rm0695_body\",\"rm0695_body\",\"rm0695_body\",\"rm0695_body\",\"rm0871_body\",\"rm0695_body\",\"rm1145_body\",\"rm0695_body\",\"rm0695_body\",\"rm1145_body\",\"rm1145_body\",\"rm0871_body\",\"rm0871_body\",\"rm0871_body\",\"rm0871_body\",\"rm0871_body\",\"rm0871_body\",\"rm0871_body\",\"rm0695_body\",\"rm0695_body\",\"rm1145_body\",\"rm1145_body\",\"rm0956_body\",\"rm0956_body\",\"rm0956_body\",\"rm0956_body\",\"rm0956_body\",\"rm0956_body\",\"rm0956_body\",\"rm0956_body\",\"rm0956_body\",\"rm0956_body\",\"rm0956_body\",\"rm0956_body\",\"rm0873_body\",\"rm0873_body\",\"rm0873_body\",\"rm0873_body\",\"rm0873_body\",\"rm0873_body\",\"rm0873_body\",\"rm0873_body\",\"rm0873_body\",\"rm0873_body\",\"rm0873_body\",\"rm0873_body\",\"rm0871_body\",\"rm0871_body\",\"rm1145_body\",\"rm1145_body\",\"rm1145_body\",\"rm0331_body\",\"rm1406_body\",\"rm1406_body\",\"rm1406_body\",\"rm1406_body\",\"rm1406_body\",\"rm1406_body\",\"rm1406_body\",\"rm1406_body\",\"rm1406_body\",\"rm1406_body\",\"rm0580_body\",\"rm0580_body\",\"rm0580_body\",\"rm0580_body\",\"rm0580_body\",\"rm0580_body\",\"rm0580_body\",\"rm0580_body\",\"rm0580_body\",\"rm0580_body\",\"rm1406_body\",\"rm1406_body\",\"rm1407_body\",\"rm1408_body\",\"rm1408_body\",\"rm1408_body\",\"rm1408_body\",\"rm1408_body\",\"rm1408_body\",\"rm1408_body\",\"rm1408_body\",\"rm1407_body\",\"rm1407_body\",\"rm1407_body\",\"rm1407_body\",\"rm1407_body\",\"rm1407_body\",\"rm1407_body\",\"rm1407_body\",\"rm1407_body\",\"rm1407_body\",\"rm1407_body\",\"rm1408_body\",\"rm0580_body\",\"rm0580_body\",\"rm1408_body\",\"rm0331_body\",\"rm0331_body\",\"rm0331_body\",\"rm0331_body\",\"rm0331_body\",\"rm0331_body\",\"rm0331_body\",\"rm0331_body\",\"rm0331_body\",\"rm0331_body\",\"rm0331_body\",\"rm1408_body\",\"rm1408_body\"],\"x\":[-27.737857818603516,-27.387048721313477,-20.408084869384766,-20.549001693725586,-20.907943725585938,-20.488447189331055,-24.741413116455078,-24.953174591064453,-24.86545753479004,-24.51200294494629,-24.650924682617188,-24.818174362182617,-24.145652770996094,-27.70654296875,-24.34929656982422,-20.888900756835938,-24.68684196472168,-25.34300422668457,-20.284761428833008,-21.077224731445312,-27.78340721130371,-27.650409698486328,-27.319887161254883,-27.390850067138672,-27.728185653686523,-27.723196029663086,-27.196435928344727,-24.336137771606445,-24.534385681152344,-20.41631317138672,-20.4705867767334,-22.407306671142578,-22.93796730041504,-22.746171951293945,-22.853023529052734,-22.886743545532227,-23.01847267150879,-22.65245819091797,-22.474119186401367,-22.977100372314453,-22.57688331604004,-22.479602813720703,-22.547531127929688,-29.465682983398438,-29.567153930664062,-29.156095504760742,-28.927570343017578,-28.826833724975586,-29.262773513793945,-29.020769119262695,-28.743894577026367,-28.864274978637695,-29.094600677490234,-28.991525650024414,-28.92828369140625,-27.399688720703125,-27.358030319213867,-20.640544891357422,-20.393260955810547,-20.641206741333008,-30.168468475341797,-22.189193725585938,-21.733448028564453,-21.392791748046875,-22.313114166259766,-22.173398971557617,-21.40504264831543,-22.021724700927734,-21.94369888305664,-21.755905151367188,-22.28019142150879,-26.31593894958496,-26.257667541503906,-26.01906967163086,-26.195539474487305,-26.804040908813477,-26.145038604736328,-25.912235260009766,-26.383041381835938,-26.869136810302734,-26.571020126342773,-21.477703094482422,-21.906797409057617,-26.10053825378418,-27.383378982543945,-27.280105590820312,-27.096712112426758,-27.21681785583496,-27.322011947631836,-27.461488723754883,-27.324481964111328,-27.19928741455078,-25.41476058959961,-25.61709213256836,-25.57403564453125,-27.03598403930664,-26.017261505126953,-24.98666000366211,-25.751708984375,-25.656591415405273,-25.797439575195312,-26.614660263061523,-25.85961151123047,-27.336267471313477,-26.867603302001953,-26.707738876342773,-27.101238250732422,-29.81769371032715,-29.66941261291504,-29.757617950439453,-29.648326873779297,-30.32439613342285,-30.33648681640625,-29.972702026367188,-30.304780960083008,-29.818307876586914,-29.865638732910156,-29.589933395385742,-27.318225860595703,-27.148513793945312],\"xaxis\":\"x\",\"y\":[8.762422561645508,8.82844066619873,-20.431699752807617,-20.6345157623291,-20.906200408935547,-20.154373168945312,-4.255220413208008,-4.307259559631348,-4.008529186248779,-3.9323008060455322,-4.115025520324707,-3.7300710678100586,-4.22379207611084,8.512985229492188,-3.723491907119751,-20.924745559692383,-3.5021588802337646,-4.224693775177002,-20.75832176208496,-20.60220718383789,8.859100341796875,8.995401382446289,8.602778434753418,8.853915214538574,8.796154022216797,8.535144805908203,8.827701568603516,-3.9262239933013916,-3.6328725814819336,-20.80440330505371,-21.136310577392578,-18.711509704589844,-18.232337951660156,-18.70943260192871,-18.272994995117188,-18.195331573486328,-18.67742156982422,-18.72585105895996,-18.241506576538086,-18.628705978393555,-18.33177947998047,-18.267099380493164,-18.433223724365234,3.5526123046875,2.8766541481018066,2.8888165950775146,4.435373306274414,4.075199604034424,2.9327216148376465,4.573571681976318,4.350515365600586,3.558485984802246,4.150335788726807,3.6184921264648438,3.1337852478027344,8.751615524291992,8.96644115447998,-20.300004959106445,-20.566814422607422,-21.109783172607422,3.4873147010803223,-20.118934631347656,-19.893964767456055,-20.055809020996094,-19.83026885986328,-19.937973022460938,-20.211589813232422,-19.640018463134766,-20.100440979003906,-20.228240966796875,-19.69260025024414,-2.290156602859497,-3.2863528728485107,-2.7641899585723877,-2.8436498641967773,-3.444854497909546,-1.825547456741333,-2.509307861328125,-2.3254234790802,-2.3663175106048584,-2.7898995876312256,-19.499834060668945,-19.59258460998535,-3.897489309310913,6.466169834136963,6.4778900146484375,6.9023051261901855,6.537754535675049,6.556711196899414,6.393181324005127,6.759488105773926,7.378226280212402,-2.4554061889648438,-1.954188346862793,-3.1920034885406494,-2.823996067047119,-1.3714101314544678,-2.5731096267700195,-2.977760076522827,-2.0565457344055176,-3.4863698482513428,-3.477803945541382,-1.9461251497268677,6.414016246795654,-3.0194091796875,-3.009885311126709,7.008947849273682,3.3550357818603516,4.220839500427246,4.3631768226623535,3.565420389175415,3.668572425842285,3.6278393268585205,3.983513116836548,3.1076653003692627,3.4956581592559814,4.1937150955200195,3.6069486141204834,6.58270788192749,6.643239974975586],\"yaxis\":\"y\",\"type\":\"scatter\"},{\"hovertemplate\":\"Categories=2\\u003cbr\\u003esymbol=2\\u003cbr\\u003e0=%{x}\\u003cbr\\u003e1=%{y}\\u003cbr\\u003esize=%{marker.size}\\u003cbr\\u003etext=%{text}\\u003cextra\\u003e\\u003c\\u002fextra\\u003e\",\"legendgroup\":\"2, 2\",\"marker\":{\"color\":\"#00cc96\",\"size\":[10,10,10,10,10,10,10,10,10,10,10,10,10,10,10,10,10,10,10,10,10,10,10,10,10,10,10,10,10,10,10,10,10,10,10,10,10,10,10,10,10,10,10,10,10,10,10,10,10,10,10,10,10,10,10,10,10,10,10,10,10,10,10,10,10,10,10,10,10,10,10,10,10,10,10,10,10,10,10,10,10,10,10,10,10,10,10,10,10,10,10,10,10,10,10,10,10,10,10,10,10,10,10,10,10,10,10,10,10,10,10,10,10,10,10,10,10,10,10,10,10,10,10,10,10,10,10,10,10,10,10,10,10,10,10,10,10,10,10,10,10,10,10,10,10,10,10,10,10,10,10,10,10,10,10,10,10,10,10,10,10,10,10,10,10,10,10,10,10,10,10,10,10,10,10,10,10,10,10,10,10,10,10,10,10,10,10,10,10,10,10,10,10,10,10,10,10,10,10,10,10,10,10,10,10,10,10,10,10,10,10,10,10,10,10,10],\"sizemode\":\"area\",\"sizeref\":0.1,\"symbol\":\"square\"},\"mode\":\"markers+text\",\"name\":\"2, 2\",\"orientation\":\"v\",\"showlegend\":true,\"text\":[\"rm0875_body\",\"rm0923_body\",\"rm0923_body\",\"rm0923_body\",\"rm0923_body\",\"rm0923_body\",\"rm0923_body\",\"rm0923_body\",\"rm0875_body\",\"rm0875_body\",\"rm0875_body\",\"rm0875_body\",\"rm1410_body\",\"rm1410_body\",\"rm1410_body\",\"rm1410_body\",\"rm1410_body\",\"rm1410_body\",\"rm0875_body\",\"rm0875_body\",\"rm0875_body\",\"rm0875_body\",\"rm0875_body\",\"rm0875_body\",\"rm0923_body\",\"rm0875_body\",\"rm0923_body\",\"rm1410_body\",\"rm0923_body\",\"rm1410_body\",\"rm1410_body\",\"rm1410_body\",\"rm0923_body\",\"rm0923_body\",\"rm1316_body\",\"rm1348_body\",\"rm1321_body\",\"rm1321_body\",\"rm1321_body\",\"rm1321_body\",\"rm1321_body\",\"rm1321_body\",\"rm1321_body\",\"rm1321_body\",\"rm1321_body\",\"rm1276_body\",\"rm1321_body\",\"rm1316_body\",\"rm1316_body\",\"rm1316_body\",\"rm1316_body\",\"rm1316_body\",\"rm1316_body\",\"rm1316_body\",\"rm1316_body\",\"rm1316_body\",\"rm1316_body\",\"rm1276_body\",\"rm1276_body\",\"rm1276_body\",\"rm1348_body\",\"rm1348_body\",\"rm1348_body\",\"rm1348_body\",\"rm1348_body\",\"rm1348_body\",\"rm1348_body\",\"rm1348_body\",\"rm1348_body\",\"rm1348_body\",\"rm1348_body\",\"rm1321_body\",\"rm1321_body\",\"rm1276_body\",\"rm1276_body\",\"rm1276_body\",\"rm1276_body\",\"rm1276_body\",\"rm1276_body\",\"rm1276_body\",\"rm1276_body\",\"rm1316_body\",\"rm0863_body\",\"rm1410_body\",\"rm0863_body\",\"rm0698_body\",\"rm0693_body\",\"rm0693_body\",\"rm0693_body\",\"rm0693_body\",\"rm0693_body\",\"rm0698_body\",\"rm0693_body\",\"rm0693_body\",\"rm0693_body\",\"rm0693_body\",\"rm0693_body\",\"rm0693_body\",\"rm0476_body\",\"rm0693_body\",\"rm0863_body\",\"rm0698_body\",\"rm0698_body\",\"rm0699_body\",\"rm0699_body\",\"rm0699_body\",\"rm0699_body\",\"rm0699_body\",\"rm0699_body\",\"rm0698_body\",\"rm0699_body\",\"rm0698_body\",\"rm0698_body\",\"rm0698_body\",\"rm0698_body\",\"rm0698_body\",\"rm0698_body\",\"rm0698_body\",\"rm0493_body\",\"rm0493_body\",\"rm0493_body\",\"rm0493_body\",\"rm0493_body\",\"rm0657_body\",\"rm0657_body\",\"rm0657_body\",\"rm0657_body\",\"rm0684_body\",\"rm0657_body\",\"rm0657_body\",\"rm0657_body\",\"rm0657_body\",\"rm0657_body\",\"rm0657_body\",\"rm0657_body\",\"rm0657_body\",\"rm0684_body\",\"rm0684_body\",\"rm0684_body\",\"rm0493_body\",\"rm0493_body\",\"rm0493_body\",\"rm0493_body\",\"rm0493_body\",\"rm0493_body\",\"rm0493_body\",\"rm0684_body\",\"rm0684_body\",\"rm0684_body\",\"rm0684_body\",\"rm0684_body\",\"rm0684_body\",\"rm0684_body\",\"rm0684_body\",\"rm0699_body\",\"rm0699_body\",\"rm0699_body\",\"rm0699_body\",\"rm0455_body\",\"rm0455_body\",\"rm0455_body\",\"rm0455_body\",\"rm0455_body\",\"rm0699_body\",\"rm0733_body\",\"rm0733_body\",\"rm0733_body\",\"rm0733_body\",\"rm0733_body\",\"rm0733_body\",\"rm0455_body\",\"rm0733_body\",\"rm0733_body\",\"rm0733_body\",\"rm0733_body\",\"rm0733_body\",\"rm0863_body\",\"rm0863_body\",\"rm0863_body\",\"rm1410_body\",\"rm0863_body\",\"rm0863_body\",\"rm0863_body\",\"rm0863_body\",\"rm0733_body\",\"rm0863_body\",\"rm0455_body\",\"rm0455_body\",\"rm0721_body\",\"rm0721_body\",\"rm0721_body\",\"rm0721_body\",\"rm0721_body\",\"rm0721_body\",\"rm0721_body\",\"rm0721_body\",\"rm0721_body\",\"rm0721_body\",\"rm0476_body\",\"rm0455_body\",\"rm0476_body\",\"rm0476_body\",\"rm0476_body\",\"rm0455_body\",\"rm0455_body\",\"rm0721_body\",\"rm0721_body\",\"rm0455_body\",\"rm0476_body\",\"rm0476_body\",\"rm0476_body\",\"rm0476_body\",\"rm0476_body\",\"rm0476_body\",\"rm0476_body\",\"rm0863_body\"],\"x\":[-2.004473924636841,10.629772186279297,11.072916984558105,11.201569557189941,10.925694465637207,10.917168617248535,11.28232479095459,10.84442138671875,-1.5763534307479858,-1.9944984912872314,-1.3925011157989502,-0.7411420345306396,1.502631664276123,1.3331866264343262,1.6621907949447632,1.0722177028656006,1.03410804271698,1.1747217178344727,-1.1122578382492065,-1.9073673486709595,-1.9537094831466675,-1.2630404233932495,-1.2558507919311523,-1.8760125637054443,11.032448768615723,-1.410831332206726,10.915654182434082,0.7097212076187134,11.148406028747559,1.0970264673233032,1.5385169982910156,1.2508480548858643,10.833702087402344,11.196407318115234,3.2600605487823486,9.453449249267578,4.984198093414307,4.279728889465332,4.789750576019287,4.980658531188965,4.590781211853027,4.810103893280029,4.474928379058838,4.5985589027404785,4.986989974975586,2.359675645828247,4.933803558349609,3.6432392597198486,2.4746203422546387,3.3001365661621094,2.8661062717437744,3.640564441680908,3.306657552719116,2.98724627494812,3.373405694961548,3.572842836380005,3.325212240219116,3.054516553878784,2.3333511352539062,2.292372941970825,9.729568481445312,9.753497123718262,9.504661560058594,9.885976791381836,9.874003410339355,9.509084701538086,9.802539825439453,9.77810287475586,9.673628807067871,9.72158145904541,9.746020317077637,4.507340431213379,4.776533126831055,2.4357190132141113,3.1218371391296387,3.026665687561035,2.2428579330444336,3.105755567550659,2.481797456741333,2.9690802097320557,2.571624517440796,3.556276559829712,4.309483051300049,0.9964599013328552,3.9473812580108643,9.291788101196289,6.224997043609619,5.833826541900635,6.200118541717529,6.2633233070373535,5.876453399658203,9.006179809570312,6.2620768547058105,6.362054347991943,6.218489170074463,6.264422416687012,5.91648530960083,6.2613959312438965,21.61366081237793,6.20978307723999,4.044815540313721,9.037579536437988,9.062020301818848,13.834993362426758,14.132948875427246,13.578166961669922,13.978431701660156,13.733094215393066,13.562400817871094,9.14288330078125,13.883405685424805,9.054030418395996,9.31227970123291,9.006004333496094,9.002401351928711,9.095121383666992,8.866626739501953,9.265388488769531,2.5548267364501953,1.813019037246704,1.6089146137237549,1.30580735206604,1.6558181047439575,20.038089752197266,19.677358627319336,19.998886108398438,19.5103702545166,11.39346981048584,19.8488826751709,19.722734451293945,20.113365173339844,19.598752975463867,20.052085876464844,20.122655868530273,19.83572006225586,19.762794494628906,10.955090522766113,11.076791763305664,11.09481143951416,2.083496332168579,0.7471911907196045,1.0365368127822876,2.4825336933135986,1.3495975732803345,1.5496549606323242,2.283940076828003,11.202737808227539,10.958300590515137,11.469852447509766,11.325457572937012,10.681325912475586,11.183282852172852,11.284551620483398,11.565994262695312,13.939629554748535,14.189723014831543,13.753792762756348,13.898327827453613,8.894206047058105,9.515081405639648,8.664591789245605,8.837557792663574,9.446919441223145,14.138331413269043,-3.0232129096984863,-3.671647787094116,-3.4606692790985107,-3.4296154975891113,-3.5851809978485107,-3.1107382774353027,9.356708526611328,-3.3730010986328125,-3.245676279067993,-3.259446859359741,-3.013362169265747,-3.091810941696167,4.502435684204102,4.885448455810547,4.501893043518066,1.6944303512573242,4.567615509033203,4.598330974578857,4.186018466949463,4.701883316040039,-3.257291078567505,4.441812515258789,9.363969802856445,9.374259948730469,2.924015522003174,2.9129440784454346,2.093323230743408,2.714517831802368,2.833552598953247,1.5459064245224,3.152111053466797,2.3983030319213867,2.2847394943237305,2.7377567291259766,21.436365127563477,9.060461044311523,21.34952735900879,21.49598503112793,21.257448196411133,8.950172424316406,9.030862808227539,2.023780584335327,2.06086802482605,8.584781646728516,21.61941146850586,21.265830993652344,21.82713508605957,21.492551803588867,21.646869659423828,21.536678314208984,21.767112731933594,3.8849334716796875],\"xaxis\":\"x\",\"y\":[-14.087995529174805,-4.905241966247559,-5.309835910797119,-4.941338062286377,-4.552103519439697,-5.170819282531738,-4.947306156158447,-4.612872123718262,-13.996023178100586,-13.983243942260742,-13.670356750488281,-13.588114738464355,-5.531861782073975,-5.4953765869140625,-5.590353012084961,-5.544624328613281,-5.554891586303711,-5.614837646484375,-13.476058006286621,-14.53296184539795,-13.88818359375,-13.702963829040527,-13.796393394470215,-13.797820091247559,-4.498727321624756,-13.870829582214355,-4.867581367492676,-5.6093645095825195,-4.650056838989258,-5.536351680755615,-5.474790573120117,-5.556573390960693,-4.800912380218506,-4.9836554527282715,-7.563157081604004,3.1357152462005615,-12.394575119018555,-12.285107612609863,-12.281444549560547,-12.19327163696289,-11.917065620422363,-12.438443183898926,-12.705358505249023,-12.869629859924316,-12.596558570861816,1.698271632194519,-12.085799217224121,-7.135229587554932,-9.256914138793945,-7.240449905395508,-7.440322399139404,-7.128157138824463,-7.441045761108398,-7.48836088180542,-7.857461929321289,-7.129892826080322,-7.806302547454834,1.4227066040039062,1.3525707721710205,1.8002291917800903,2.75274395942688,2.546640396118164,3.086533308029175,2.558471918106079,2.566312074661255,3.0128636360168457,2.6317882537841797,2.6579105854034424,2.8078560829162598,2.6907739639282227,2.738797426223755,-12.549055099487305,-12.14179515838623,1.5949679613113403,1.5968053340911865,2.273881196975708,1.355621099472046,1.8937033414840698,1.9376623630523682,1.7147681713104248,1.1993722915649414,-7.295314311981201,1.9419276714324951,-5.510135173797607,1.6827032566070557,-15.821877479553223,-5.469847202301025,-4.899643421173096,-4.822779655456543,-4.527642250061035,-4.29960823059082,-15.386529922485352,-4.9633355140686035,-4.995379447937012,-5.225794792175293,-4.6060991287231445,-4.9157185554504395,-5.193822383880615,-10.682114601135254,-5.136728286743164,2.02382755279541,-15.815431594848633,-15.624993324279785,-12.897477149963379,-12.748826026916504,-13.089364051818848,-12.751153945922852,-12.76461410522461,-13.11002254486084,-15.514570236206055,-12.792996406555176,-15.6868896484375,-15.654884338378906,-15.861429214477539,-15.468356132507324,-15.459887504577637,-15.778183937072754,-16.2423152923584,-11.842839241027832,-12.101571083068848,-11.03669261932373,-12.01928424835205,-11.581892967224121,-11.510172843933105,-11.559313774108887,-11.327893257141113,-11.627828598022461,-11.355311393737793,-11.743281364440918,-11.388615608215332,-11.71046257019043,-11.522489547729492,-11.629976272583008,-11.588528633117676,-11.340937614440918,-11.3657865524292,-11.262755393981934,-11.3974027633667,-11.435701370239258,-11.8109769821167,-12.143324851989746,-12.09446907043457,-11.893149375915527,-12.437800407409668,-11.95460319519043,-12.087103843688965,-11.225489616394043,-11.39262866973877,-11.361631393432617,-11.105382919311523,-11.430525779724121,-11.248550415039062,-11.267793655395508,-11.190864562988281,-12.75273609161377,-12.596671104431152,-12.941858291625977,-12.816766738891602,-4.609394550323486,-5.081079483032227,-4.415162086486816,-4.870617389678955,-5.15386438369751,-12.559053421020508,-14.877791404724121,-15.172768592834473,-15.313618659973145,-15.297294616699219,-15.094609260559082,-15.0039644241333,-4.964913845062256,-15.47155475616455,-15.160735130310059,-15.509468078613281,-15.123310089111328,-14.883681297302246,2.0029358863830566,2.4753706455230713,2.0156209468841553,-5.594700336456299,2.200521945953369,2.2787020206451416,2.1025495529174805,1.8228939771652222,-14.878174781799316,2.4793448448181152,-4.668369293212891,-4.536011695861816,-13.030285835266113,-13.195308685302734,-13.368422508239746,-12.829910278320312,-13.160859107971191,-13.383691787719727,-12.948312759399414,-13.22177791595459,-13.190272331237793,-12.697016716003418,-10.863524436950684,-4.637552738189697,-10.763086318969727,-10.991954803466797,-10.813605308532715,-4.876623630523682,-4.724350929260254,-12.867391586303711,-13.119514465332031,-4.640574932098389,-11.248040199279785,-10.773517608642578,-11.068926811218262,-10.969209671020508,-10.806451797485352,-11.145673751831055,-10.914518356323242,1.9052114486694336],\"yaxis\":\"y\",\"type\":\"scatter\"},{\"hovertemplate\":\"Categories=3\\u003cbr\\u003esymbol=3\\u003cbr\\u003e0=%{x}\\u003cbr\\u003e1=%{y}\\u003cbr\\u003esize=%{marker.size}\\u003cbr\\u003etext=%{text}\\u003cextra\\u003e\\u003c\\u002fextra\\u003e\",\"legendgroup\":\"3, 3\",\"marker\":{\"color\":\"#ab63fa\",\"size\":[10,10,10,10,10,10,10,10,10,10,10,10,10,10,10,10,10,10,10,10,10,10,10,10,10,10,10,10,10,10,10,10,10,10,10,10,10,10,10,10,10,10,10,10,10,10,10,10,10,10,10,10,10,10,10,10,10,10,10,10,10,10,10,10,10,10,10,10,10,10,10,10,10,10,10,10,10,10,10,10,10,10,10,10],\"sizemode\":\"area\",\"sizeref\":0.1,\"symbol\":\"x\"},\"mode\":\"markers+text\",\"name\":\"3, 3\",\"orientation\":\"v\",\"showlegend\":true,\"text\":[\"rm0683_body\",\"rm0683_body\",\"rm0683_body\",\"rm0416_body\",\"rm0416_body\",\"rm0416_body\",\"rm0416_body\",\"rm0416_body\",\"rm0416_body\",\"rm0416_body\",\"rm0416_body\",\"rm0416_body\",\"rm0416_body\",\"rm0416_body\",\"rm0683_body\",\"rm0416_body\",\"rm0683_body\",\"rm0692_body\",\"rm0683_body\",\"rm0945_body\",\"rm0945_body\",\"rm0945_body\",\"rm0945_body\",\"rm0945_body\",\"rm0945_body\",\"rm0732_body\",\"rm0732_body\",\"rm0732_body\",\"rm0732_body\",\"rm0732_body\",\"rm0732_body\",\"rm0732_body\",\"rm0732_body\",\"rm0732_body\",\"rm0732_body\",\"rm0732_body\",\"rm0732_body\",\"rm0750_body\",\"rm0750_body\",\"rm0750_body\",\"rm0750_body\",\"rm0750_body\",\"rm0750_body\",\"rm0750_body\",\"rm0750_body\",\"rm0750_body\",\"rm0750_body\",\"rm0750_body\",\"rm0945_body\",\"rm0945_body\",\"rm0945_body\",\"rm0945_body\",\"rm0683_body\",\"rm0683_body\",\"rm0683_body\",\"rm1318_body\",\"rm1318_body\",\"rm1318_body\",\"rm1318_body\",\"rm1318_body\",\"rm1318_body\",\"rm1318_body\",\"rm1318_body\",\"rm1318_body\",\"rm1318_body\",\"rm1318_body\",\"rm0683_body\",\"rm1318_body\",\"rm0683_body\",\"rm0692_body\",\"rm0692_body\",\"rm0692_body\",\"rm0692_body\",\"rm0692_body\",\"rm0692_body\",\"rm0692_body\",\"rm0692_body\",\"rm0692_body\",\"rm0692_body\",\"rm0692_body\",\"rm0945_body\",\"rm0945_body\",\"rm0683_body\",\"rm0750_body\"],\"x\":[4.757338523864746,4.999494552612305,4.668401718139648,-5.328147888183594,-5.025321006774902,-5.105802536010742,-4.998447895050049,-5.2745866775512695,-5.461794376373291,-5.019930839538574,-5.146575450897217,-5.313358783721924,-5.246638298034668,-5.208549499511719,4.893315315246582,-5.070216178894043,4.831305980682373,1.4968644380569458,4.7490339279174805,-5.054079055786133,-5.171357154846191,-4.999697685241699,-4.385232448577881,-4.855081081390381,-5.225211143493652,0.7568599581718445,0.4625684916973114,0.6063798666000366,0.5050303936004639,0.37326014041900635,0.6562849879264832,0.9291964173316956,0.35715311765670776,0.9137952923774719,0.47810474038124084,0.3689778447151184,0.4167362153530121,-6.884930610656738,-7.309239864349365,-7.202826976776123,-7.03967809677124,-7.1117167472839355,-7.061924457550049,-7.175253868103027,-6.979950428009033,-6.875589370727539,-7.274825096130371,-7.1663594245910645,-5.264296054840088,-4.954804420471191,-5.174041748046875,-5.091092586517334,4.928093910217285,4.655968189239502,4.833807945251465,-3.7551627159118652,-3.806116819381714,-4.1663737297058105,-4.020730495452881,-3.344165563583374,-3.7598798274993896,-3.3922812938690186,-4.025301456451416,-3.9748358726501465,-4.156996726989746,-3.2585055828094482,4.595372676849365,-3.6346170902252197,4.856640815734863,1.4448095560073853,1.5999420881271362,1.3239854574203491,1.3078478574752808,1.7122303247451782,1.6524062156677246,1.6349563598632812,1.1802445650100708,1.216797113418579,1.314286470413208,1.5686562061309814,-5.364742755889893,-4.892487049102783,4.919225215911865,-6.821073532104492],\"xaxis\":\"x\",\"y\":[5.43921422958374,5.709118366241455,5.508031368255615,25.21953582763672,25.2172794342041,25.31766128540039,24.803712844848633,25.081880569458008,24.90215301513672,24.8891658782959,25.327896118164062,25.110979080200195,24.949899673461914,25.001577377319336,5.793731212615967,24.91122817993164,5.2984299659729,20.425846099853516,5.37229585647583,29.11536407470703,28.770559310913086,28.520769119262695,28.47635841369629,28.44536781311035,28.95366859436035,21.867368698120117,21.691720962524414,22.070526123046875,21.55498504638672,21.987897872924805,22.02708625793457,22.007863998413086,21.859554290771484,21.953067779541016,21.800827026367188,21.865337371826172,21.759296417236328,25.63620948791504,26.008838653564453,25.75077247619629,26.01700782775879,25.99547004699707,26.1365966796875,25.716703414916992,25.332372665405273,25.94854164123535,25.572856903076172,25.642414093017578,28.982019424438477,28.33144187927246,28.903289794921875,28.73848533630371,5.508586883544922,5.17189359664917,5.507648468017578,29.102006912231445,28.597625732421875,28.9910945892334,29.12083625793457,28.933868408203125,28.982988357543945,28.814414978027344,29.21619987487793,28.675710678100586,29.210824966430664,28.719907760620117,5.161478519439697,28.620962142944336,5.778971195220947,20.581897735595703,20.69635009765625,20.54899787902832,20.53214454650879,20.96843719482422,20.97068214416504,21.073047637939453,20.7410888671875,20.625852584838867,20.52543067932129,20.987289428710938,28.950448989868164,28.503782272338867,5.933696746826172,25.71941375732422],\"yaxis\":\"y\",\"type\":\"scatter\"}],                        {\"template\":{\"data\":{\"histogram2dcontour\":[{\"type\":\"histogram2dcontour\",\"colorbar\":{\"outlinewidth\":0,\"ticks\":\"\"},\"colorscale\":[[0.0,\"#0d0887\"],[0.1111111111111111,\"#46039f\"],[0.2222222222222222,\"#7201a8\"],[0.3333333333333333,\"#9c179e\"],[0.4444444444444444,\"#bd3786\"],[0.5555555555555556,\"#d8576b\"],[0.6666666666666666,\"#ed7953\"],[0.7777777777777778,\"#fb9f3a\"],[0.8888888888888888,\"#fdca26\"],[1.0,\"#f0f921\"]]}],\"choropleth\":[{\"type\":\"choropleth\",\"colorbar\":{\"outlinewidth\":0,\"ticks\":\"\"}}],\"histogram2d\":[{\"type\":\"histogram2d\",\"colorbar\":{\"outlinewidth\":0,\"ticks\":\"\"},\"colorscale\":[[0.0,\"#0d0887\"],[0.1111111111111111,\"#46039f\"],[0.2222222222222222,\"#7201a8\"],[0.3333333333333333,\"#9c179e\"],[0.4444444444444444,\"#bd3786\"],[0.5555555555555556,\"#d8576b\"],[0.6666666666666666,\"#ed7953\"],[0.7777777777777778,\"#fb9f3a\"],[0.8888888888888888,\"#fdca26\"],[1.0,\"#f0f921\"]]}],\"heatmap\":[{\"type\":\"heatmap\",\"colorbar\":{\"outlinewidth\":0,\"ticks\":\"\"},\"colorscale\":[[0.0,\"#0d0887\"],[0.1111111111111111,\"#46039f\"],[0.2222222222222222,\"#7201a8\"],[0.3333333333333333,\"#9c179e\"],[0.4444444444444444,\"#bd3786\"],[0.5555555555555556,\"#d8576b\"],[0.6666666666666666,\"#ed7953\"],[0.7777777777777778,\"#fb9f3a\"],[0.8888888888888888,\"#fdca26\"],[1.0,\"#f0f921\"]]}],\"heatmapgl\":[{\"type\":\"heatmapgl\",\"colorbar\":{\"outlinewidth\":0,\"ticks\":\"\"},\"colorscale\":[[0.0,\"#0d0887\"],[0.1111111111111111,\"#46039f\"],[0.2222222222222222,\"#7201a8\"],[0.3333333333333333,\"#9c179e\"],[0.4444444444444444,\"#bd3786\"],[0.5555555555555556,\"#d8576b\"],[0.6666666666666666,\"#ed7953\"],[0.7777777777777778,\"#fb9f3a\"],[0.8888888888888888,\"#fdca26\"],[1.0,\"#f0f921\"]]}],\"contourcarpet\":[{\"type\":\"contourcarpet\",\"colorbar\":{\"outlinewidth\":0,\"ticks\":\"\"}}],\"contour\":[{\"type\":\"contour\",\"colorbar\":{\"outlinewidth\":0,\"ticks\":\"\"},\"colorscale\":[[0.0,\"#0d0887\"],[0.1111111111111111,\"#46039f\"],[0.2222222222222222,\"#7201a8\"],[0.3333333333333333,\"#9c179e\"],[0.4444444444444444,\"#bd3786\"],[0.5555555555555556,\"#d8576b\"],[0.6666666666666666,\"#ed7953\"],[0.7777777777777778,\"#fb9f3a\"],[0.8888888888888888,\"#fdca26\"],[1.0,\"#f0f921\"]]}],\"surface\":[{\"type\":\"surface\",\"colorbar\":{\"outlinewidth\":0,\"ticks\":\"\"},\"colorscale\":[[0.0,\"#0d0887\"],[0.1111111111111111,\"#46039f\"],[0.2222222222222222,\"#7201a8\"],[0.3333333333333333,\"#9c179e\"],[0.4444444444444444,\"#bd3786\"],[0.5555555555555556,\"#d8576b\"],[0.6666666666666666,\"#ed7953\"],[0.7777777777777778,\"#fb9f3a\"],[0.8888888888888888,\"#fdca26\"],[1.0,\"#f0f921\"]]}],\"mesh3d\":[{\"type\":\"mesh3d\",\"colorbar\":{\"outlinewidth\":0,\"ticks\":\"\"}}],\"scatter\":[{\"fillpattern\":{\"fillmode\":\"overlay\",\"size\":10,\"solidity\":0.2},\"type\":\"scatter\"}],\"parcoords\":[{\"type\":\"parcoords\",\"line\":{\"colorbar\":{\"outlinewidth\":0,\"ticks\":\"\"}}}],\"scatterpolargl\":[{\"type\":\"scatterpolargl\",\"marker\":{\"colorbar\":{\"outlinewidth\":0,\"ticks\":\"\"}}}],\"bar\":[{\"error_x\":{\"color\":\"#2a3f5f\"},\"error_y\":{\"color\":\"#2a3f5f\"},\"marker\":{\"line\":{\"color\":\"#E5ECF6\",\"width\":0.5},\"pattern\":{\"fillmode\":\"overlay\",\"size\":10,\"solidity\":0.2}},\"type\":\"bar\"}],\"scattergeo\":[{\"type\":\"scattergeo\",\"marker\":{\"colorbar\":{\"outlinewidth\":0,\"ticks\":\"\"}}}],\"scatterpolar\":[{\"type\":\"scatterpolar\",\"marker\":{\"colorbar\":{\"outlinewidth\":0,\"ticks\":\"\"}}}],\"histogram\":[{\"marker\":{\"pattern\":{\"fillmode\":\"overlay\",\"size\":10,\"solidity\":0.2}},\"type\":\"histogram\"}],\"scattergl\":[{\"type\":\"scattergl\",\"marker\":{\"colorbar\":{\"outlinewidth\":0,\"ticks\":\"\"}}}],\"scatter3d\":[{\"type\":\"scatter3d\",\"line\":{\"colorbar\":{\"outlinewidth\":0,\"ticks\":\"\"}},\"marker\":{\"colorbar\":{\"outlinewidth\":0,\"ticks\":\"\"}}}],\"scattermapbox\":[{\"type\":\"scattermapbox\",\"marker\":{\"colorbar\":{\"outlinewidth\":0,\"ticks\":\"\"}}}],\"scatterternary\":[{\"type\":\"scatterternary\",\"marker\":{\"colorbar\":{\"outlinewidth\":0,\"ticks\":\"\"}}}],\"scattercarpet\":[{\"type\":\"scattercarpet\",\"marker\":{\"colorbar\":{\"outlinewidth\":0,\"ticks\":\"\"}}}],\"carpet\":[{\"aaxis\":{\"endlinecolor\":\"#2a3f5f\",\"gridcolor\":\"white\",\"linecolor\":\"white\",\"minorgridcolor\":\"white\",\"startlinecolor\":\"#2a3f5f\"},\"baxis\":{\"endlinecolor\":\"#2a3f5f\",\"gridcolor\":\"white\",\"linecolor\":\"white\",\"minorgridcolor\":\"white\",\"startlinecolor\":\"#2a3f5f\"},\"type\":\"carpet\"}],\"table\":[{\"cells\":{\"fill\":{\"color\":\"#EBF0F8\"},\"line\":{\"color\":\"white\"}},\"header\":{\"fill\":{\"color\":\"#C8D4E3\"},\"line\":{\"color\":\"white\"}},\"type\":\"table\"}],\"barpolar\":[{\"marker\":{\"line\":{\"color\":\"#E5ECF6\",\"width\":0.5},\"pattern\":{\"fillmode\":\"overlay\",\"size\":10,\"solidity\":0.2}},\"type\":\"barpolar\"}],\"pie\":[{\"automargin\":true,\"type\":\"pie\"}]},\"layout\":{\"autotypenumbers\":\"strict\",\"colorway\":[\"#636efa\",\"#EF553B\",\"#00cc96\",\"#ab63fa\",\"#FFA15A\",\"#19d3f3\",\"#FF6692\",\"#B6E880\",\"#FF97FF\",\"#FECB52\"],\"font\":{\"color\":\"#2a3f5f\"},\"hovermode\":\"closest\",\"hoverlabel\":{\"align\":\"left\"},\"paper_bgcolor\":\"white\",\"plot_bgcolor\":\"#E5ECF6\",\"polar\":{\"bgcolor\":\"#E5ECF6\",\"angularaxis\":{\"gridcolor\":\"white\",\"linecolor\":\"white\",\"ticks\":\"\"},\"radialaxis\":{\"gridcolor\":\"white\",\"linecolor\":\"white\",\"ticks\":\"\"}},\"ternary\":{\"bgcolor\":\"#E5ECF6\",\"aaxis\":{\"gridcolor\":\"white\",\"linecolor\":\"white\",\"ticks\":\"\"},\"baxis\":{\"gridcolor\":\"white\",\"linecolor\":\"white\",\"ticks\":\"\"},\"caxis\":{\"gridcolor\":\"white\",\"linecolor\":\"white\",\"ticks\":\"\"}},\"coloraxis\":{\"colorbar\":{\"outlinewidth\":0,\"ticks\":\"\"}},\"colorscale\":{\"sequential\":[[0.0,\"#0d0887\"],[0.1111111111111111,\"#46039f\"],[0.2222222222222222,\"#7201a8\"],[0.3333333333333333,\"#9c179e\"],[0.4444444444444444,\"#bd3786\"],[0.5555555555555556,\"#d8576b\"],[0.6666666666666666,\"#ed7953\"],[0.7777777777777778,\"#fb9f3a\"],[0.8888888888888888,\"#fdca26\"],[1.0,\"#f0f921\"]],\"sequentialminus\":[[0.0,\"#0d0887\"],[0.1111111111111111,\"#46039f\"],[0.2222222222222222,\"#7201a8\"],[0.3333333333333333,\"#9c179e\"],[0.4444444444444444,\"#bd3786\"],[0.5555555555555556,\"#d8576b\"],[0.6666666666666666,\"#ed7953\"],[0.7777777777777778,\"#fb9f3a\"],[0.8888888888888888,\"#fdca26\"],[1.0,\"#f0f921\"]],\"diverging\":[[0,\"#8e0152\"],[0.1,\"#c51b7d\"],[0.2,\"#de77ae\"],[0.3,\"#f1b6da\"],[0.4,\"#fde0ef\"],[0.5,\"#f7f7f7\"],[0.6,\"#e6f5d0\"],[0.7,\"#b8e186\"],[0.8,\"#7fbc41\"],[0.9,\"#4d9221\"],[1,\"#276419\"]]},\"xaxis\":{\"gridcolor\":\"white\",\"linecolor\":\"white\",\"ticks\":\"\",\"title\":{\"standoff\":15},\"zerolinecolor\":\"white\",\"automargin\":true,\"zerolinewidth\":2},\"yaxis\":{\"gridcolor\":\"white\",\"linecolor\":\"white\",\"ticks\":\"\",\"title\":{\"standoff\":15},\"zerolinecolor\":\"white\",\"automargin\":true,\"zerolinewidth\":2},\"scene\":{\"xaxis\":{\"backgroundcolor\":\"#E5ECF6\",\"gridcolor\":\"white\",\"linecolor\":\"white\",\"showbackground\":true,\"ticks\":\"\",\"zerolinecolor\":\"white\",\"gridwidth\":2},\"yaxis\":{\"backgroundcolor\":\"#E5ECF6\",\"gridcolor\":\"white\",\"linecolor\":\"white\",\"showbackground\":true,\"ticks\":\"\",\"zerolinecolor\":\"white\",\"gridwidth\":2},\"zaxis\":{\"backgroundcolor\":\"#E5ECF6\",\"gridcolor\":\"white\",\"linecolor\":\"white\",\"showbackground\":true,\"ticks\":\"\",\"zerolinecolor\":\"white\",\"gridwidth\":2}},\"shapedefaults\":{\"line\":{\"color\":\"#2a3f5f\"}},\"annotationdefaults\":{\"arrowcolor\":\"#2a3f5f\",\"arrowhead\":0,\"arrowwidth\":1},\"geo\":{\"bgcolor\":\"white\",\"landcolor\":\"#E5ECF6\",\"subunitcolor\":\"white\",\"showland\":true,\"showlakes\":true,\"lakecolor\":\"white\"},\"title\":{\"x\":0.05},\"mapbox\":{\"style\":\"light\"}}},\"xaxis\":{\"anchor\":\"y\",\"domain\":[0.0,1.0],\"title\":{\"text\":\"0\"}},\"yaxis\":{\"anchor\":\"x\",\"domain\":[0.0,1.0],\"title\":{\"text\":\"1\"}},\"legend\":{\"title\":{\"text\":\"\\u30af\\u30e9\\u30b9\\u30bf\"},\"tracegroupgap\":0,\"itemsizing\":\"constant\"},\"title\":{\"text\":\"PCA\\u5f8c\\u6a19\\u6e96\\u5316-\\u7e04\\u6587\\u571f\\u5668\"},\"height\":1000,\"width\":1000,\"font\":{\"family\":\"Courier New, monospace\",\"size\":14}},                        {\"responsive\": true}                    ).then(function(){\n",
              "                            \n",
              "var gd = document.getElementById('9dcb14cf-ba5a-49b7-b8ef-891db3b665e9');\n",
              "var x = new MutationObserver(function (mutations, observer) {{\n",
              "        var display = window.getComputedStyle(gd).display;\n",
              "        if (!display || display === 'none') {{\n",
              "            console.log([gd, 'removed!']);\n",
              "            Plotly.purge(gd);\n",
              "            observer.disconnect();\n",
              "        }}\n",
              "}});\n",
              "\n",
              "// Listen for the removal of the full notebook cells\n",
              "var notebookContainer = gd.closest('#notebook-container');\n",
              "if (notebookContainer) {{\n",
              "    x.observe(notebookContainer, {childList: true});\n",
              "}}\n",
              "\n",
              "// Listen for the clearing of the current output cell\n",
              "var outputEl = gd.closest('.output');\n",
              "if (outputEl) {{\n",
              "    x.observe(outputEl, {childList: true});\n",
              "}}\n",
              "\n",
              "                        })                };                            </script>        </div>\n",
              "</body>\n",
              "</html>"
            ]
          },
          "metadata": {}
        }
      ],
      "source": [
        "\n",
        "tsne = TSNE(n_components=2, random_state=0, init='pca')\n",
        "projections = tsne.fit_transform(features_std)\n",
        "\n",
        "x = projections[:,0]\n",
        "y = projections[:,1]\n",
        "color = km_predictions\n",
        "symbol = km_predictions\n",
        "df = pd.DataFrame({'x':x,'y':y, 'name':name_list,'クラスタ':np.array(color, dtype='str')})\n",
        "\n",
        "df_s = df.sort_values(by='クラスタ', ascending=True)\n",
        "\n",
        "\n",
        "fig = px.scatter(\n",
        "    df_s.loc[:,[\"x\",\"y\"]].values, x=0, y=1,\n",
        "    color=df_s.loc[:,\"クラスタ\"].values,\n",
        "    symbol=df_s.loc[:,\"クラスタ\"].values,\n",
        "    labels={'color': 'Categories'},\n",
        "    title='PCA後標準化-縄文土器',\n",
        "    text=df_s.loc[:,\"name\"],\n",
        "    width=1000, height=1000,\n",
        "    size_max=10,\n",
        "    size=np.full(len(km_predictions), 10),\n",
        ")\n",
        "\n",
        "\n",
        "fig.update_layout(\n",
        "    legend_title=\"クラスタ\",\n",
        "    font=dict(\n",
        "        family=\"Courier New, monospace\",\n",
        "        size=14,\n",
        "    )\n",
        ")\n",
        "fig.show()\n",
        "fig.write_html(\"pca_std_type.html\")"
      ],
      "id": "NJTDxu0nJhxd"
    },
    {
      "cell_type": "code",
      "source": [],
      "metadata": {
        "id": "JguJra8hZ5AH"
      },
      "id": "JguJra8hZ5AH",
      "execution_count": null,
      "outputs": []
    },
    {
      "cell_type": "code",
      "source": [
        "# 縦軸回転拡張データ無し版\n",
        "true_labels_df = pd.read_excel(\"/content/drive/MyDrive/jomon/true_labels_dataset_JomonV7.xlsx\")\n",
        "\n",
        "tsne = TSNE(n_components=2, random_state=0)\n",
        "projections = tsne.fit_transform(features_std)\n",
        "\n",
        "x = projections[:,0]\n",
        "y = projections[:,1]\n",
        "color = km_predictions\n",
        "symbol = km_predictions\n",
        "df = pd.DataFrame({'x':x,'y':y, 'name':true_labels_df[\"列品番号\"], \"labels\":true_labels_df[\"系統型式\"],\"angle\":true_labels_df[\"回転角度\"],'クラスタ':np.array(color, dtype='str')})\n",
        "\n",
        "df_s = df.sort_values(by='クラスタ', ascending=True)\n",
        "\n",
        "df_s = df_s[df_s['angle'].str.startswith('000')]\n",
        "\n",
        "fig = px.scatter(\n",
        "    df_s.loc[:,[\"x\",\"y\"]].values, x=0, y=1,\n",
        "    color=df_s.loc[:,\"クラスタ\"].values,\n",
        "    symbol=df_s.loc[:,\"クラスタ\"].values,\n",
        "    labels={'color': 'Categories', 'symbol': 'Categories'},\n",
        "    title='PCA(標準化)-縄文土器',\n",
        "    text=df_s.loc[:,\"labels\"]+\"(\"+df_s.loc[:,\"name\"]+\")\",\n",
        "    width=1000, height=1000,\n",
        "    size_max=15,\n",
        "    size=np.full(len(km_predictions[::12]), 15),\n",
        ")\n",
        "\n",
        "\n",
        "fig.update_layout(\n",
        "    legend_title=\"クラスタ\",\n",
        "    legend= {'itemsizing': 'constant'},\n",
        "    font=dict(\n",
        "        family=\"Courier New, monospace\",\n",
        "        size=20,\n",
        "    )\n",
        ")\n",
        "for trace in fig.data:\n",
        "    trace.marker.size = 15\n",
        "\n",
        "fig.show()\n",
        "fig.write_html(\"JomonV7_000_pca_std_type_3.html\")"
      ],
      "metadata": {
        "colab": {
          "base_uri": "https://localhost:8080/",
          "height": 1000
        },
        "id": "2pST8IsGtEkZ",
        "outputId": "3cbbb7ee-f5ac-4668-b7a0-adac00dd8838"
      },
      "execution_count": null,
      "outputs": [
        {
          "output_type": "display_data",
          "data": {
            "text/html": [
              "<html>\n",
              "<head><meta charset=\"utf-8\" /></head>\n",
              "<body>\n",
              "    <div>            <script src=\"https://cdnjs.cloudflare.com/ajax/libs/mathjax/2.7.5/MathJax.js?config=TeX-AMS-MML_SVG\"></script><script type=\"text/javascript\">if (window.MathJax && window.MathJax.Hub && window.MathJax.Hub.Config) {window.MathJax.Hub.Config({SVG: {font: \"STIX-Web\"}});}</script>                <script type=\"text/javascript\">window.PlotlyConfig = {MathJaxConfig: 'local'};</script>\n",
              "        <script charset=\"utf-8\" src=\"https://cdn.plot.ly/plotly-2.24.1.min.js\"></script>                <div id=\"177da905-de4f-4135-9217-d37dfdf694ea\" class=\"plotly-graph-div\" style=\"height:1000px; width:1000px;\"></div>            <script type=\"text/javascript\">                                    window.PLOTLYENV=window.PLOTLYENV || {};                                    if (document.getElementById(\"177da905-de4f-4135-9217-d37dfdf694ea\")) {                    Plotly.newPlot(                        \"177da905-de4f-4135-9217-d37dfdf694ea\",                        [{\"hovertemplate\":\"Categories=0\\u003cbr\\u003e0=%{x}\\u003cbr\\u003e1=%{y}\\u003cbr\\u003esize=%{marker.size}\\u003cbr\\u003etext=%{text}\\u003cextra\\u003e\\u003c\\u002fextra\\u003e\",\"legendgroup\":\"0\",\"marker\":{\"color\":\"#636efa\",\"size\":15,\"sizemode\":\"area\",\"sizeref\":0.06666666666666667,\"symbol\":\"circle\"},\"mode\":\"markers+text\",\"name\":\"0\",\"orientation\":\"v\",\"showlegend\":true,\"text\":[\"\\u5929\\u795e\\u5c71\\u2160(rm0564)\",\"\\u713c\\u753a\\u53e4(rm1011)\",\"\\u5929\\u795e\\u5c71\\u2160(rm0701)\",\"\\u65b0\\u5d0e\\u2161(rm1313)\"],\"x\":[19.249292373657227,21.701072692871094,20.441869735717773,16.946401596069336],\"xaxis\":\"x\",\"y\":[13.794299125671387,15.787741661071777,14.716283798217773,11.261931419372559],\"yaxis\":\"y\",\"type\":\"scatter\"},{\"hovertemplate\":\"Categories=1\\u003cbr\\u003e0=%{x}\\u003cbr\\u003e1=%{y}\\u003cbr\\u003esize=%{marker.size}\\u003cbr\\u003etext=%{text}\\u003cextra\\u003e\\u003c\\u002fextra\\u003e\",\"legendgroup\":\"1\",\"marker\":{\"color\":\"#EF553B\",\"size\":15,\"sizemode\":\"area\",\"sizeref\":0.06666666666666667,\"symbol\":\"diamond\"},\"mode\":\"markers+text\",\"name\":\"1\",\"orientation\":\"v\",\"showlegend\":true,\"text\":[\"\\u65b0\\u5d0e\\u2160(rm0695)\",\"\\u65b0\\u5d0e\\u2161b(rm0871)\",\"\\u516d\\u53cd\\u7530(rm0956)\",\"\\u65b0\\u5d0e\\u2162(rm0873)\",\"\\u5929\\u795e\\u5c71\\u2160(rm1145)\",\"\\u516d\\u53cd\\u7530(rm0331)\",\"\\u5927\\u6728\\uff18\\uff42\\u4e2d(rm1406)\",\"\\u65b0\\u5d0e\\u2161b(rm0580)\",\"\\u5927\\u6728\\uff18\\uff42\\u4e2d(rm1407)\",\"\\u5927\\u6728\\uff18\\uff42\\u4e2d(rm1408)\"],\"x\":[-25.34300422668457,-27.728185653686523,-22.547531127929688,-28.92828369140625,-20.640544891357422,-30.168468475341797,-21.755905151367188,-26.31593894958496,-26.10053825378418,-27.19928741455078],\"xaxis\":\"x\",\"y\":[-4.224693775177002,8.796154022216797,-18.433223724365234,3.1337852478027344,-20.300004959106445,3.4873147010803223,-20.228240966796875,-2.290156602859497,-3.897489309310913,7.378226280212402],\"yaxis\":\"y\",\"type\":\"scatter\"},{\"hovertemplate\":\"Categories=2\\u003cbr\\u003e0=%{x}\\u003cbr\\u003e1=%{y}\\u003cbr\\u003esize=%{marker.size}\\u003cbr\\u003etext=%{text}\\u003cextra\\u003e\\u003c\\u002fextra\\u003e\",\"legendgroup\":\"2\",\"marker\":{\"color\":\"#00cc96\",\"size\":15,\"sizemode\":\"area\",\"sizeref\":0.06666666666666667,\"symbol\":\"square\"},\"mode\":\"markers+text\",\"name\":\"2\",\"orientation\":\"v\",\"showlegend\":true,\"text\":[\"\\u65b0\\u9053(rm0923)\",\"\\u516d\\u53cd\\u7530(rm0875)\",\"\\u5929\\u795e\\u5c71\\u2162(rm1410)\",\"\\u516d\\u53cd\\u7530(rm1321)\",\"\\u516d\\u53cd\\u7530(rm1316)\",\"\\u516d\\u53cd\\u7530(rm1348)\",\"\\u5929\\u795e\\u5c71\\u2161a(rm1276)\",\"(\\u7121\\u8a18\\u5165)(rm0698)\",\"\\u516d\\u53cd\\u7530(rm0693)\",\"\\uff1f(rm0699)\",\"\\u516d\\u53cd\\u7530(rm0493)\",\"\\u65b0\\u5d0e\\u2161b(rm0657)\",\"\\u5929\\u795e\\u5c71\\u2161a(rm0684)\",\"\\u516d\\u53cd\\u7530(rm0455)\",\"\\u713c\\u753a\\u53e4(rm0733)\",\"\\u516d\\u53cd\\u7530(rm0721)\",\"\\u5929\\u795e\\u5c71\\u2160(rm0476)\",\"\\u5929\\u795e\\u5c71\\u2160(rm0863)\"],\"x\":[10.84442138671875,-1.410831332206726,0.7097212076187134,4.933803558349609,2.4746203422546387,9.746020317077637,2.4357190132141113,9.291788101196289,6.2613959312438965,13.883405685424805,2.5548267364501953,20.038089752197266,11.39346981048584,9.446919441223145,-3.0232129096984863,2.924015522003174,21.265830993652344,3.8849334716796875],\"xaxis\":\"x\",\"y\":[-4.612872123718262,-13.870829582214355,-5.6093645095825195,-12.085799217224121,-9.256914138793945,2.738797426223755,1.5949679613113403,-15.821877479553223,-5.193822383880615,-12.792996406555176,-11.842839241027832,-11.510172843933105,-11.355311393737793,-5.15386438369751,-14.877791404724121,-13.030285835266113,-10.773517608642578,1.9052114486694336],\"yaxis\":\"y\",\"type\":\"scatter\"},{\"hovertemplate\":\"Categories=3\\u003cbr\\u003e0=%{x}\\u003cbr\\u003e1=%{y}\\u003cbr\\u003esize=%{marker.size}\\u003cbr\\u003etext=%{text}\\u003cextra\\u003e\\u003c\\u002fextra\\u003e\",\"legendgroup\":\"3\",\"marker\":{\"color\":\"#ab63fa\",\"size\":15,\"sizemode\":\"area\",\"sizeref\":0.06666666666666667,\"symbol\":\"x\"},\"mode\":\"markers+text\",\"name\":\"3\",\"orientation\":\"v\",\"showlegend\":true,\"text\":[\"\\u65b0\\u5d0e\\u2160(rm0683)\",\"\\u5929\\u795e\\u5c71\\u2160(rm0416)\",\"\\u5929\\u795e\\u5c71\\u2161a(rm0945)\",\"\\u65b0\\u5d0e\\u2161a(rm0732)\",\"\\u5929\\u795e\\u5c71\\u2161a(rm0750)\",\"\\u85e4\\u5185\\u2161\\uff5e\\u4e95\\u6238\\u5c3b\\u2160(rm1318)\",\"(\\u7121\\u8a18\\u5165)(rm0692)\"],\"x\":[4.757338523864746,-5.070216178894043,-5.225211143493652,0.7568599581718445,-6.884930610656738,-3.6346170902252197,1.4448095560073853],\"xaxis\":\"x\",\"y\":[5.43921422958374,24.91122817993164,28.95366859436035,21.867368698120117,25.63620948791504,28.620962142944336,20.581897735595703],\"yaxis\":\"y\",\"type\":\"scatter\"}],                        {\"template\":{\"data\":{\"histogram2dcontour\":[{\"type\":\"histogram2dcontour\",\"colorbar\":{\"outlinewidth\":0,\"ticks\":\"\"},\"colorscale\":[[0.0,\"#0d0887\"],[0.1111111111111111,\"#46039f\"],[0.2222222222222222,\"#7201a8\"],[0.3333333333333333,\"#9c179e\"],[0.4444444444444444,\"#bd3786\"],[0.5555555555555556,\"#d8576b\"],[0.6666666666666666,\"#ed7953\"],[0.7777777777777778,\"#fb9f3a\"],[0.8888888888888888,\"#fdca26\"],[1.0,\"#f0f921\"]]}],\"choropleth\":[{\"type\":\"choropleth\",\"colorbar\":{\"outlinewidth\":0,\"ticks\":\"\"}}],\"histogram2d\":[{\"type\":\"histogram2d\",\"colorbar\":{\"outlinewidth\":0,\"ticks\":\"\"},\"colorscale\":[[0.0,\"#0d0887\"],[0.1111111111111111,\"#46039f\"],[0.2222222222222222,\"#7201a8\"],[0.3333333333333333,\"#9c179e\"],[0.4444444444444444,\"#bd3786\"],[0.5555555555555556,\"#d8576b\"],[0.6666666666666666,\"#ed7953\"],[0.7777777777777778,\"#fb9f3a\"],[0.8888888888888888,\"#fdca26\"],[1.0,\"#f0f921\"]]}],\"heatmap\":[{\"type\":\"heatmap\",\"colorbar\":{\"outlinewidth\":0,\"ticks\":\"\"},\"colorscale\":[[0.0,\"#0d0887\"],[0.1111111111111111,\"#46039f\"],[0.2222222222222222,\"#7201a8\"],[0.3333333333333333,\"#9c179e\"],[0.4444444444444444,\"#bd3786\"],[0.5555555555555556,\"#d8576b\"],[0.6666666666666666,\"#ed7953\"],[0.7777777777777778,\"#fb9f3a\"],[0.8888888888888888,\"#fdca26\"],[1.0,\"#f0f921\"]]}],\"heatmapgl\":[{\"type\":\"heatmapgl\",\"colorbar\":{\"outlinewidth\":0,\"ticks\":\"\"},\"colorscale\":[[0.0,\"#0d0887\"],[0.1111111111111111,\"#46039f\"],[0.2222222222222222,\"#7201a8\"],[0.3333333333333333,\"#9c179e\"],[0.4444444444444444,\"#bd3786\"],[0.5555555555555556,\"#d8576b\"],[0.6666666666666666,\"#ed7953\"],[0.7777777777777778,\"#fb9f3a\"],[0.8888888888888888,\"#fdca26\"],[1.0,\"#f0f921\"]]}],\"contourcarpet\":[{\"type\":\"contourcarpet\",\"colorbar\":{\"outlinewidth\":0,\"ticks\":\"\"}}],\"contour\":[{\"type\":\"contour\",\"colorbar\":{\"outlinewidth\":0,\"ticks\":\"\"},\"colorscale\":[[0.0,\"#0d0887\"],[0.1111111111111111,\"#46039f\"],[0.2222222222222222,\"#7201a8\"],[0.3333333333333333,\"#9c179e\"],[0.4444444444444444,\"#bd3786\"],[0.5555555555555556,\"#d8576b\"],[0.6666666666666666,\"#ed7953\"],[0.7777777777777778,\"#fb9f3a\"],[0.8888888888888888,\"#fdca26\"],[1.0,\"#f0f921\"]]}],\"surface\":[{\"type\":\"surface\",\"colorbar\":{\"outlinewidth\":0,\"ticks\":\"\"},\"colorscale\":[[0.0,\"#0d0887\"],[0.1111111111111111,\"#46039f\"],[0.2222222222222222,\"#7201a8\"],[0.3333333333333333,\"#9c179e\"],[0.4444444444444444,\"#bd3786\"],[0.5555555555555556,\"#d8576b\"],[0.6666666666666666,\"#ed7953\"],[0.7777777777777778,\"#fb9f3a\"],[0.8888888888888888,\"#fdca26\"],[1.0,\"#f0f921\"]]}],\"mesh3d\":[{\"type\":\"mesh3d\",\"colorbar\":{\"outlinewidth\":0,\"ticks\":\"\"}}],\"scatter\":[{\"fillpattern\":{\"fillmode\":\"overlay\",\"size\":10,\"solidity\":0.2},\"type\":\"scatter\"}],\"parcoords\":[{\"type\":\"parcoords\",\"line\":{\"colorbar\":{\"outlinewidth\":0,\"ticks\":\"\"}}}],\"scatterpolargl\":[{\"type\":\"scatterpolargl\",\"marker\":{\"colorbar\":{\"outlinewidth\":0,\"ticks\":\"\"}}}],\"bar\":[{\"error_x\":{\"color\":\"#2a3f5f\"},\"error_y\":{\"color\":\"#2a3f5f\"},\"marker\":{\"line\":{\"color\":\"#E5ECF6\",\"width\":0.5},\"pattern\":{\"fillmode\":\"overlay\",\"size\":10,\"solidity\":0.2}},\"type\":\"bar\"}],\"scattergeo\":[{\"type\":\"scattergeo\",\"marker\":{\"colorbar\":{\"outlinewidth\":0,\"ticks\":\"\"}}}],\"scatterpolar\":[{\"type\":\"scatterpolar\",\"marker\":{\"colorbar\":{\"outlinewidth\":0,\"ticks\":\"\"}}}],\"histogram\":[{\"marker\":{\"pattern\":{\"fillmode\":\"overlay\",\"size\":10,\"solidity\":0.2}},\"type\":\"histogram\"}],\"scattergl\":[{\"type\":\"scattergl\",\"marker\":{\"colorbar\":{\"outlinewidth\":0,\"ticks\":\"\"}}}],\"scatter3d\":[{\"type\":\"scatter3d\",\"line\":{\"colorbar\":{\"outlinewidth\":0,\"ticks\":\"\"}},\"marker\":{\"colorbar\":{\"outlinewidth\":0,\"ticks\":\"\"}}}],\"scattermapbox\":[{\"type\":\"scattermapbox\",\"marker\":{\"colorbar\":{\"outlinewidth\":0,\"ticks\":\"\"}}}],\"scatterternary\":[{\"type\":\"scatterternary\",\"marker\":{\"colorbar\":{\"outlinewidth\":0,\"ticks\":\"\"}}}],\"scattercarpet\":[{\"type\":\"scattercarpet\",\"marker\":{\"colorbar\":{\"outlinewidth\":0,\"ticks\":\"\"}}}],\"carpet\":[{\"aaxis\":{\"endlinecolor\":\"#2a3f5f\",\"gridcolor\":\"white\",\"linecolor\":\"white\",\"minorgridcolor\":\"white\",\"startlinecolor\":\"#2a3f5f\"},\"baxis\":{\"endlinecolor\":\"#2a3f5f\",\"gridcolor\":\"white\",\"linecolor\":\"white\",\"minorgridcolor\":\"white\",\"startlinecolor\":\"#2a3f5f\"},\"type\":\"carpet\"}],\"table\":[{\"cells\":{\"fill\":{\"color\":\"#EBF0F8\"},\"line\":{\"color\":\"white\"}},\"header\":{\"fill\":{\"color\":\"#C8D4E3\"},\"line\":{\"color\":\"white\"}},\"type\":\"table\"}],\"barpolar\":[{\"marker\":{\"line\":{\"color\":\"#E5ECF6\",\"width\":0.5},\"pattern\":{\"fillmode\":\"overlay\",\"size\":10,\"solidity\":0.2}},\"type\":\"barpolar\"}],\"pie\":[{\"automargin\":true,\"type\":\"pie\"}]},\"layout\":{\"autotypenumbers\":\"strict\",\"colorway\":[\"#636efa\",\"#EF553B\",\"#00cc96\",\"#ab63fa\",\"#FFA15A\",\"#19d3f3\",\"#FF6692\",\"#B6E880\",\"#FF97FF\",\"#FECB52\"],\"font\":{\"color\":\"#2a3f5f\"},\"hovermode\":\"closest\",\"hoverlabel\":{\"align\":\"left\"},\"paper_bgcolor\":\"white\",\"plot_bgcolor\":\"#E5ECF6\",\"polar\":{\"bgcolor\":\"#E5ECF6\",\"angularaxis\":{\"gridcolor\":\"white\",\"linecolor\":\"white\",\"ticks\":\"\"},\"radialaxis\":{\"gridcolor\":\"white\",\"linecolor\":\"white\",\"ticks\":\"\"}},\"ternary\":{\"bgcolor\":\"#E5ECF6\",\"aaxis\":{\"gridcolor\":\"white\",\"linecolor\":\"white\",\"ticks\":\"\"},\"baxis\":{\"gridcolor\":\"white\",\"linecolor\":\"white\",\"ticks\":\"\"},\"caxis\":{\"gridcolor\":\"white\",\"linecolor\":\"white\",\"ticks\":\"\"}},\"coloraxis\":{\"colorbar\":{\"outlinewidth\":0,\"ticks\":\"\"}},\"colorscale\":{\"sequential\":[[0.0,\"#0d0887\"],[0.1111111111111111,\"#46039f\"],[0.2222222222222222,\"#7201a8\"],[0.3333333333333333,\"#9c179e\"],[0.4444444444444444,\"#bd3786\"],[0.5555555555555556,\"#d8576b\"],[0.6666666666666666,\"#ed7953\"],[0.7777777777777778,\"#fb9f3a\"],[0.8888888888888888,\"#fdca26\"],[1.0,\"#f0f921\"]],\"sequentialminus\":[[0.0,\"#0d0887\"],[0.1111111111111111,\"#46039f\"],[0.2222222222222222,\"#7201a8\"],[0.3333333333333333,\"#9c179e\"],[0.4444444444444444,\"#bd3786\"],[0.5555555555555556,\"#d8576b\"],[0.6666666666666666,\"#ed7953\"],[0.7777777777777778,\"#fb9f3a\"],[0.8888888888888888,\"#fdca26\"],[1.0,\"#f0f921\"]],\"diverging\":[[0,\"#8e0152\"],[0.1,\"#c51b7d\"],[0.2,\"#de77ae\"],[0.3,\"#f1b6da\"],[0.4,\"#fde0ef\"],[0.5,\"#f7f7f7\"],[0.6,\"#e6f5d0\"],[0.7,\"#b8e186\"],[0.8,\"#7fbc41\"],[0.9,\"#4d9221\"],[1,\"#276419\"]]},\"xaxis\":{\"gridcolor\":\"white\",\"linecolor\":\"white\",\"ticks\":\"\",\"title\":{\"standoff\":15},\"zerolinecolor\":\"white\",\"automargin\":true,\"zerolinewidth\":2},\"yaxis\":{\"gridcolor\":\"white\",\"linecolor\":\"white\",\"ticks\":\"\",\"title\":{\"standoff\":15},\"zerolinecolor\":\"white\",\"automargin\":true,\"zerolinewidth\":2},\"scene\":{\"xaxis\":{\"backgroundcolor\":\"#E5ECF6\",\"gridcolor\":\"white\",\"linecolor\":\"white\",\"showbackground\":true,\"ticks\":\"\",\"zerolinecolor\":\"white\",\"gridwidth\":2},\"yaxis\":{\"backgroundcolor\":\"#E5ECF6\",\"gridcolor\":\"white\",\"linecolor\":\"white\",\"showbackground\":true,\"ticks\":\"\",\"zerolinecolor\":\"white\",\"gridwidth\":2},\"zaxis\":{\"backgroundcolor\":\"#E5ECF6\",\"gridcolor\":\"white\",\"linecolor\":\"white\",\"showbackground\":true,\"ticks\":\"\",\"zerolinecolor\":\"white\",\"gridwidth\":2}},\"shapedefaults\":{\"line\":{\"color\":\"#2a3f5f\"}},\"annotationdefaults\":{\"arrowcolor\":\"#2a3f5f\",\"arrowhead\":0,\"arrowwidth\":1},\"geo\":{\"bgcolor\":\"white\",\"landcolor\":\"#E5ECF6\",\"subunitcolor\":\"white\",\"showland\":true,\"showlakes\":true,\"lakecolor\":\"white\"},\"title\":{\"x\":0.05},\"mapbox\":{\"style\":\"light\"}}},\"xaxis\":{\"anchor\":\"y\",\"domain\":[0.0,1.0],\"title\":{\"text\":\"0\"}},\"yaxis\":{\"anchor\":\"x\",\"domain\":[0.0,1.0],\"title\":{\"text\":\"1\"}},\"legend\":{\"title\":{\"text\":\"\\u30af\\u30e9\\u30b9\\u30bf\"},\"tracegroupgap\":0,\"itemsizing\":\"constant\"},\"title\":{\"text\":\"PCA(\\u6a19\\u6e96\\u5316)-\\u7e04\\u6587\\u571f\\u5668\"},\"height\":1000,\"width\":1000,\"font\":{\"family\":\"Courier New, monospace\",\"size\":20}},                        {\"responsive\": true}                    ).then(function(){\n",
              "                            \n",
              "var gd = document.getElementById('177da905-de4f-4135-9217-d37dfdf694ea');\n",
              "var x = new MutationObserver(function (mutations, observer) {{\n",
              "        var display = window.getComputedStyle(gd).display;\n",
              "        if (!display || display === 'none') {{\n",
              "            console.log([gd, 'removed!']);\n",
              "            Plotly.purge(gd);\n",
              "            observer.disconnect();\n",
              "        }}\n",
              "}});\n",
              "\n",
              "// Listen for the removal of the full notebook cells\n",
              "var notebookContainer = gd.closest('#notebook-container');\n",
              "if (notebookContainer) {{\n",
              "    x.observe(notebookContainer, {childList: true});\n",
              "}}\n",
              "\n",
              "// Listen for the clearing of the current output cell\n",
              "var outputEl = gd.closest('.output');\n",
              "if (outputEl) {{\n",
              "    x.observe(outputEl, {childList: true});\n",
              "}}\n",
              "\n",
              "                        })                };                            </script>        </div>\n",
              "</body>\n",
              "</html>"
            ]
          },
          "metadata": {}
        }
      ],
      "id": "2pST8IsGtEkZ"
    },
    {
      "cell_type": "markdown",
      "metadata": {
        "id": "f6734be8"
      },
      "source": [
        "### エルボー法の適用"
      ],
      "id": "f6734be8"
    },
    {
      "cell_type": "code",
      "execution_count": null,
      "metadata": {
        "id": "1a377b3b"
      },
      "outputs": [],
      "source": [
        "inertias1 = []\n",
        "for k in range(2,16):\n",
        "    kmc = KMeans(n_clusters=k, init='k-means++', n_init=16, max_iter=300,\n",
        "                           tol=0.0001, verbose=0, random_state=None, copy_x=True)\n",
        "\n",
        "    km_predictions1_e = kmc.fit_predict(features_std)\n",
        "    inertias1.append(kmc.inertia_)"
      ],
      "id": "1a377b3b"
    },
    {
      "cell_type": "code",
      "execution_count": null,
      "metadata": {
        "colab": {
          "base_uri": "https://localhost:8080/",
          "height": 469
        },
        "id": "6c848350",
        "outputId": "7ee296b3-8042-403c-df54-0564a4bdddcc"
      },
      "outputs": [
        {
          "output_type": "display_data",
          "data": {
            "text/plain": [
              "<Figure size 640x480 with 1 Axes>"
            ],
            "image/png": "[encoded data removed]"
          },
          "metadata": {}
        }
      ],
      "source": [
        "plt.plot(range(2,16), inertias1, '-')\n",
        "plt.xticks(range(2,16))\n",
        "plt.title(\"clusters\")\n",
        "plt.xlabel('Num of clusters')\n",
        "plt.ylabel('SSE/Distortion')\n",
        "plt.savefig('elbow_chart.png')"
      ],
      "id": "6c848350"
    },
    {
      "cell_type": "markdown",
      "metadata": {
        "id": "OfeBfaP7cy0M"
      },
      "source": [
        "### グラフなどを保存する"
      ],
      "id": "OfeBfaP7cy0M"
    },
    {
      "cell_type": "code",
      "execution_count": null,
      "metadata": {
        "id": "Gvqov4HFtaqM"
      },
      "outputs": [],
      "source": [
        "!mkdir {DATASAVE_DIR}\n",
        "!cp -r *.png *.npy *.html *.hdf5 *.csv {DATASET_SAVE_PATH} {DATASET_SAVE_PATH}-inital {DATASAVE_DIR}\n",
        "!zip -r {DATASAVE_DIR}.zip {DATASAVE_DIR}"
      ],
      "id": "Gvqov4HFtaqM"
    },
    {
      "cell_type": "code",
      "execution_count": null,
      "metadata": {
        "id": "Lby_u9AEBXQt"
      },
      "outputs": [],
      "source": [
        "!mv {DATASAVE_DIR}.zip /content/drive/MyDrive/jomon/jomon"
      ],
      "id": "Lby_u9AEBXQt"
    },
    {
      "cell_type": "markdown",
      "metadata": {
        "id": "V7IgIlYYVFE-"
      },
      "source": [],
      "id": "V7IgIlYYVFE-"
    },
    {
      "cell_type": "markdown",
      "metadata": {
        "id": "dQtL10NHVFnP"
      },
      "source": [],
      "id": "dQtL10NHVFnP"
    }
  ],
  "metadata": {
    "colab": {
      "machine_shape": "hm",
      "provenance": [],
      "gpuClass": "premium",
      "gpuType": "A100"
    },
    "kernelspec": {
      "display_name": "Python 3",
      "name": "python3"
    },
    "language_info": {
      "codemirror_mode": {
        "name": "ipython",
        "version": 3
      },
      "file_extension": ".py",
      "mimetype": "text/x-python",
      "name": "python",
      "nbconvert_exporter": "python",
      "pygments_lexer": "ipython3",
      "version": "3.9.5"
    },
    "accelerator": "GPU"
  },
  "nbformat": 4,
  "nbformat_minor": 5
}
