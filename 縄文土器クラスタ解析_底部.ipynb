{
  "cells": [
    {
      "cell_type": "markdown",
      "source": [
        "# 縄文土器（底部）クラスタ解析"
      ],
      "metadata": {
        "id": "zlBqZVy6xcel"
      },
      "id": "zlBqZVy6xcel"
    },
    {
      "cell_type": "markdown",
      "source": [
        "## Voxelデータの展開"
      ],
      "metadata": {
        "id": "V6SpgfSMw6g7"
      },
      "id": "V6SpgfSMw6g7"
    },
    {
      "cell_type": "code",
      "execution_count": null,
      "metadata": {
        "id": "7bfac36f",
        "colab": {
          "base_uri": "https://localhost:8080/"
        },
        "outputId": "9526ccf1-a880-4a0f-be80-5fb12900444b"
      },
      "outputs": [
        {
          "output_type": "stream",
          "name": "stdout",
          "text": [
            "Mounted at /content/drive\n"
          ]
        }
      ],
      "source": [
        "from google.colab import drive\n",
        "drive.mount('/content/drive')"
      ],
      "id": "7bfac36f"
    },
    {
      "cell_type": "code",
      "execution_count": null,
      "metadata": {
        "id": "ksXWhVI3-pjw"
      },
      "outputs": [],
      "source": [
        "!unzip -q /content/drive/MyDrive/jomon/jomon/jomonvoxels-128-20240312.zip"
      ],
      "id": "ksXWhVI3-pjw"
    },
    {
      "cell_type": "code",
      "source": [
        "# bottom 除外の個体\n",
        "!rm data/voxel/rm0331* data/voxel/rm0416* data/voxel/rm0699* data/voxel/rm0873*\n",
        "!rm data/voxel/rm0875* data/voxel/rm0923* data/voxel/rm0943*"
      ],
      "metadata": {
        "id": "QSFE4NYBfRQb"
      },
      "id": "QSFE4NYBfRQb",
      "execution_count": null,
      "outputs": []
    },
    {
      "cell_type": "markdown",
      "metadata": {
        "id": "vMuFpelK5SrR"
      },
      "source": [
        "# パッケージインストール\n"
      ],
      "id": "vMuFpelK5SrR"
    },
    {
      "cell_type": "code",
      "execution_count": null,
      "metadata": {
        "id": "hf8FZb9OynSF",
        "colab": {
          "base_uri": "https://localhost:8080/"
        },
        "outputId": "83b7ac17-3556-480e-8fa0-5db0ecaeb528"
      },
      "outputs": [
        {
          "output_type": "stream",
          "name": "stdout",
          "text": [
            "\u001b[?25l     \u001b[90m━━━━━━━━━━━━━━━━━━━━━━━━━━━━━━━━━━━━━━━━\u001b[0m \u001b[32m0.0/4.1 MB\u001b[0m \u001b[31m?\u001b[0m eta \u001b[36m-:--:--\u001b[0m\r\u001b[2K     \u001b[91m━━━━━━\u001b[0m\u001b[90m╺\u001b[0m\u001b[90m━━━━━━━━━━━━━━━━━━━━━━━━━━━━━━━━━\u001b[0m \u001b[32m0.6/4.1 MB\u001b[0m \u001b[31m18.5 MB/s\u001b[0m eta \u001b[36m0:00:01\u001b[0m\r\u001b[2K     \u001b[91m━━━━━━━━━━━━━━━━━━━━━━━━━━━━━━━━━━━━━━━\u001b[0m\u001b[91m╸\u001b[0m \u001b[32m4.1/4.1 MB\u001b[0m \u001b[31m72.3 MB/s\u001b[0m eta \u001b[36m0:00:01\u001b[0m\r\u001b[2K     \u001b[90m━━━━━━━━━━━━━━━━━━━━━━━━━━━━━━━━━━━━━━━━\u001b[0m \u001b[32m4.1/4.1 MB\u001b[0m \u001b[31m48.3 MB/s\u001b[0m eta \u001b[36m0:00:00\u001b[0m\n",
            "\u001b[?25h  Preparing metadata (setup.py) ... \u001b[?25l\u001b[?25hdone\n",
            "  Building wheel for japanize_matplotlib (setup.py) ... \u001b[?25l\u001b[?25hdone\n",
            "\u001b[2K     \u001b[90m━━━━━━━━━━━━━━━━━━━━━━━━━━━━━━━━━━━━━━━━\u001b[0m \u001b[32m69.8/69.8 kB\u001b[0m \u001b[31m2.7 MB/s\u001b[0m eta \u001b[36m0:00:00\u001b[0m\n",
            "\u001b[?25h"
          ]
        }
      ],
      "source": [
        "!pip install -q japanize_matplotlib\n",
        "!pip install -q tensorflow-determinism classification-models-3D"
      ],
      "id": "hf8FZb9OynSF"
    },
    {
      "cell_type": "markdown",
      "metadata": {
        "id": "KlTOOzkqH0Vp"
      },
      "source": [],
      "id": "KlTOOzkqH0Vp"
    },
    {
      "cell_type": "markdown",
      "metadata": {
        "id": "VNfGpmKw9j9v"
      },
      "source": [
        "# 仮ラベル付きのクラスタリング"
      ],
      "id": "VNfGpmKw9j9v"
    },
    {
      "cell_type": "code",
      "execution_count": null,
      "metadata": {
        "id": "6f464c32"
      },
      "outputs": [],
      "source": [
        "import os\n",
        "from glob import glob\n",
        "import re\n",
        "import numpy as np\n",
        "import pandas as pd\n",
        "import plotly.express as px\n",
        "import matplotlib.pyplot as plt\n",
        "import japanize_matplotlib\n",
        "%matplotlib inline\n",
        "\n",
        "import tensorflow as tf\n",
        "from tensorflow import keras\n",
        "from sklearn.cluster import KMeans\n",
        "from sklearn.preprocessing import StandardScaler\n",
        "from sklearn.decomposition import PCA\n",
        "from sklearn.manifold import TSNE\n",
        "import random\n",
        "import gc\n",
        "\n",
        "from skimage.transform import resize\n",
        "from matplotlib import pyplot as plt\n",
        "from matplotlib.colors import Normalize\n",
        "from mpl_toolkits.axes_grid1.inset_locator import inset_axes\n",
        "import matplotlib.pyplot as plt\n",
        "from matplotlib import cm\n",
        "#from tensorflow.keras.utils import np_utils"
      ],
      "id": "6f464c32"
    },
    {
      "cell_type": "code",
      "execution_count": null,
      "metadata": {
        "id": "b646003c"
      },
      "outputs": [],
      "source": [
        "\n",
        "def set_seed(seed=200):\n",
        "    tf.random.set_seed(seed)\n",
        "\n",
        "    # optional\n",
        "    # for numpy.random\n",
        "    np.random.seed(seed)\n",
        "    # for built-in random\n",
        "    random.seed(seed)\n",
        "    # for hash seed\n",
        "    os.environ[\"PYTHONHASHSEED\"] = str(seed)\n",
        "    os.environ['TF_DETERMINISTIC_OPS'] = '1'\n",
        "\n",
        "\n",
        "set_seed(123)\n"
      ],
      "id": "b646003c"
    },
    {
      "cell_type": "code",
      "execution_count": null,
      "metadata": {
        "id": "BSm7HfgKOwI0"
      },
      "outputs": [],
      "source": [],
      "id": "BSm7HfgKOwI0"
    },
    {
      "cell_type": "markdown",
      "metadata": {
        "id": "KQOUJ0nqQBB8"
      },
      "source": [
        "## 定数定義"
      ],
      "id": "KQOUJ0nqQBB8"
    },
    {
      "cell_type": "code",
      "execution_count": null,
      "metadata": {
        "id": "feed76cf"
      },
      "outputs": [],
      "source": [
        "NUM_CLASSES = 6\n",
        "NUM_CLUSTERS = 6\n",
        "NUM_PCA_COMPONENTS = 6\n",
        "BUFFER_SIZE = 1000\n",
        "BATCH_SIZE = 4\n",
        "EPOCHS = 60\n",
        "CLUSTERING_INTERVAL = 3\n",
        "DATA_DIR = '/content/data/voxel'\n",
        "IMAGE_SIZE = 128\n",
        "NUM_CHANNELS = 3\n",
        "PART = \"bottom\"\n",
        "\n",
        "FEATURE_EXTRACTOR_MODEL_PATH = \"feature_extractor_20230308-128-swish-noise-single-random-IV3_JomonV7_{}_cls{}_ep{}.hdf5\".format(PART, NUM_CLUSTERS,EPOCHS)\n",
        "CLASSIFIER_MODEL_PATH = \"classifier_20230308-128-swish-noise-single-random-IV3_JomonV7_{}_cls{}_ep{}.hdf5\".format(PART, NUM_CLUSTERS,EPOCHS)\n",
        "DATASET_SAVE_PATH = \"pseudo_dataset_20230308-128-swish-noise-single-random-IV3_JomonV7_{}_cls{}_ep{}\".format(PART, NUM_CLUSTERS,EPOCHS)\n",
        "\n",
        "DATASAVE_DIR = \"JomonV7_{}_20230308-128-swish-noise-single-random-IV3_deg30_cls{}_ep{}\".format(PART, NUM_CLUSTERS,EPOCHS)\n"
      ],
      "id": "feed76cf"
    },
    {
      "cell_type": "markdown",
      "metadata": {
        "id": "2075eac1"
      },
      "source": [
        "## モデル定義"
      ],
      "id": "2075eac1"
    },
    {
      "cell_type": "code",
      "execution_count": null,
      "metadata": {
        "id": "135277a4"
      },
      "outputs": [],
      "source": [
        "class ConvNet3D(keras.Model):\n",
        "    def __init__(self):\n",
        "        super(ConvNet3D, self).__init__()\n",
        "        self.conv3d_1 = keras.layers.Conv3D(filters=64,\n",
        "                                            padding='same', kernel_size=3, activation='linear', name='conv3d_1')\n",
        "        self.bn_1 = keras.layers.BatchNormalization()\n",
        "        self.act_1 = keras.layers.Activation('swish')\n",
        "        self.maxpool3d_1 = keras.layers.MaxPool3D(pool_size=2)\n",
        "\n",
        "\n",
        "        self.conv3d_2 = keras.layers.Conv3D(filters=64,\n",
        "                                            padding='same', kernel_size=3, activation='linear', name='conv3d_2')\n",
        "        self.bn_2 = keras.layers.BatchNormalization()\n",
        "        self.act_2 = keras.layers.Activation('swish')\n",
        "        self.maxpool3d_2 = keras.layers.MaxPool3D(pool_size=2)\n",
        "\n",
        "\n",
        "        self.conv3d_3 = keras.layers.Conv3D(filters=128,\n",
        "                                            padding='same',  kernel_size=3, activation='linear', name='conv3d_3')\n",
        "        self.bn_3 = keras.layers.BatchNormalization()\n",
        "        self.act_3 = keras.layers.Activation('swish')\n",
        "        self.maxpool3d_3 = keras.layers.MaxPool3D(pool_size=2)\n",
        "\n",
        "\n",
        "        self.conv3d_4 = keras.layers.Conv3D(filters=256,\n",
        "                                            padding='same', kernel_size=3, activation='linear', name='conv3d_4')\n",
        "        self.bn_4 = keras.layers.BatchNormalization()\n",
        "        self.act_4 = keras.layers.Activation('swish')\n",
        "        self.maxpool3d_4 = keras.layers.MaxPool3D(pool_size=1)\n",
        "\n",
        "\n",
        "        self.gap_1 = keras.layers.GlobalAveragePooling3D()\n",
        "\n",
        "        self.dense_1 = keras.layers.Dense(128, #kernel_initializer='lecun_normal'\n",
        "                                          )\n",
        "\n",
        "    def call(self, inputs):\n",
        "        x = self.conv3d_1(inputs)\n",
        "        x = self.bn_1(x)\n",
        "        x = self.act_1(x)\n",
        "        x = self.maxpool3d_1(x)\n",
        "\n",
        "        x = self.conv3d_2(x)\n",
        "        x = self.bn_2(x)\n",
        "        x = self.act_2(x)\n",
        "        x = self.maxpool3d_2(x)\n",
        "\n",
        "        x = self.conv3d_3(x)\n",
        "        x = self.bn_3(x)\n",
        "        x = self.act_3(x)\n",
        "        x = self.maxpool3d_3(x)\n",
        "\n",
        "        x = self.conv3d_4(x)\n",
        "        x = self.bn_4(x)\n",
        "        x = self.act_4(x)\n",
        "        x = self.maxpool3d_4(x)\n",
        "\n",
        "        x = self.gap_1(x)\n",
        "        x = self.dense_1(x)\n",
        "        return x"
      ],
      "id": "135277a4"
    },
    {
      "cell_type": "code",
      "execution_count": null,
      "metadata": {
        "id": "YYH2hrqz1Ecm"
      },
      "outputs": [],
      "source": [
        "class Classify3D(tf.keras.Model):\n",
        "    def __init__(self, feature_extractor, num_of_classes=3):\n",
        "        super(Classify3D, self).__init__()\n",
        "        self.feature_extractor = feature_extractor\n",
        "        self.num_of_classes = num_of_classes\n",
        "        self.activation_1 = keras.layers.Activation(keras.activations.selu)\n",
        "        self.dense_1 = keras.layers.Dense(self.num_of_classes, activation='softmax')\n",
        "\n",
        "    def call(self, inputs):\n",
        "        x = self.feature_extractor(inputs)\n",
        "        x = self.activation_1(x)\n",
        "        x = self.dense_1(x)\n",
        "\n",
        "        return x"
      ],
      "id": "YYH2hrqz1Ecm"
    },
    {
      "cell_type": "code",
      "execution_count": null,
      "metadata": {
        "colab": {
          "base_uri": "https://localhost:8080/"
        },
        "id": "4d1a20f9",
        "outputId": "5976b19d-94e5-4063-8705-13da852a0e92"
      },
      "outputs": [
        {
          "output_type": "stream",
          "name": "stdout",
          "text": [
            "Model: \"conv_net3d\"\n",
            "_________________________________________________________________\n",
            " Layer (type)                Output Shape              Param #   \n",
            "=================================================================\n",
            " conv3d_1 (Conv3D)           multiple                  5248      \n",
            "                                                                 \n",
            " batch_normalization (Batch  multiple                  256       \n",
            " Normalization)                                                  \n",
            "                                                                 \n",
            " activation (Activation)     multiple                  0         \n",
            "                                                                 \n",
            " max_pooling3d (MaxPooling3  multiple                  0         \n",
            " D)                                                              \n",
            "                                                                 \n",
            " conv3d_2 (Conv3D)           multiple                  110656    \n",
            "                                                                 \n",
            " batch_normalization_1 (Bat  multiple                  256       \n",
            " chNormalization)                                                \n",
            "                                                                 \n",
            " activation_1 (Activation)   multiple                  0         \n",
            "                                                                 \n",
            " max_pooling3d_1 (MaxPoolin  multiple                  0         \n",
            " g3D)                                                            \n",
            "                                                                 \n",
            " conv3d_3 (Conv3D)           multiple                  221312    \n",
            "                                                                 \n",
            " batch_normalization_2 (Bat  multiple                  512       \n",
            " chNormalization)                                                \n",
            "                                                                 \n",
            " activation_2 (Activation)   multiple                  0         \n",
            "                                                                 \n",
            " max_pooling3d_2 (MaxPoolin  multiple                  0         \n",
            " g3D)                                                            \n",
            "                                                                 \n",
            " conv3d_4 (Conv3D)           multiple                  884992    \n",
            "                                                                 \n",
            " batch_normalization_3 (Bat  multiple                  1024      \n",
            " chNormalization)                                                \n",
            "                                                                 \n",
            " activation_3 (Activation)   multiple                  0         \n",
            "                                                                 \n",
            " max_pooling3d_3 (MaxPoolin  multiple                  0         \n",
            " g3D)                                                            \n",
            "                                                                 \n",
            " global_average_pooling3d (  multiple                  0         \n",
            " GlobalAveragePooling3D)                                         \n",
            "                                                                 \n",
            " dense (Dense)               multiple                  32896     \n",
            "                                                                 \n",
            "=================================================================\n",
            "Total params: 1257152 (4.80 MB)\n",
            "Trainable params: 1256128 (4.79 MB)\n",
            "Non-trainable params: 1024 (4.00 KB)\n",
            "_________________________________________________________________\n"
          ]
        }
      ],
      "source": [
        "feature_extractor = ConvNet3D()\n",
        "feature_extractor.build(input_shape=(BATCH_SIZE, IMAGE_SIZE, IMAGE_SIZE, IMAGE_SIZE, NUM_CHANNELS))\n",
        "feature_extractor.summary()"
      ],
      "id": "4d1a20f9"
    },
    {
      "cell_type": "code",
      "execution_count": null,
      "metadata": {
        "colab": {
          "base_uri": "https://localhost:8080/"
        },
        "id": "a0683a3c",
        "outputId": "5f844dc8-687b-4ffb-d9b5-2983bdc90aac"
      },
      "outputs": [
        {
          "output_type": "stream",
          "name": "stdout",
          "text": [
            "Model: \"classify3d\"\n",
            "_________________________________________________________________\n",
            " Layer (type)                Output Shape              Param #   \n",
            "=================================================================\n",
            " conv_net3d (ConvNet3D)      multiple                  1257152   \n",
            "                                                                 \n",
            " activation_4 (Activation)   multiple                  0         \n",
            "                                                                 \n",
            " dense_1 (Dense)             multiple                  774       \n",
            "                                                                 \n",
            "=================================================================\n",
            "Total params: 1257926 (4.80 MB)\n",
            "Trainable params: 1256902 (4.79 MB)\n",
            "Non-trainable params: 1024 (4.00 KB)\n",
            "_________________________________________________________________\n"
          ]
        }
      ],
      "source": [
        "classifier = Classify3D(feature_extractor, num_of_classes=NUM_CLASSES)\n",
        "classifier.build(input_shape=(BATCH_SIZE, IMAGE_SIZE, IMAGE_SIZE, IMAGE_SIZE, NUM_CHANNELS))\n",
        "classifier.summary()"
      ],
      "id": "a0683a3c"
    },
    {
      "cell_type": "code",
      "execution_count": null,
      "metadata": {
        "id": "00e7de59"
      },
      "outputs": [],
      "source": [
        "pca = PCA(n_components=NUM_PCA_COMPONENTS)\n",
        "\n",
        "stdsc = StandardScaler()\n",
        "\n",
        "kmc = KMeans(n_clusters=NUM_CLUSTERS, init='k-means++', n_init=2, max_iter=300,\n",
        "                       tol=0.0001, verbose=0, random_state=123, copy_x=True)"
      ],
      "id": "00e7de59"
    },
    {
      "cell_type": "code",
      "execution_count": null,
      "metadata": {
        "id": "ZFxU5bUEPcSA"
      },
      "outputs": [],
      "source": [],
      "id": "ZFxU5bUEPcSA"
    },
    {
      "cell_type": "markdown",
      "metadata": {
        "id": "8a3126a6"
      },
      "source": [
        "## データ準備"
      ],
      "id": "8a3126a6"
    },
    {
      "cell_type": "code",
      "execution_count": null,
      "metadata": {
        "id": "b5fc3646"
      },
      "outputs": [],
      "source": [
        "train_pattern = DATA_DIR +'/rm*_{}_*_{}.npy'.format(IMAGE_SIZE, PART)\n",
        "train_list_ds = tf.data.Dataset.list_files(train_pattern, shuffle=False)\n",
        "\n",
        "\n",
        "# 学習中の混同行列表示用に正解ラベルを格納する（推論モードから入りラベルを変更するためモデルは読み込まない）\n",
        "# 今回は全て0を入れる\n",
        "train_ids = list(np.zeros(len(train_list_ds)))\n",
        "\n",
        "train_label_ds = tf.data.Dataset.from_tensor_slices(tf.cast(train_ids, tf.int64))"
      ],
      "id": "b5fc3646"
    },
    {
      "cell_type": "code",
      "execution_count": null,
      "metadata": {
        "id": "6bI1CJEkAUbJ"
      },
      "outputs": [],
      "source": [],
      "id": "6bI1CJEkAUbJ"
    },
    {
      "cell_type": "code",
      "execution_count": null,
      "metadata": {
        "id": "1e854c64"
      },
      "outputs": [],
      "source": [
        "def read_npy_file(path):\n",
        "    voxel_data = np.load(path.numpy())\n",
        "    #RGBAが全て0ならばランダム値をいれてAチャネルを切る\n",
        "    data = np.where(np.all(voxel_data, axis=3, keepdims=True) ==0, np.random.randint(0, 256,(IMAGE_SIZE,IMAGE_SIZE,IMAGE_SIZE,4)), voxel_data)[:,:,:,0:3]/255\n",
        "    return tf.convert_to_tensor(data, dtype=tf.float32)"
      ],
      "id": "1e854c64"
    },
    {
      "cell_type": "code",
      "execution_count": null,
      "metadata": {
        "id": "96ccb6e3"
      },
      "outputs": [],
      "source": [
        "train_3d_ds = train_list_ds.map(\n",
        "        lambda item: tf.py_function(read_npy_file, [item], tf.float32))#.cache(filename='./cache.tf-data')"
      ],
      "id": "96ccb6e3"
    },
    {
      "cell_type": "markdown",
      "metadata": {
        "id": "5d4f898d"
      },
      "source": [
        "## モデルの学習"
      ],
      "id": "5d4f898d"
    },
    {
      "cell_type": "code",
      "execution_count": null,
      "metadata": {
        "colab": {
          "base_uri": "https://localhost:8080/"
        },
        "id": "CeHJ_QUkkPda",
        "outputId": "276cd157-0d73-431a-8350-2ed50a56e7e1"
      },
      "outputs": [
        {
          "output_type": "stream",
          "name": "stdout",
          "text": [
            "Mon Mar 11 11:55:40 2024       \n",
            "+---------------------------------------------------------------------------------------+\n",
            "| NVIDIA-SMI 535.104.05             Driver Version: 535.104.05   CUDA Version: 12.2     |\n",
            "|-----------------------------------------+----------------------+----------------------+\n",
            "| GPU  Name                 Persistence-M | Bus-Id        Disp.A | Volatile Uncorr. ECC |\n",
            "| Fan  Temp   Perf          Pwr:Usage/Cap |         Memory-Usage | GPU-Util  Compute M. |\n",
            "|                                         |                      |               MIG M. |\n",
            "|=========================================+======================+======================|\n",
            "|   0  NVIDIA A100-SXM4-40GB          Off | 00000000:00:04.0 Off |                    0 |\n",
            "| N/A   32C    P0              49W / 400W |    455MiB / 40960MiB |      0%      Default |\n",
            "|                                         |                      |             Disabled |\n",
            "+-----------------------------------------+----------------------+----------------------+\n",
            "                                                                                         \n",
            "+---------------------------------------------------------------------------------------+\n",
            "| Processes:                                                                            |\n",
            "|  GPU   GI   CI        PID   Type   Process name                            GPU Memory |\n",
            "|        ID   ID                                                             Usage      |\n",
            "|=======================================================================================|\n",
            "+---------------------------------------------------------------------------------------+\n"
          ]
        }
      ],
      "source": [
        "!nvidia-smi"
      ],
      "id": "CeHJ_QUkkPda"
    },
    {
      "cell_type": "code",
      "execution_count": null,
      "metadata": {
        "id": "m9ffRB_-pqpt"
      },
      "outputs": [],
      "source": [],
      "id": "m9ffRB_-pqpt"
    },
    {
      "cell_type": "code",
      "execution_count": null,
      "metadata": {
        "colab": {
          "base_uri": "https://localhost:8080/"
        },
        "id": "2161662a",
        "scrolled": false,
        "outputId": "e424cc20-65ab-44fc-92fb-ee709f62fa58"
      },
      "outputs": [
        {
          "output_type": "stream",
          "name": "stdout",
          "text": [
            "Epoch: 0, Distortion: 1253.44\n",
            "[[54 91 33 60 81 65]\n",
            " [ 0  0  0  0  0  0]\n",
            " [ 0  0  0  0  0  0]\n",
            " [ 0  0  0  0  0  0]\n",
            " [ 0  0  0  0  0  0]\n",
            " [ 0  0  0  0  0  0]]\n"
          ]
        },
        {
          "output_type": "stream",
          "name": "stderr",
          "text": [
            "WARNING:tensorflow:5 out of the last 5 calls to <function _BaseOptimizer._update_step_xla at 0x7e00100b7760> triggered tf.function retracing. Tracing is expensive and the excessive number of tracings could be due to (1) creating @tf.function repeatedly in a loop, (2) passing tensors with different shapes, (3) passing Python objects instead of tensors. For (1), please define your @tf.function outside of the loop. For (2), @tf.function has reduce_retracing=True option that can avoid unnecessary retracing. For (3), please refer to https://www.tensorflow.org/guide/function#controlling_retracing and https://www.tensorflow.org/api_docs/python/tf/function for  more details.\n",
            "WARNING:tensorflow:6 out of the last 6 calls to <function _BaseOptimizer._update_step_xla at 0x7e00100b7760> triggered tf.function retracing. Tracing is expensive and the excessive number of tracings could be due to (1) creating @tf.function repeatedly in a loop, (2) passing tensors with different shapes, (3) passing Python objects instead of tensors. For (1), please define your @tf.function outside of the loop. For (2), @tf.function has reduce_retracing=True option that can avoid unnecessary retracing. For (3), please refer to https://www.tensorflow.org/guide/function#controlling_retracing and https://www.tensorflow.org/api_docs/python/tf/function for  more details.\n"
          ]
        },
        {
          "output_type": "stream",
          "name": "stdout",
          "text": [
            "Epoch 1, Loss: 1.3773514032363892, Accuracy: 45.3125\n",
            "Epoch 2, Loss: 1.1389654874801636, Accuracy: 56.25\n",
            "Epoch 3, Loss: 1.0423438549041748, Accuracy: 61.97916793823242\n",
            "Epoch: 3, Distortion: 933.49\n",
            "[[139  48  48  36  89  24]\n",
            " [  0   0   0   0   0   0]\n",
            " [  0   0   0   0   0   0]\n",
            " [  0   0   0   0   0   0]\n",
            " [  0   0   0   0   0   0]\n",
            " [  0   0   0   0   0   0]]\n",
            "Epoch 4, Loss: 1.492774486541748, Accuracy: 48.4375\n",
            "Epoch 5, Loss: 0.640447199344635, Accuracy: 81.51042175292969\n",
            "Epoch 6, Loss: 0.49171218276023865, Accuracy: 85.9375\n",
            "Epoch: 6, Distortion: 890.60\n",
            "[[ 48 127  24  36  48 101]\n",
            " [  0   0   0   0   0   0]\n",
            " [  0   0   0   0   0   0]\n",
            " [  0   0   0   0   0   0]\n",
            " [  0   0   0   0   0   0]\n",
            " [  0   0   0   0   0   0]]\n",
            "Epoch 7, Loss: 1.4218214750289917, Accuracy: 51.30208206176758\n",
            "Epoch 8, Loss: 0.6756401062011719, Accuracy: 81.51042175292969\n",
            "Epoch 9, Loss: 0.5533587336540222, Accuracy: 83.07292175292969\n",
            "Epoch: 9, Distortion: 846.19\n",
            "[[107  77  68  36  48  48]\n",
            " [  0   0   0   0   0   0]\n",
            " [  0   0   0   0   0   0]\n",
            " [  0   0   0   0   0   0]\n",
            " [  0   0   0   0   0   0]\n",
            " [  0   0   0   0   0   0]]\n",
            "Epoch 10, Loss: 1.2779316902160645, Accuracy: 55.46875\n",
            "Epoch 11, Loss: 0.7776319980621338, Accuracy: 74.21875\n",
            "Epoch 12, Loss: 0.5725688934326172, Accuracy: 80.72917175292969\n",
            "Epoch: 12, Distortion: 904.08\n",
            "[[ 48  37 108  36 107  48]\n",
            " [  0   0   0   0   0   0]\n",
            " [  0   0   0   0   0   0]\n",
            " [  0   0   0   0   0   0]\n",
            " [  0   0   0   0   0   0]\n",
            " [  0   0   0   0   0   0]]\n",
            "Epoch 13, Loss: 1.2661582231521606, Accuracy: 52.34375\n",
            "Epoch 14, Loss: 0.6882537007331848, Accuracy: 75.52082824707031\n",
            "Epoch 15, Loss: 0.4692346751689911, Accuracy: 86.97917175292969\n",
            "Epoch: 15, Distortion: 781.64\n",
            "[[108  96  36  36  48  60]\n",
            " [  0   0   0   0   0   0]\n",
            " [  0   0   0   0   0   0]\n",
            " [  0   0   0   0   0   0]\n",
            " [  0   0   0   0   0   0]\n",
            " [  0   0   0   0   0   0]]\n",
            "Epoch 16, Loss: 1.2798113822937012, Accuracy: 55.98958206176758\n",
            "Epoch 17, Loss: 0.6122459769248962, Accuracy: 81.77082824707031\n",
            "Epoch 18, Loss: 0.39155182242393494, Accuracy: 91.66667175292969\n",
            "Epoch: 18, Distortion: 846.30\n",
            "[[ 48  36  36 115  89  60]\n",
            " [  0   0   0   0   0   0]\n",
            " [  0   0   0   0   0   0]\n",
            " [  0   0   0   0   0   0]\n",
            " [  0   0   0   0   0   0]\n",
            " [  0   0   0   0   0   0]]\n",
            "Epoch 19, Loss: 1.5252346992492676, Accuracy: 50.78125\n",
            "Epoch 20, Loss: 0.5391690135002136, Accuracy: 87.23957824707031\n",
            "Epoch 21, Loss: 0.31109312176704407, Accuracy: 92.1875\n",
            "Epoch: 21, Distortion: 827.24\n",
            "[[ 60 120  96  36  36  36]\n",
            " [  0   0   0   0   0   0]\n",
            " [  0   0   0   0   0   0]\n",
            " [  0   0   0   0   0   0]\n",
            " [  0   0   0   0   0   0]\n",
            " [  0   0   0   0   0   0]]\n",
            "Epoch 22, Loss: 1.1662421226501465, Accuracy: 59.63541793823242\n",
            "Epoch 23, Loss: 0.45515599846839905, Accuracy: 85.67707824707031\n",
            "Epoch 24, Loss: 0.294869989156723, Accuracy: 93.48957824707031\n",
            "Epoch: 24, Distortion: 823.12\n",
            "[[ 12  48  96  36 120  72]\n",
            " [  0   0   0   0   0   0]\n",
            " [  0   0   0   0   0   0]\n",
            " [  0   0   0   0   0   0]\n",
            " [  0   0   0   0   0   0]\n",
            " [  0   0   0   0   0   0]]\n",
            "Epoch 25, Loss: 1.023459792137146, Accuracy: 66.40625\n",
            "Epoch 26, Loss: 0.43496254086494446, Accuracy: 88.02082824707031\n",
            "Epoch 27, Loss: 0.28536251187324524, Accuracy: 94.01042175292969\n",
            "Epoch: 27, Distortion: 740.72\n",
            "[[120  48  60  36  72  48]\n",
            " [  0   0   0   0   0   0]\n",
            " [  0   0   0   0   0   0]\n",
            " [  0   0   0   0   0   0]\n",
            " [  0   0   0   0   0   0]\n",
            " [  0   0   0   0   0   0]]\n",
            "Epoch 28, Loss: 1.2607862949371338, Accuracy: 60.41666793823242\n",
            "Epoch 29, Loss: 0.46620920300483704, Accuracy: 86.19792175292969\n",
            "Epoch 30, Loss: 0.2782943546772003, Accuracy: 91.66667175292969\n",
            "Epoch: 30, Distortion: 760.72\n",
            "[[120  48  60  36  72  48]\n",
            " [  0   0   0   0   0   0]\n",
            " [  0   0   0   0   0   0]\n",
            " [  0   0   0   0   0   0]\n",
            " [  0   0   0   0   0   0]\n",
            " [  0   0   0   0   0   0]]\n",
            "Epoch 31, Loss: 0.21698279678821564, Accuracy: 94.79167175292969\n",
            "Epoch 32, Loss: 0.16824297606945038, Accuracy: 96.61457824707031\n",
            "Epoch 33, Loss: 0.1426331251859665, Accuracy: 97.39582824707031\n",
            "Epoch: 33, Distortion: 705.11\n",
            "[[ 60 144  36  48  48  48]\n",
            " [  0   0   0   0   0   0]\n",
            " [  0   0   0   0   0   0]\n",
            " [  0   0   0   0   0   0]\n",
            " [  0   0   0   0   0   0]\n",
            " [  0   0   0   0   0   0]]\n",
            "Epoch 34, Loss: 1.3036489486694336, Accuracy: 60.9375\n",
            "Epoch 35, Loss: 0.3147043287754059, Accuracy: 91.92707824707031\n",
            "Epoch 36, Loss: 0.2179497331380844, Accuracy: 94.01042175292969\n",
            "Epoch: 36, Distortion: 763.60\n",
            "[[ 60  48  48  60  36 132]\n",
            " [  0   0   0   0   0   0]\n",
            " [  0   0   0   0   0   0]\n",
            " [  0   0   0   0   0   0]\n",
            " [  0   0   0   0   0   0]\n",
            " [  0   0   0   0   0   0]]\n",
            "Epoch 37, Loss: 1.3702119588851929, Accuracy: 55.20833206176758\n",
            "Epoch 38, Loss: 0.5102150440216064, Accuracy: 87.23957824707031\n",
            "Epoch 39, Loss: 0.3488598167896271, Accuracy: 92.44792175292969\n",
            "Epoch: 39, Distortion: 1008.19\n",
            "[[ 12 120  36  60  96  60]\n",
            " [  0   0   0   0   0   0]\n",
            " [  0   0   0   0   0   0]\n",
            " [  0   0   0   0   0   0]\n",
            " [  0   0   0   0   0   0]\n",
            " [  0   0   0   0   0   0]]\n",
            "Epoch 40, Loss: 1.2326618432998657, Accuracy: 61.97916793823242\n",
            "Epoch 41, Loss: 0.444916695356369, Accuracy: 87.76042175292969\n",
            "Epoch 42, Loss: 0.2706640660762787, Accuracy: 91.66667175292969\n",
            "Epoch: 42, Distortion: 789.99\n",
            "[[ 12 120  36  96  60  60]\n",
            " [  0   0   0   0   0   0]\n",
            " [  0   0   0   0   0   0]\n",
            " [  0   0   0   0   0   0]\n",
            " [  0   0   0   0   0   0]\n",
            " [  0   0   0   0   0   0]]\n",
            "Epoch 43, Loss: 0.5721637606620789, Accuracy: 80.20832824707031\n",
            "Epoch 44, Loss: 0.30255037546157837, Accuracy: 90.88542175292969\n",
            "Epoch 45, Loss: 0.24121348559856415, Accuracy: 92.96875\n",
            "Epoch: 45, Distortion: 830.30\n",
            "[[98 60 60 72 36 58]\n",
            " [ 0  0  0  0  0  0]\n",
            " [ 0  0  0  0  0  0]\n",
            " [ 0  0  0  0  0  0]\n",
            " [ 0  0  0  0  0  0]\n",
            " [ 0  0  0  0  0  0]]\n",
            "Epoch 46, Loss: 1.4439235925674438, Accuracy: 53.64583206176758\n",
            "Epoch 47, Loss: 0.47117653489112854, Accuracy: 88.02082824707031\n",
            "Epoch 48, Loss: 0.38163653016090393, Accuracy: 87.23957824707031\n",
            "Epoch: 48, Distortion: 755.87\n",
            "[[72 60 73 36 60 83]\n",
            " [ 0  0  0  0  0  0]\n",
            " [ 0  0  0  0  0  0]\n",
            " [ 0  0  0  0  0  0]\n",
            " [ 0  0  0  0  0  0]\n",
            " [ 0  0  0  0  0  0]]\n",
            "Epoch 49, Loss: 1.7052093744277954, Accuracy: 37.5\n",
            "Epoch 50, Loss: 0.6443736553192139, Accuracy: 79.16667175292969\n",
            "Epoch 51, Loss: 0.3769274055957794, Accuracy: 89.32292175292969\n",
            "Epoch: 51, Distortion: 794.28\n",
            "[[84 60 60 72 36 72]\n",
            " [ 0  0  0  0  0  0]\n",
            " [ 0  0  0  0  0  0]\n",
            " [ 0  0  0  0  0  0]\n",
            " [ 0  0  0  0  0  0]\n",
            " [ 0  0  0  0  0  0]]\n",
            "Epoch 52, Loss: 1.2101067304611206, Accuracy: 56.77083206176758\n",
            "Epoch 53, Loss: 0.36299681663513184, Accuracy: 92.70832824707031\n",
            "Epoch 54, Loss: 0.26868584752082825, Accuracy: 94.53125\n",
            "Epoch: 54, Distortion: 686.31\n",
            "[[84 60 72 60 72 36]\n",
            " [ 0  0  0  0  0  0]\n",
            " [ 0  0  0  0  0  0]\n",
            " [ 0  0  0  0  0  0]\n",
            " [ 0  0  0  0  0  0]\n",
            " [ 0  0  0  0  0  0]]\n",
            "Epoch 55, Loss: 1.4507302045822144, Accuracy: 54.42708206176758\n",
            "Epoch 56, Loss: 0.5697230696678162, Accuracy: 80.46875\n",
            "Epoch 57, Loss: 0.35439300537109375, Accuracy: 92.44792175292969\n",
            "Epoch: 57, Distortion: 801.59\n",
            "[[ 72  60  60 108  36  48]\n",
            " [  0   0   0   0   0   0]\n",
            " [  0   0   0   0   0   0]\n",
            " [  0   0   0   0   0   0]\n",
            " [  0   0   0   0   0   0]\n",
            " [  0   0   0   0   0   0]]\n",
            "Epoch 58, Loss: 0.9441840052604675, Accuracy: 68.22917175292969\n",
            "Epoch 59, Loss: 0.2804071605205536, Accuracy: 92.44792175292969\n",
            "Epoch 60, Loss: 0.18950693309307098, Accuracy: 95.3125\n"
          ]
        }
      ],
      "source": [
        "\n",
        "loss_fn = tf.keras.losses.SparseCategoricalCrossentropy()\n",
        "optimizer = tf.optimizers.Adam(learning_rate=1.0e-4)\n",
        "\n",
        "train_loss = tf.keras.metrics.Mean(name='train_loss')\n",
        "train_accuracy = tf.keras.metrics.SparseCategoricalAccuracy(name='train_accuracy')\n",
        "\n",
        "\n",
        "for epoch in range(EPOCHS):\n",
        "    if epoch % CLUSTERING_INTERVAL == 0:\n",
        "        features_list= [feature_extractor(batch_x, training=False) \\\n",
        "                         for batch_x in train_3d_ds.batch(BATCH_SIZE).prefetch(1)]\n",
        "\n",
        "\n",
        "        #分類クラスタリング\n",
        "        features = np.vstack([rslt for rslt in features_list])\n",
        "        #PCA\n",
        "        features_pca = pca.fit_transform(features)\n",
        "        #PCA後標準化\n",
        "        features_std = stdsc.fit_transform(features_pca)\n",
        "        km_predictions = kmc.fit_predict(features_std)\n",
        "        cluster_matrix = np.zeros((NUM_CLASSES, NUM_CLUSTERS), dtype=np.int32)\n",
        "\n",
        "        for i, cat_id in enumerate(train_label_ds.batch(BATCH_SIZE)):\n",
        "          for true, kmp in zip(cat_id,km_predictions[i*BATCH_SIZE:(i+1)*BATCH_SIZE]):\n",
        "            cluster_matrix[true, kmp] += 1\n",
        "\n",
        "        print(\"Epoch: {}, Distortion: {:.2f}\".format(epoch, kmc.inertia_))\n",
        "        print(cluster_matrix)\n",
        "\n",
        "        #仮ラベルのデータセット\n",
        "        pseudo_label_ds = tf.data.Dataset.from_tensor_slices(tf.cast(\\\n",
        "                                                  np.array(km_predictions).T, tf.int64))\n",
        "        #仮ラベルの学習データセット\n",
        "        train_dataset = tf.data.Dataset.zip((train_3d_ds, pseudo_label_ds)).shuffle(BUFFER_SIZE).batch(BATCH_SIZE)\n",
        "\n",
        "\n",
        "    for step, (x_batch_train, y_batch_train) in enumerate(train_dataset):\n",
        "\n",
        "        with tf.GradientTape() as tape:\n",
        "\n",
        "            y = classifier(x_batch_train, training=True)\n",
        "            loss = loss_fn(y_batch_train, y)\n",
        "\n",
        "        grads = tape.gradient(loss, classifier.trainable_weights)\n",
        "        optimizer.apply_gradients(zip(grads, classifier.trainable_weights))\n",
        "\n",
        "        train_loss(loss)\n",
        "        train_accuracy(y_batch_train, y)\n",
        "\n",
        "\n",
        "\n",
        "    template = 'Epoch {}, Loss: {}, Accuracy: {}'\n",
        "\n",
        "\n",
        "    print (template.format(epoch+1,\n",
        "                         train_loss.result(),\n",
        "                         train_accuracy.result()*100))\n",
        "    #reset0\n",
        "    train_loss.reset_states()\n",
        "    train_accuracy.reset_states()"
      ],
      "id": "2161662a"
    },
    {
      "cell_type": "code",
      "execution_count": null,
      "metadata": {
        "id": "vpmdnQiJy2zP"
      },
      "outputs": [],
      "source": [],
      "id": "vpmdnQiJy2zP"
    },
    {
      "cell_type": "code",
      "execution_count": null,
      "metadata": {
        "id": "VoHXAVXOiiAM"
      },
      "outputs": [],
      "source": [],
      "id": "VoHXAVXOiiAM"
    },
    {
      "cell_type": "code",
      "execution_count": null,
      "metadata": {
        "id": "n5bZvzSiBM3w"
      },
      "outputs": [],
      "source": [],
      "id": "n5bZvzSiBM3w"
    },
    {
      "cell_type": "markdown",
      "metadata": {
        "id": "xIYz0L1KRW74"
      },
      "source": [
        "## 仮ラベル付きのデータセットとモデルを保存する\n",
        " ・データのパスと仮ラベルの組合せのデータセットを保存"
      ],
      "id": "xIYz0L1KRW74"
    },
    {
      "cell_type": "code",
      "execution_count": null,
      "metadata": {
        "id": "tkwqwUTERWKI",
        "colab": {
          "base_uri": "https://localhost:8080/"
        },
        "outputId": "2c99d779-59b0-4021-b46c-eeec59c97ad5"
      },
      "outputs": [
        {
          "output_type": "stream",
          "name": "stderr",
          "text": [
            "WARNING:tensorflow:From <ipython-input-21-bbae90bb0c4c>:1: save (from tensorflow.python.data.experimental.ops.io) is deprecated and will be removed in a future version.\n",
            "Instructions for updating:\n",
            "Use `tf.data.Dataset.save(...)` instead.\n"
          ]
        }
      ],
      "source": [
        "tf.data.experimental.save(tf.data.Dataset.zip((train_list_ds, pseudo_label_ds)), DATASET_SAVE_PATH)\n",
        "tf.data.experimental.save(tf.data.Dataset.zip((train_list_ds, train_label_ds)), DATASET_SAVE_PATH+\"-inital\")"
      ],
      "id": "tkwqwUTERWKI"
    },
    {
      "cell_type": "code",
      "execution_count": null,
      "metadata": {
        "id": "mmqm6NxbcRMU",
        "colab": {
          "base_uri": "https://localhost:8080/"
        },
        "outputId": "5302d116-bf90-4d5d-85a7-6729bb7bfe4e"
      },
      "outputs": [
        {
          "output_type": "stream",
          "name": "stderr",
          "text": [
            "WARNING:tensorflow:From <ipython-input-22-26d35ae92926>:2: load (from tensorflow.python.data.experimental.ops.io) is deprecated and will be removed in a future version.\n",
            "Instructions for updating:\n",
            "Use `tf.data.Dataset.load(...)` instead.\n"
          ]
        }
      ],
      "source": [
        "#データセットの読み込み用\n",
        "pseudo_dataset = tf.data.experimental.load(DATASET_SAVE_PATH)"
      ],
      "id": "mmqm6NxbcRMU"
    },
    {
      "cell_type": "code",
      "execution_count": null,
      "metadata": {
        "id": "XimIPFfGs5su"
      },
      "outputs": [],
      "source": [
        "feature_extractor.save_weights(FEATURE_EXTRACTOR_MODEL_PATH)\n",
        "classifier.save_weights(CLASSIFIER_MODEL_PATH)"
      ],
      "id": "XimIPFfGs5su"
    },
    {
      "cell_type": "markdown",
      "metadata": {
        "id": "758ba10c"
      },
      "source": [
        "## 学習済みモデルを使用したクラスタリング"
      ],
      "id": "758ba10c"
    },
    {
      "cell_type": "code",
      "execution_count": null,
      "metadata": {
        "id": "R0phCzAhQw0l"
      },
      "outputs": [],
      "source": [],
      "id": "R0phCzAhQw0l"
    },
    {
      "cell_type": "code",
      "execution_count": null,
      "metadata": {
        "id": "805a9916"
      },
      "outputs": [],
      "source": [
        "features_list = [feature_extractor(batch, training=False) for batch in train_3d_ds.batch(BATCH_SIZE)]\n",
        "\n",
        "features = np.vstack([rslt for rslt in features_list])\n",
        "\n",
        "features_pca = pca.fit_transform(features)\n",
        "features_std = stdsc.fit_transform(features_pca)\n",
        "\n",
        "km_predictions = kmc.fit_predict(features_std)\n",
        "\n",
        "\n",
        "np.save('features.npy', features)\n",
        "np.save('features_pca.npy', features_pca)\n",
        "np.save('features_std.npy', features_std)\n",
        "np.save('km_predictions.npy', km_predictions)"
      ],
      "id": "805a9916"
    },
    {
      "cell_type": "code",
      "execution_count": null,
      "metadata": {
        "id": "EeqMv0_DL6MK"
      },
      "outputs": [],
      "source": [
        "##ドライブへ一時退避\n",
        "!mkdir /content/drive/MyDrive/jomon/jomon/{DATASAVE_DIR}\n",
        "!cp -r *.npy {FEATURE_EXTRACTOR_MODEL_PATH} {CLASSIFIER_MODEL_PATH} {DATASET_SAVE_PATH} {DATASET_SAVE_PATH}-inital /content/drive/MyDrive/jomon/jomon/{DATASAVE_DIR}"
      ],
      "id": "EeqMv0_DL6MK"
    },
    {
      "cell_type": "code",
      "execution_count": null,
      "metadata": {
        "id": "vAHFPUhpucH3"
      },
      "outputs": [],
      "source": [
        "!cp -r /content/drive/MyDrive/jomon/jomon/{DATASAVE_DIR} ./"
      ],
      "id": "vAHFPUhpucH3"
    },
    {
      "cell_type": "code",
      "execution_count": null,
      "metadata": {
        "id": "MZSMTUNIuZzT"
      },
      "outputs": [],
      "source": [
        "num = []\n",
        "name = []\n",
        "pseudo_id = []\n",
        "cluster_id = []\n",
        "initial_id = []\n",
        "\n",
        "\n",
        "\n",
        "for i, d in enumerate(pseudo_dataset):\n",
        "  name.append(os.path.splitext(os.path.basename(d[0].numpy().decode()))[0].split('_',2)[0])\n",
        "  pseudo_id.append(d[1].numpy())\n",
        "  num.append(os.path.splitext(os.path.basename(d[0].numpy().decode()))[0].split('_',2)[2])\n",
        "\n",
        "for k in km_predictions:\n",
        "  cluster_id.append(k)\n",
        "\n",
        "for i in train_label_ds:\n",
        "  initial_id.append(i.numpy())\n",
        "\n",
        "\n",
        "pseudo_df = pd.DataFrame(list(zip(name, num, \\\n",
        "                                  initial_id, \\\n",
        "                                  pseudo_id, cluster_id)), columns = \\\n",
        "                  ['列品番号','回転角度',\\\n",
        "                   '初期ラベル-ID',\\\n",
        "                   '疑似ラベル-ID','クラスタ-ID'])\n",
        "pseudo_df.to_csv(DATASET_SAVE_PATH+\".csv\")"
      ],
      "id": "MZSMTUNIuZzT"
    },
    {
      "cell_type": "code",
      "execution_count": null,
      "metadata": {
        "id": "96wPw3OWmgVu",
        "colab": {
          "base_uri": "https://localhost:8080/"
        },
        "outputId": "4a8bbdb0-810b-4d08-b9d1-70a1e4d24f27"
      },
      "outputs": [
        {
          "output_type": "execute_result",
          "data": {
            "text/plain": [
              "284"
            ]
          },
          "metadata": {},
          "execution_count": 28
        }
      ],
      "source": [
        "gc.collect()"
      ],
      "id": "96wPw3OWmgVu"
    },
    {
      "cell_type": "markdown",
      "metadata": {
        "id": "85596152"
      },
      "source": [
        "## クラスタ可視化"
      ],
      "id": "85596152"
    },
    {
      "cell_type": "markdown",
      "metadata": {
        "id": "FXoZggZybvh_"
      },
      "source": [
        "### plot用のラベル"
      ],
      "id": "FXoZggZybvh_"
    },
    {
      "cell_type": "code",
      "execution_count": null,
      "metadata": {
        "id": "ztIlm672bqAO"
      },
      "outputs": [],
      "source": [
        "pseudo_dataset = tf.data.experimental.load(DATASET_SAVE_PATH)"
      ],
      "id": "ztIlm672bqAO"
    },
    {
      "cell_type": "code",
      "execution_count": null,
      "metadata": {
        "id": "w_Bc2zVYbtlH"
      },
      "outputs": [],
      "source": [
        "cc_re = re.compile(r'.+/(.+?)_[0-9]+_[0-9]+_(.+?).npy')\n",
        "name_list = [ cc_re.match(item.numpy().decode())[1]+\"_\"+cc_re.match(item.numpy().decode())[2] for item, label in pseudo_dataset]"
      ],
      "id": "w_Bc2zVYbtlH"
    },
    {
      "cell_type": "markdown",
      "metadata": {
        "id": "2ea82361"
      },
      "source": [
        "### PCA"
      ],
      "id": "2ea82361"
    },
    {
      "cell_type": "code",
      "execution_count": null,
      "metadata": {
        "id": "NJTDxu0nJhxd",
        "colab": {
          "base_uri": "https://localhost:8080/",
          "height": 1000
        },
        "outputId": "cd46ff8e-a47b-4b5a-da92-4748a442b144"
      },
      "outputs": [
        {
          "output_type": "display_data",
          "data": {
            "text/html": [
              "<html>\n",
              "<head><meta charset=\"utf-8\" /></head>\n",
              "<body>\n",
              "    <div>            <script src=\"https://cdnjs.cloudflare.com/ajax/libs/mathjax/2.7.5/MathJax.js?config=TeX-AMS-MML_SVG\"></script><script type=\"text/javascript\">if (window.MathJax && window.MathJax.Hub && window.MathJax.Hub.Config) {window.MathJax.Hub.Config({SVG: {font: \"STIX-Web\"}});}</script>                <script type=\"text/javascript\">window.PlotlyConfig = {MathJaxConfig: 'local'};</script>\n",
              "        <script charset=\"utf-8\" src=\"https://cdn.plot.ly/plotly-2.24.1.min.js\"></script>                <div id=\"ff441815-9b44-4d58-a24a-1c8e392db49d\" class=\"plotly-graph-div\" style=\"height:1000px; width:1000px;\"></div>            <script type=\"text/javascript\">                                    window.PLOTLYENV=window.PLOTLYENV || {};                                    if (document.getElementById(\"ff441815-9b44-4d58-a24a-1c8e392db49d\")) {                    Plotly.newPlot(                        \"ff441815-9b44-4d58-a24a-1c8e392db49d\",                        [{\"hovertemplate\":\"Categories=0\\u003cbr\\u003esymbol=0\\u003cbr\\u003e0=%{x}\\u003cbr\\u003e1=%{y}\\u003cbr\\u003esize=%{marker.size}\\u003cbr\\u003etext=%{text}\\u003cextra\\u003e\\u003c\\u002fextra\\u003e\",\"legendgroup\":\"0, 0\",\"marker\":{\"color\":\"#636efa\",\"size\":[10,10,10,10,10,10,10,10,10,10,10,10,10,10,10,10,10,10,10,10,10,10,10,10,10,10,10,10,10,10,10,10,10,10,10,10,10,10,10,10,10,10,10,10,10,10,10,10,10,10,10,10,10,10,10,10,10,10,10,10,10,10,10,10,10,10,10,10,10,10,10,10],\"sizemode\":\"area\",\"sizeref\":0.1,\"symbol\":\"circle\"},\"mode\":\"markers+text\",\"name\":\"0, 0\",\"orientation\":\"v\",\"showlegend\":true,\"text\":[\"rm0732_bottom\",\"rm0732_bottom\",\"rm0732_bottom\",\"rm0732_bottom\",\"rm0732_bottom\",\"rm0732_bottom\",\"rm0732_bottom\",\"rm0732_bottom\",\"rm0732_bottom\",\"rm0732_bottom\",\"rm0956_bottom\",\"rm0956_bottom\",\"rm0956_bottom\",\"rm0956_bottom\",\"rm0956_bottom\",\"rm0956_bottom\",\"rm0956_bottom\",\"rm0956_bottom\",\"rm0956_bottom\",\"rm0956_bottom\",\"rm0732_bottom\",\"rm0732_bottom\",\"rm0721_bottom\",\"rm0721_bottom\",\"rm0695_bottom\",\"rm0695_bottom\",\"rm0695_bottom\",\"rm0695_bottom\",\"rm0695_bottom\",\"rm0695_bottom\",\"rm0695_bottom\",\"rm0695_bottom\",\"rm0695_bottom\",\"rm0956_bottom\",\"rm0695_bottom\",\"rm0721_bottom\",\"rm0721_bottom\",\"rm0721_bottom\",\"rm0721_bottom\",\"rm0721_bottom\",\"rm0721_bottom\",\"rm0721_bottom\",\"rm0721_bottom\",\"rm0721_bottom\",\"rm0721_bottom\",\"rm0695_bottom\",\"rm0956_bottom\",\"rm1318_bottom\",\"rm1318_bottom\",\"rm1348_bottom\",\"rm1348_bottom\",\"rm1348_bottom\",\"rm1348_bottom\",\"rm1348_bottom\",\"rm1348_bottom\",\"rm1348_bottom\",\"rm1348_bottom\",\"rm1348_bottom\",\"rm1348_bottom\",\"rm1348_bottom\",\"rm1348_bottom\",\"rm1318_bottom\",\"rm1318_bottom\",\"rm1318_bottom\",\"rm1318_bottom\",\"rm1318_bottom\",\"rm0695_bottom\",\"rm1318_bottom\",\"rm1318_bottom\",\"rm1318_bottom\",\"rm1318_bottom\",\"rm1318_bottom\"],\"x\":[-19.760414123535156,-19.657733917236328,-19.71756362915039,-19.374048233032227,-19.70172882080078,-19.597362518310547,-19.271167755126953,-19.785377502441406,-19.502256393432617,-19.294946670532227,-20.5885066986084,-20.340164184570312,-20.47990608215332,-20.3017578125,-20.035526275634766,-20.241071701049805,-20.37039566040039,-20.26156234741211,-19.95819854736328,-20.087005615234375,-19.26124382019043,-19.313589096069336,-22.64345932006836,-22.707714080810547,-24.459943771362305,-24.581544876098633,-24.523420333862305,-24.608430862426758,-24.254661560058594,-24.43726921081543,-24.460237503051758,-24.715045928955078,-24.48638153076172,-20.324750900268555,-24.515445709228516,-22.61897850036621,-22.619985580444336,-22.824872970581055,-22.71865463256836,-22.514545440673828,-22.729610443115234,-22.647628784179688,-22.72001838684082,-22.377119064331055,-22.595417022705078,-24.39861297607422,-20.509801864624023,-20.242462158203125,-20.35198974609375,-22.34144401550293,-22.592912673950195,-22.18572425842285,-22.369266510009766,-22.403244018554688,-22.24534034729004,-22.435779571533203,-21.890472412109375,-22.158353805541992,-22.104808807373047,-22.282011032104492,-22.110164642333984,-19.935890197753906,-20.40829086303711,-19.86948013305664,-20.22418785095215,-20.106300354003906,-24.16839599609375,-19.909543991088867,-20.042217254638672,-19.946331024169922,-20.081239700317383,-20.190876007080078],\"xaxis\":\"x\",\"y\":[-11.271109580993652,-11.610310554504395,-11.12404727935791,-10.871622085571289,-11.274805068969727,-11.245797157287598,-10.89559268951416,-11.072517395019531,-10.91785717010498,-11.013686180114746,-13.697699546813965,-13.80037784576416,-13.624482154846191,-13.841399192810059,-13.861237525939941,-13.540497779846191,-13.586579322814941,-13.84365177154541,-13.650421142578125,-14.002887725830078,-11.008660316467285,-11.402396202087402,-8.855724334716797,-8.666350364685059,-7.68147087097168,-7.915314674377441,-7.632219314575195,-7.845688819885254,-7.4926533699035645,-7.877346992492676,-7.816590309143066,-7.8779778480529785,-7.650108814239502,-13.82191276550293,-7.756785869598389,-8.478232383728027,-8.75052261352539,-8.853435516357422,-8.551290512084961,-8.494852066040039,-8.510110855102539,-8.29201889038086,-8.330904960632324,-8.86658000946045,-8.944950103759766,-7.995878219604492,-13.825504302978516,-15.308810234069824,-15.516112327575684,-11.487010955810547,-11.362570762634277,-11.71700668334961,-11.466583251953125,-11.478730201721191,-11.728851318359375,-11.260018348693848,-11.27623176574707,-11.570684432983398,-11.680021286010742,-11.593120574951172,-11.50323486328125,-15.838001251220703,-15.583943367004395,-15.638680458068848,-15.770666122436523,-15.189081192016602,-7.5033040046691895,-15.299062728881836,-15.680583953857422,-15.230597496032715,-15.737957000732422,-15.485971450805664],\"yaxis\":\"y\",\"type\":\"scatter\"},{\"hovertemplate\":\"Categories=1\\u003cbr\\u003esymbol=1\\u003cbr\\u003e0=%{x}\\u003cbr\\u003e1=%{y}\\u003cbr\\u003esize=%{marker.size}\\u003cbr\\u003etext=%{text}\\u003cextra\\u003e\\u003c\\u002fextra\\u003e\",\"legendgroup\":\"1, 1\",\"marker\":{\"color\":\"#EF553B\",\"size\":[10,10,10,10,10,10,10,10,10,10,10,10,10,10,10,10,10,10,10,10,10,10,10,10,10,10,10,10,10,10,10,10,10,10,10,10,10,10,10,10,10,10,10,10,10,10,10,10,10,10,10,10,10,10,10,10,10,10,10,10],\"sizemode\":\"area\",\"sizeref\":0.1,\"symbol\":\"diamond\"},\"mode\":\"markers+text\",\"name\":\"1, 1\",\"orientation\":\"v\",\"showlegend\":true,\"text\":[\"rm1410_bottom\",\"rm1410_bottom\",\"rm1410_bottom\",\"rm1410_bottom\",\"rm1410_bottom\",\"rm1410_bottom\",\"rm1410_bottom\",\"rm1410_bottom\",\"rm1410_bottom\",\"rm1410_bottom\",\"rm1406_bottom\",\"rm1406_bottom\",\"rm1406_bottom\",\"rm1406_bottom\",\"rm1410_bottom\",\"rm1406_bottom\",\"rm1406_bottom\",\"rm1406_bottom\",\"rm1406_bottom\",\"rm1406_bottom\",\"rm1406_bottom\",\"rm1406_bottom\",\"rm1406_bottom\",\"rm0455_bottom\",\"rm1410_bottom\",\"rm0476_bottom\",\"rm0476_bottom\",\"rm0476_bottom\",\"rm0476_bottom\",\"rm0476_bottom\",\"rm0476_bottom\",\"rm0476_bottom\",\"rm0476_bottom\",\"rm0476_bottom\",\"rm0683_bottom\",\"rm0683_bottom\",\"rm0683_bottom\",\"rm0683_bottom\",\"rm0683_bottom\",\"rm0683_bottom\",\"rm0683_bottom\",\"rm0683_bottom\",\"rm0683_bottom\",\"rm0683_bottom\",\"rm0683_bottom\",\"rm0683_bottom\",\"rm0476_bottom\",\"rm0476_bottom\",\"rm0476_bottom\",\"rm0455_bottom\",\"rm0455_bottom\",\"rm0455_bottom\",\"rm0455_bottom\",\"rm0455_bottom\",\"rm0455_bottom\",\"rm0455_bottom\",\"rm0455_bottom\",\"rm0455_bottom\",\"rm0455_bottom\",\"rm0455_bottom\"],\"x\":[14.253484725952148,14.564887046813965,14.590819358825684,14.674012184143066,14.604859352111816,14.296579360961914,14.492597579956055,14.760838508605957,14.701469421386719,14.480027198791504,12.460939407348633,12.093767166137695,12.22879409790039,12.543768882751465,14.352287292480469,12.018213272094727,11.876483917236328,12.237042427062988,12.409282684326172,11.98373031616211,12.253183364868164,12.016831398010254,12.368453979492188,13.417779922485352,14.75233268737793,16.679777145385742,16.665803909301758,16.651025772094727,16.805753707885742,16.758068084716797,16.805465698242188,16.73539161682129,16.713491439819336,16.91339111328125,13.017659187316895,13.181235313415527,13.058396339416504,12.797101020812988,12.481703758239746,12.749711990356445,12.94897174835205,12.765708923339844,13.008502960205078,12.773119926452637,12.982518196105957,12.983978271484375,16.664819717407227,16.808727264404297,16.421594619750977,13.511309623718262,13.360457420349121,13.412223815917969,13.411280632019043,13.555893898010254,13.520646095275879,13.601472854614258,13.431923866271973,13.457399368286133,13.498334884643555,13.418126106262207],\"xaxis\":\"x\",\"y\":[-21.567604064941406,-21.35728645324707,-21.435312271118164,-21.736970901489258,-21.652875900268555,-21.751235961914062,-21.163503646850586,-21.004480361938477,-21.270946502685547,-21.48320198059082,-21.635421752929688,-21.423425674438477,-21.45902442932129,-21.685285568237305,-21.401264190673828,-22.19101905822754,-21.932373046875,-22.099931716918945,-21.922208786010742,-21.9306640625,-21.475553512573242,-22.100610733032227,-21.551700592041016,-25.32767677307129,-21.379976272583008,-23.03587532043457,-22.814849853515625,-22.93878936767578,-23.105026245117188,-22.958148956298828,-23.015106201171875,-22.751493453979492,-22.802173614501953,-22.985681533813477,-19.839397430419922,-20.453401565551758,-19.95136833190918,-20.071460723876953,-20.156906127929688,-20.151018142700195,-19.798696517944336,-20.08207893371582,-20.40440559387207,-19.944751739501953,-20.348052978515625,-20.080860137939453,-22.677074432373047,-22.757240295410156,-22.928592681884766,-25.20919418334961,-25.458219528198242,-25.44033432006836,-25.390483856201172,-25.002159118652344,-25.06138801574707,-25.076473236083984,-25.44601821899414,-25.306896209716797,-25.35479736328125,-25.353782653808594],\"yaxis\":\"y\",\"type\":\"scatter\"},{\"hovertemplate\":\"Categories=2\\u003cbr\\u003esymbol=2\\u003cbr\\u003e0=%{x}\\u003cbr\\u003e1=%{y}\\u003cbr\\u003esize=%{marker.size}\\u003cbr\\u003etext=%{text}\\u003cextra\\u003e\\u003c\\u002fextra\\u003e\",\"legendgroup\":\"2, 2\",\"marker\":{\"color\":\"#00cc96\",\"size\":[10,10,10,10,10,10,10,10,10,10,10,10,10,10,10,10,10,10,10,10,10,10,10,10,10,10,10,10,10,10,10,10,10,10,10,10,10,10,10,10,10,10,10,10,10,10,10,10],\"sizemode\":\"area\",\"sizeref\":0.1,\"symbol\":\"square\"},\"mode\":\"markers+text\",\"name\":\"2, 2\",\"orientation\":\"v\",\"showlegend\":true,\"text\":[\"rm1011_bottom\",\"rm1011_bottom\",\"rm1011_bottom\",\"rm1011_bottom\",\"rm1011_bottom\",\"rm1011_bottom\",\"rm1011_bottom\",\"rm0701_bottom\",\"rm0701_bottom\",\"rm0701_bottom\",\"rm0701_bottom\",\"rm1011_bottom\",\"rm1011_bottom\",\"rm0750_bottom\",\"rm1011_bottom\",\"rm0750_bottom\",\"rm0750_bottom\",\"rm0750_bottom\",\"rm0750_bottom\",\"rm0750_bottom\",\"rm0701_bottom\",\"rm0750_bottom\",\"rm0750_bottom\",\"rm0750_bottom\",\"rm0750_bottom\",\"rm0750_bottom\",\"rm0750_bottom\",\"rm1011_bottom\",\"rm0701_bottom\",\"rm1011_bottom\",\"rm0701_bottom\",\"rm0692_bottom\",\"rm0692_bottom\",\"rm0701_bottom\",\"rm0692_bottom\",\"rm0692_bottom\",\"rm0692_bottom\",\"rm0692_bottom\",\"rm0692_bottom\",\"rm0692_bottom\",\"rm0692_bottom\",\"rm0692_bottom\",\"rm0701_bottom\",\"rm0701_bottom\",\"rm0701_bottom\",\"rm0701_bottom\",\"rm0692_bottom\",\"rm0692_bottom\"],\"x\":[-0.4469955861568451,-0.016177648678421974,-0.3126375675201416,-0.2733088433742523,-0.07419048249721527,-0.2960878014564514,-0.058074746280908585,-1.780480146408081,-1.5720237493515015,-1.9598745107650757,-1.7743312120437622,-0.49834373593330383,-0.27251145243644714,-0.6030226945877075,-0.01166079193353653,-0.34459519386291504,-0.4399910867214203,-0.6126771569252014,-0.42378130555152893,-0.6635115146636963,-1.5621740818023682,-0.42611929774284363,-0.31243619322776794,-0.6539723873138428,-0.4536990225315094,-0.4635777473449707,-0.5328234434127808,-0.17496146261692047,-1.6698404550552368,-0.3954249322414398,-1.6029373407363892,-0.7041193246841431,-0.6091403961181641,-1.643128752708435,-0.7834272980690002,-0.6348269581794739,-0.6863425970077515,-0.6095983982086182,-0.47035741806030273,-0.5926626324653625,-0.5071144700050354,-0.618773877620697,-1.7330244779586792,-1.724856972694397,-2.1054728031158447,-1.6515437364578247,-0.5458208918571472,-0.8760676383972168],\"xaxis\":\"x\",\"y\":[-9.146683692932129,-9.256614685058594,-9.72903823852539,-9.739500045776367,-9.323511123657227,-9.517784118652344,-9.792620658874512,-9.407124519348145,-9.27734661102295,-9.535728454589844,-9.712753295898438,-9.54240894317627,-9.793004035949707,-4.709797382354736,-9.26990795135498,-4.810226917266846,-4.542184829711914,-5.06758975982666,-4.932886123657227,-4.725368499755859,-9.60523796081543,-4.674647808074951,-4.524606704711914,-4.74589729309082,-4.543886184692383,-4.673797607421875,-4.6827569007873535,-9.122764587402344,-10.10385513305664,-9.815701484680176,-9.365582466125488,-7.0904130935668945,-7.300194263458252,-9.330666542053223,-7.048687934875488,-6.993095397949219,-7.321894645690918,-7.222210884094238,-6.969511032104492,-7.308826923370361,-7.157636642456055,-7.251017093658447,-9.705862045288086,-9.408677101135254,-9.72189998626709,-9.936126708984375,-6.840987682342529,-7.717977523803711],\"yaxis\":\"y\",\"type\":\"scatter\"},{\"hovertemplate\":\"Categories=3\\u003cbr\\u003esymbol=3\\u003cbr\\u003e0=%{x}\\u003cbr\\u003e1=%{y}\\u003cbr\\u003esize=%{marker.size}\\u003cbr\\u003etext=%{text}\\u003cextra\\u003e\\u003c\\u002fextra\\u003e\",\"legendgroup\":\"3, 3\",\"marker\":{\"color\":\"#ab63fa\",\"size\":[10,10,10,10,10,10,10,10,10,10,10,10,10,10,10,10,10,10,10,10,10,10,10,10,10,10,10,10,10,10,10,10,10,10,10,10,10,10,10,10,10,10,10,10,10,10,10,10,10,10,10,10,10,10,10,10,10,10,10,10],\"sizemode\":\"area\",\"sizeref\":0.1,\"symbol\":\"x\"},\"mode\":\"markers+text\",\"name\":\"3, 3\",\"orientation\":\"v\",\"showlegend\":true,\"text\":[\"rm0871_bottom\",\"rm0871_bottom\",\"rm0871_bottom\",\"rm0871_bottom\",\"rm0871_bottom\",\"rm0871_bottom\",\"rm0871_bottom\",\"rm0871_bottom\",\"rm0871_bottom\",\"rm0871_bottom\",\"rm0945_bottom\",\"rm0945_bottom\",\"rm0871_bottom\",\"rm1276_bottom\",\"rm1276_bottom\",\"rm1276_bottom\",\"rm1276_bottom\",\"rm1276_bottom\",\"rm1276_bottom\",\"rm1276_bottom\",\"rm1276_bottom\",\"rm1276_bottom\",\"rm1276_bottom\",\"rm1276_bottom\",\"rm1276_bottom\",\"rm0945_bottom\",\"rm0945_bottom\",\"rm0945_bottom\",\"rm0945_bottom\",\"rm0945_bottom\",\"rm0945_bottom\",\"rm0945_bottom\",\"rm0945_bottom\",\"rm0945_bottom\",\"rm0871_bottom\",\"rm0684_bottom\",\"rm0945_bottom\",\"rm0580_bottom\",\"rm0580_bottom\",\"rm0580_bottom\",\"rm0580_bottom\",\"rm0580_bottom\",\"rm0580_bottom\",\"rm0580_bottom\",\"rm0580_bottom\",\"rm0580_bottom\",\"rm0580_bottom\",\"rm0580_bottom\",\"rm0580_bottom\",\"rm0684_bottom\",\"rm0684_bottom\",\"rm0684_bottom\",\"rm0684_bottom\",\"rm0684_bottom\",\"rm0684_bottom\",\"rm0684_bottom\",\"rm0684_bottom\",\"rm0684_bottom\",\"rm0684_bottom\",\"rm0684_bottom\"],\"x\":[26.63034439086914,26.59552574157715,26.603652954101562,26.474365234375,26.576629638671875,27.628623962402344,27.34751319885254,26.81298828125,26.695314407348633,26.437503814697266,28.72211456298828,28.842601776123047,26.966032028198242,29.907926559448242,29.992706298828125,29.7390193939209,29.60352897644043,29.932172775268555,29.787500381469727,29.716768264770508,29.86491584777832,29.6851806640625,29.882373809814453,30.011987686157227,29.873136520385742,28.758676528930664,28.789073944091797,28.549823760986328,28.833839416503906,28.786039352416992,29.204008102416992,29.0175724029541,28.69232940673828,29.03229522705078,26.7244815826416,27.677274703979492,29.00511932373047,24.106216430664062,24.1834716796875,24.517749786376953,24.487825393676758,24.05864906311035,24.398454666137695,24.559497833251953,24.05370330810547,24.34041404724121,24.448272705078125,24.130725860595703,23.99391746520996,27.496002197265625,27.353437423706055,27.407169342041016,27.820186614990234,27.777713775634766,27.16499900817871,27.647476196289062,27.29608726501465,27.250125885009766,27.543813705444336,27.356307983398438],\"xaxis\":\"x\",\"y\":[1.571357250213623,1.3707671165466309,1.2096335887908936,1.1535817384719849,1.2468537092208862,1.4594788551330566,1.2766380310058594,1.6012905836105347,1.2069475650787354,1.0865252017974854,1.1346327066421509,1.5615283250808716,1.0788156986236572,5.017523288726807,4.870536804199219,4.856961250305176,4.955599784851074,4.905874729156494,4.695353984832764,5.020283222198486,5.028354644775391,4.7935075759887695,5.075512886047363,4.702201843261719,4.571242332458496,1.792411208152771,1.7414147853851318,1.5804177522659302,1.9020966291427612,1.6789181232452393,1.9317810535430908,1.6658375263214111,1.2036278247833252,1.8999412059783936,1.0573441982269287,3.5720884799957275,1.9835188388824463,1.3768556118011475,1.176846981048584,1.4949861764907837,1.3424538373947144,1.3261587619781494,1.3976114988327026,1.4083141088485718,1.352260947227478,1.1867996454238892,1.5290157794952393,1.4166289567947388,1.3547815084457397,3.18831205368042,3.1357407569885254,3.1613929271698,3.651542901992798,3.584566354751587,3.3347175121307373,3.604618787765503,3.203143358230591,3.2839112281799316,3.704085350036621,3.505530595779419],\"yaxis\":\"y\",\"type\":\"scatter\"},{\"hovertemplate\":\"Categories=4\\u003cbr\\u003esymbol=4\\u003cbr\\u003e0=%{x}\\u003cbr\\u003e1=%{y}\\u003cbr\\u003esize=%{marker.size}\\u003cbr\\u003etext=%{text}\\u003cextra\\u003e\\u003c\\u002fextra\\u003e\",\"legendgroup\":\"4, 4\",\"marker\":{\"color\":\"#FFA15A\",\"size\":[10,10,10,10,10,10,10,10,10,10,10,10,10,10,10,10,10,10,10,10,10,10,10,10,10,10,10,10,10,10,10,10,10,10,10,10,10,10,10,10,10,10,10,10,10,10,10,10,10,10,10,10,10,10,10,10,10,10,10,10,10,10,10,10,10,10,10,10,10,10,10,10],\"sizemode\":\"area\",\"sizeref\":0.1,\"symbol\":\"cross\"},\"mode\":\"markers+text\",\"name\":\"4, 4\",\"orientation\":\"v\",\"showlegend\":true,\"text\":[\"rm0693_bottom\",\"rm1316_bottom\",\"rm0693_bottom\",\"rm0863_bottom\",\"rm1316_bottom\",\"rm1316_bottom\",\"rm1316_bottom\",\"rm1316_bottom\",\"rm1316_bottom\",\"rm1316_bottom\",\"rm1316_bottom\",\"rm1316_bottom\",\"rm1316_bottom\",\"rm0698_bottom\",\"rm0698_bottom\",\"rm0698_bottom\",\"rm0693_bottom\",\"rm1316_bottom\",\"rm0693_bottom\",\"rm0457_bottom\",\"rm0693_bottom\",\"rm0457_bottom\",\"rm0457_bottom\",\"rm0457_bottom\",\"rm0457_bottom\",\"rm0457_bottom\",\"rm0457_bottom\",\"rm0457_bottom\",\"rm0457_bottom\",\"rm0693_bottom\",\"rm0698_bottom\",\"rm0457_bottom\",\"rm0457_bottom\",\"rm0693_bottom\",\"rm0693_bottom\",\"rm0693_bottom\",\"rm0693_bottom\",\"rm0693_bottom\",\"rm0693_bottom\",\"rm0457_bottom\",\"rm0698_bottom\",\"rm0863_bottom\",\"rm0698_bottom\",\"rm0564_bottom\",\"rm0564_bottom\",\"rm0564_bottom\",\"rm0564_bottom\",\"rm0564_bottom\",\"rm0564_bottom\",\"rm0564_bottom\",\"rm0564_bottom\",\"rm0564_bottom\",\"rm0564_bottom\",\"rm0698_bottom\",\"rm0564_bottom\",\"rm0863_bottom\",\"rm0863_bottom\",\"rm0863_bottom\",\"rm0863_bottom\",\"rm0863_bottom\",\"rm0863_bottom\",\"rm0863_bottom\",\"rm0863_bottom\",\"rm0863_bottom\",\"rm0863_bottom\",\"rm0564_bottom\",\"rm0698_bottom\",\"rm1316_bottom\",\"rm0698_bottom\",\"rm0698_bottom\",\"rm0698_bottom\",\"rm0698_bottom\"],\"x\":[-18.553503036499023,-15.404556274414062,-18.664791107177734,-20.758268356323242,-15.415937423706055,-15.558483123779297,-15.298712730407715,-15.676666259765625,-15.247444152832031,-15.723090171813965,-15.767681121826172,-15.550034523010254,-15.214021682739258,-15.246892929077148,-15.176351547241211,-15.69054889678955,-19.139057159423828,-15.72605037689209,-18.976078033447266,-15.736858367919922,-18.665048599243164,-15.458601951599121,-15.656919479370117,-15.674616813659668,-15.829216003417969,-15.416903495788574,-15.414115905761719,-15.193090438842773,-15.576906204223633,-18.524492263793945,-15.35032844543457,-15.787075996398926,-15.757129669189453,-19.204959869384766,-18.51146697998047,-18.8424072265625,-18.869924545288086,-18.966527938842773,-18.68171501159668,-15.455185890197754,-15.603957176208496,-20.655181884765625,-15.438532829284668,-20.099124908447266,-19.75385093688965,-20.010520935058594,-19.684019088745117,-19.064640045166016,-19.720365524291992,-19.561569213867188,-19.506887435913086,-19.959056854248047,-19.759443283081055,-15.743905067443848,-19.34270668029785,-21.078691482543945,-20.8245792388916,-20.882431030273438,-21.22020721435547,-21.1700382232666,-21.075654983520508,-21.1390380859375,-21.065814971923828,-20.82802391052246,-20.913372039794922,-19.977279663085938,-15.618463516235352,-15.236960411071777,-15.649470329284668,-15.260566711425781,-15.310815811157227,-15.176085472106934],\"xaxis\":\"x\",\"y\":[10.004868507385254,19.72588539123535,10.023789405822754,7.531047344207764,19.431520462036133,19.539594650268555,20.08849334716797,19.4769229888916,19.40036964416504,19.431711196899414,19.837064743041992,20.044992446899414,19.155929565429688,21.54409408569336,21.183177947998047,21.427017211914062,9.876625061035156,19.79624366760254,10.058624267578125,18.296649932861328,9.628352165222168,18.199609756469727,17.825471878051758,17.966646194458008,18.646284103393555,18.077320098876953,17.903850555419922,18.460105895996094,17.90327262878418,9.590622901916504,21.585107803344727,18.335771560668945,18.2609806060791,9.754223823547363,10.184968948364258,9.950910568237305,9.949440002441406,9.60686206817627,10.049195289611816,18.372804641723633,21.05845832824707,7.479808807373047,21.655275344848633,8.48241138458252,9.089485168457031,8.561431884765625,9.107158660888672,9.118385314941406,8.575835227966309,8.630484580993652,8.795828819274902,8.872020721435547,8.925086975097656,21.15626335144043,8.871127128601074,7.194982528686523,7.306379795074463,7.682726860046387,7.7614426612854,7.200302600860596,7.549328327178955,7.605773448944092,7.144401550292969,7.389690399169922,7.734185695648193,8.781950950622559,21.306699752807617,19.686140060424805,21.495410919189453,21.437929153442383,21.456647872924805,21.26040267944336],\"yaxis\":\"y\",\"type\":\"scatter\"},{\"hovertemplate\":\"Categories=5\\u003cbr\\u003esymbol=5\\u003cbr\\u003e0=%{x}\\u003cbr\\u003e1=%{y}\\u003cbr\\u003esize=%{marker.size}\\u003cbr\\u003etext=%{text}\\u003cextra\\u003e\\u003c\\u002fextra\\u003e\",\"legendgroup\":\"5, 5\",\"marker\":{\"color\":\"#19d3f3\",\"size\":[10,10,10,10,10,10,10,10,10,10,10,10,10,10,10,10,10,10,10,10,10,10,10,10,10,10,10,10,10,10,10,10,10,10,10,10,10,10,10,10,10,10,10,10,10,10,10,10,10,10,10,10,10,10,10,10,10,10,10,10,10,10,10,10,10,10,10,10,10,10,10,10],\"sizemode\":\"area\",\"sizeref\":0.1,\"symbol\":\"circle\"},\"mode\":\"markers+text\",\"name\":\"5, 5\",\"orientation\":\"v\",\"showlegend\":true,\"text\":[\"rm0493_bottom\",\"rm1408_bottom\",\"rm1407_bottom\",\"rm1407_bottom\",\"rm1407_bottom\",\"rm1407_bottom\",\"rm1407_bottom\",\"rm1407_bottom\",\"rm1407_bottom\",\"rm1408_bottom\",\"rm1407_bottom\",\"rm1407_bottom\",\"rm1407_bottom\",\"rm1407_bottom\",\"rm1407_bottom\",\"rm1408_bottom\",\"rm1408_bottom\",\"rm1145_bottom\",\"rm1408_bottom\",\"rm1408_bottom\",\"rm1408_bottom\",\"rm1408_bottom\",\"rm1408_bottom\",\"rm1408_bottom\",\"rm1408_bottom\",\"rm1145_bottom\",\"rm1145_bottom\",\"rm1145_bottom\",\"rm1145_bottom\",\"rm1145_bottom\",\"rm0681_bottom\",\"rm1408_bottom\",\"rm1145_bottom\",\"rm1145_bottom\",\"rm1145_bottom\",\"rm1321_bottom\",\"rm1321_bottom\",\"rm1321_bottom\",\"rm1321_bottom\",\"rm1321_bottom\",\"rm1321_bottom\",\"rm1321_bottom\",\"rm1321_bottom\",\"rm1321_bottom\",\"rm1321_bottom\",\"rm1321_bottom\",\"rm1321_bottom\",\"rm0493_bottom\",\"rm0493_bottom\",\"rm0493_bottom\",\"rm0681_bottom\",\"rm0681_bottom\",\"rm0681_bottom\",\"rm0681_bottom\",\"rm1145_bottom\",\"rm1145_bottom\",\"rm1145_bottom\",\"rm0493_bottom\",\"rm0493_bottom\",\"rm0493_bottom\",\"rm0493_bottom\",\"rm0493_bottom\",\"rm0493_bottom\",\"rm0681_bottom\",\"rm0681_bottom\",\"rm0493_bottom\",\"rm0681_bottom\",\"rm0681_bottom\",\"rm0681_bottom\",\"rm0681_bottom\",\"rm0493_bottom\",\"rm0681_bottom\"],\"x\":[0.7663396596908569,2.541264057159424,5.546786785125732,5.310239315032959,5.292717933654785,5.4005537033081055,5.461058616638184,5.504152774810791,5.372747898101807,3.158811569213867,5.514793872833252,5.52846622467041,5.471898078918457,5.529297351837158,5.2511982917785645,2.8206660747528076,3.7793684005737305,7.646843433380127,3.2565221786499023,2.9033308029174805,3.471297264099121,2.937685489654541,3.632941722869873,3.1946053504943848,3.4264535903930664,7.54219388961792,7.633249282836914,7.817203521728516,7.54820442199707,7.521238803863525,3.8739891052246094,3.1046650409698486,7.75880765914917,7.804804801940918,7.503428936004639,1.6929802894592285,1.5221858024597168,2.388917922973633,1.3932307958602905,2.2616212368011475,2.130843162536621,1.555185317993164,2.1466598510742188,1.3728570938110352,2.0868475437164307,2.2445461750030518,2.0064010620117188,0.6988978981971741,1.0005040168762207,1.5209304094314575,4.2956862449646,3.694664716720581,3.74896502494812,4.107913017272949,7.736876010894775,7.522099018096924,7.477783679962158,1.46534264087677,0.6934852004051208,0.7192219495773315,1.5321619510650635,0.9482386708259583,0.3529103100299835,3.8117430210113525,3.8720226287841797,0.8235374093055725,4.039173126220703,4.1470255851745605,4.0049662590026855,3.644960403442383,0.944969654083252,4.009783744812012],\"xaxis\":\"x\",\"y\":[20.910423278808594,22.000059127807617,25.290870666503906,25.315406799316406,25.55860137939453,25.5319881439209,25.423681259155273,25.452192306518555,25.43461799621582,21.261594772338867,25.448190689086914,25.422861099243164,24.929834365844727,25.24155044555664,25.57750129699707,21.926420211791992,21.204402923583984,24.339277267456055,21.538393020629883,21.301515579223633,20.943336486816406,21.6785831451416,20.944704055786133,21.12116813659668,21.41374397277832,24.295652389526367,24.248430252075195,24.008098602294922,24.415315628051758,24.390283584594727,17.744335174560547,21.15491485595703,24.117143630981445,24.302621841430664,24.514928817749023,21.570032119750977,21.607486724853516,20.72108268737793,21.23703956604004,20.73631477355957,21.061418533325195,21.59630012512207,21.33791160583496,21.619768142700195,21.057607650756836,21.315942764282227,21.438352584838867,20.469581604003906,20.56049156188965,20.107778549194336,17.749603271484375,17.77547264099121,17.78293228149414,17.767982482910156,24.14276123046875,24.38027572631836,24.308391571044922,20.402482986450195,20.9354190826416,20.614980697631836,20.12494659423828,20.99675178527832,21.237319946289062,17.773773193359375,17.6343936920166,20.666698455810547,17.975080490112305,17.632110595703125,17.86815643310547,17.738521575927734,20.895793914794922,17.798187255859375],\"yaxis\":\"y\",\"type\":\"scatter\"}],                        {\"template\":{\"data\":{\"histogram2dcontour\":[{\"type\":\"histogram2dcontour\",\"colorbar\":{\"outlinewidth\":0,\"ticks\":\"\"},\"colorscale\":[[0.0,\"#0d0887\"],[0.1111111111111111,\"#46039f\"],[0.2222222222222222,\"#7201a8\"],[0.3333333333333333,\"#9c179e\"],[0.4444444444444444,\"#bd3786\"],[0.5555555555555556,\"#d8576b\"],[0.6666666666666666,\"#ed7953\"],[0.7777777777777778,\"#fb9f3a\"],[0.8888888888888888,\"#fdca26\"],[1.0,\"#f0f921\"]]}],\"choropleth\":[{\"type\":\"choropleth\",\"colorbar\":{\"outlinewidth\":0,\"ticks\":\"\"}}],\"histogram2d\":[{\"type\":\"histogram2d\",\"colorbar\":{\"outlinewidth\":0,\"ticks\":\"\"},\"colorscale\":[[0.0,\"#0d0887\"],[0.1111111111111111,\"#46039f\"],[0.2222222222222222,\"#7201a8\"],[0.3333333333333333,\"#9c179e\"],[0.4444444444444444,\"#bd3786\"],[0.5555555555555556,\"#d8576b\"],[0.6666666666666666,\"#ed7953\"],[0.7777777777777778,\"#fb9f3a\"],[0.8888888888888888,\"#fdca26\"],[1.0,\"#f0f921\"]]}],\"heatmap\":[{\"type\":\"heatmap\",\"colorbar\":{\"outlinewidth\":0,\"ticks\":\"\"},\"colorscale\":[[0.0,\"#0d0887\"],[0.1111111111111111,\"#46039f\"],[0.2222222222222222,\"#7201a8\"],[0.3333333333333333,\"#9c179e\"],[0.4444444444444444,\"#bd3786\"],[0.5555555555555556,\"#d8576b\"],[0.6666666666666666,\"#ed7953\"],[0.7777777777777778,\"#fb9f3a\"],[0.8888888888888888,\"#fdca26\"],[1.0,\"#f0f921\"]]}],\"heatmapgl\":[{\"type\":\"heatmapgl\",\"colorbar\":{\"outlinewidth\":0,\"ticks\":\"\"},\"colorscale\":[[0.0,\"#0d0887\"],[0.1111111111111111,\"#46039f\"],[0.2222222222222222,\"#7201a8\"],[0.3333333333333333,\"#9c179e\"],[0.4444444444444444,\"#bd3786\"],[0.5555555555555556,\"#d8576b\"],[0.6666666666666666,\"#ed7953\"],[0.7777777777777778,\"#fb9f3a\"],[0.8888888888888888,\"#fdca26\"],[1.0,\"#f0f921\"]]}],\"contourcarpet\":[{\"type\":\"contourcarpet\",\"colorbar\":{\"outlinewidth\":0,\"ticks\":\"\"}}],\"contour\":[{\"type\":\"contour\",\"colorbar\":{\"outlinewidth\":0,\"ticks\":\"\"},\"colorscale\":[[0.0,\"#0d0887\"],[0.1111111111111111,\"#46039f\"],[0.2222222222222222,\"#7201a8\"],[0.3333333333333333,\"#9c179e\"],[0.4444444444444444,\"#bd3786\"],[0.5555555555555556,\"#d8576b\"],[0.6666666666666666,\"#ed7953\"],[0.7777777777777778,\"#fb9f3a\"],[0.8888888888888888,\"#fdca26\"],[1.0,\"#f0f921\"]]}],\"surface\":[{\"type\":\"surface\",\"colorbar\":{\"outlinewidth\":0,\"ticks\":\"\"},\"colorscale\":[[0.0,\"#0d0887\"],[0.1111111111111111,\"#46039f\"],[0.2222222222222222,\"#7201a8\"],[0.3333333333333333,\"#9c179e\"],[0.4444444444444444,\"#bd3786\"],[0.5555555555555556,\"#d8576b\"],[0.6666666666666666,\"#ed7953\"],[0.7777777777777778,\"#fb9f3a\"],[0.8888888888888888,\"#fdca26\"],[1.0,\"#f0f921\"]]}],\"mesh3d\":[{\"type\":\"mesh3d\",\"colorbar\":{\"outlinewidth\":0,\"ticks\":\"\"}}],\"scatter\":[{\"fillpattern\":{\"fillmode\":\"overlay\",\"size\":10,\"solidity\":0.2},\"type\":\"scatter\"}],\"parcoords\":[{\"type\":\"parcoords\",\"line\":{\"colorbar\":{\"outlinewidth\":0,\"ticks\":\"\"}}}],\"scatterpolargl\":[{\"type\":\"scatterpolargl\",\"marker\":{\"colorbar\":{\"outlinewidth\":0,\"ticks\":\"\"}}}],\"bar\":[{\"error_x\":{\"color\":\"#2a3f5f\"},\"error_y\":{\"color\":\"#2a3f5f\"},\"marker\":{\"line\":{\"color\":\"#E5ECF6\",\"width\":0.5},\"pattern\":{\"fillmode\":\"overlay\",\"size\":10,\"solidity\":0.2}},\"type\":\"bar\"}],\"scattergeo\":[{\"type\":\"scattergeo\",\"marker\":{\"colorbar\":{\"outlinewidth\":0,\"ticks\":\"\"}}}],\"scatterpolar\":[{\"type\":\"scatterpolar\",\"marker\":{\"colorbar\":{\"outlinewidth\":0,\"ticks\":\"\"}}}],\"histogram\":[{\"marker\":{\"pattern\":{\"fillmode\":\"overlay\",\"size\":10,\"solidity\":0.2}},\"type\":\"histogram\"}],\"scattergl\":[{\"type\":\"scattergl\",\"marker\":{\"colorbar\":{\"outlinewidth\":0,\"ticks\":\"\"}}}],\"scatter3d\":[{\"type\":\"scatter3d\",\"line\":{\"colorbar\":{\"outlinewidth\":0,\"ticks\":\"\"}},\"marker\":{\"colorbar\":{\"outlinewidth\":0,\"ticks\":\"\"}}}],\"scattermapbox\":[{\"type\":\"scattermapbox\",\"marker\":{\"colorbar\":{\"outlinewidth\":0,\"ticks\":\"\"}}}],\"scatterternary\":[{\"type\":\"scatterternary\",\"marker\":{\"colorbar\":{\"outlinewidth\":0,\"ticks\":\"\"}}}],\"scattercarpet\":[{\"type\":\"scattercarpet\",\"marker\":{\"colorbar\":{\"outlinewidth\":0,\"ticks\":\"\"}}}],\"carpet\":[{\"aaxis\":{\"endlinecolor\":\"#2a3f5f\",\"gridcolor\":\"white\",\"linecolor\":\"white\",\"minorgridcolor\":\"white\",\"startlinecolor\":\"#2a3f5f\"},\"baxis\":{\"endlinecolor\":\"#2a3f5f\",\"gridcolor\":\"white\",\"linecolor\":\"white\",\"minorgridcolor\":\"white\",\"startlinecolor\":\"#2a3f5f\"},\"type\":\"carpet\"}],\"table\":[{\"cells\":{\"fill\":{\"color\":\"#EBF0F8\"},\"line\":{\"color\":\"white\"}},\"header\":{\"fill\":{\"color\":\"#C8D4E3\"},\"line\":{\"color\":\"white\"}},\"type\":\"table\"}],\"barpolar\":[{\"marker\":{\"line\":{\"color\":\"#E5ECF6\",\"width\":0.5},\"pattern\":{\"fillmode\":\"overlay\",\"size\":10,\"solidity\":0.2}},\"type\":\"barpolar\"}],\"pie\":[{\"automargin\":true,\"type\":\"pie\"}]},\"layout\":{\"autotypenumbers\":\"strict\",\"colorway\":[\"#636efa\",\"#EF553B\",\"#00cc96\",\"#ab63fa\",\"#FFA15A\",\"#19d3f3\",\"#FF6692\",\"#B6E880\",\"#FF97FF\",\"#FECB52\"],\"font\":{\"color\":\"#2a3f5f\"},\"hovermode\":\"closest\",\"hoverlabel\":{\"align\":\"left\"},\"paper_bgcolor\":\"white\",\"plot_bgcolor\":\"#E5ECF6\",\"polar\":{\"bgcolor\":\"#E5ECF6\",\"angularaxis\":{\"gridcolor\":\"white\",\"linecolor\":\"white\",\"ticks\":\"\"},\"radialaxis\":{\"gridcolor\":\"white\",\"linecolor\":\"white\",\"ticks\":\"\"}},\"ternary\":{\"bgcolor\":\"#E5ECF6\",\"aaxis\":{\"gridcolor\":\"white\",\"linecolor\":\"white\",\"ticks\":\"\"},\"baxis\":{\"gridcolor\":\"white\",\"linecolor\":\"white\",\"ticks\":\"\"},\"caxis\":{\"gridcolor\":\"white\",\"linecolor\":\"white\",\"ticks\":\"\"}},\"coloraxis\":{\"colorbar\":{\"outlinewidth\":0,\"ticks\":\"\"}},\"colorscale\":{\"sequential\":[[0.0,\"#0d0887\"],[0.1111111111111111,\"#46039f\"],[0.2222222222222222,\"#7201a8\"],[0.3333333333333333,\"#9c179e\"],[0.4444444444444444,\"#bd3786\"],[0.5555555555555556,\"#d8576b\"],[0.6666666666666666,\"#ed7953\"],[0.7777777777777778,\"#fb9f3a\"],[0.8888888888888888,\"#fdca26\"],[1.0,\"#f0f921\"]],\"sequentialminus\":[[0.0,\"#0d0887\"],[0.1111111111111111,\"#46039f\"],[0.2222222222222222,\"#7201a8\"],[0.3333333333333333,\"#9c179e\"],[0.4444444444444444,\"#bd3786\"],[0.5555555555555556,\"#d8576b\"],[0.6666666666666666,\"#ed7953\"],[0.7777777777777778,\"#fb9f3a\"],[0.8888888888888888,\"#fdca26\"],[1.0,\"#f0f921\"]],\"diverging\":[[0,\"#8e0152\"],[0.1,\"#c51b7d\"],[0.2,\"#de77ae\"],[0.3,\"#f1b6da\"],[0.4,\"#fde0ef\"],[0.5,\"#f7f7f7\"],[0.6,\"#e6f5d0\"],[0.7,\"#b8e186\"],[0.8,\"#7fbc41\"],[0.9,\"#4d9221\"],[1,\"#276419\"]]},\"xaxis\":{\"gridcolor\":\"white\",\"linecolor\":\"white\",\"ticks\":\"\",\"title\":{\"standoff\":15},\"zerolinecolor\":\"white\",\"automargin\":true,\"zerolinewidth\":2},\"yaxis\":{\"gridcolor\":\"white\",\"linecolor\":\"white\",\"ticks\":\"\",\"title\":{\"standoff\":15},\"zerolinecolor\":\"white\",\"automargin\":true,\"zerolinewidth\":2},\"scene\":{\"xaxis\":{\"backgroundcolor\":\"#E5ECF6\",\"gridcolor\":\"white\",\"linecolor\":\"white\",\"showbackground\":true,\"ticks\":\"\",\"zerolinecolor\":\"white\",\"gridwidth\":2},\"yaxis\":{\"backgroundcolor\":\"#E5ECF6\",\"gridcolor\":\"white\",\"linecolor\":\"white\",\"showbackground\":true,\"ticks\":\"\",\"zerolinecolor\":\"white\",\"gridwidth\":2},\"zaxis\":{\"backgroundcolor\":\"#E5ECF6\",\"gridcolor\":\"white\",\"linecolor\":\"white\",\"showbackground\":true,\"ticks\":\"\",\"zerolinecolor\":\"white\",\"gridwidth\":2}},\"shapedefaults\":{\"line\":{\"color\":\"#2a3f5f\"}},\"annotationdefaults\":{\"arrowcolor\":\"#2a3f5f\",\"arrowhead\":0,\"arrowwidth\":1},\"geo\":{\"bgcolor\":\"white\",\"landcolor\":\"#E5ECF6\",\"subunitcolor\":\"white\",\"showland\":true,\"showlakes\":true,\"lakecolor\":\"white\"},\"title\":{\"x\":0.05},\"mapbox\":{\"style\":\"light\"}}},\"xaxis\":{\"anchor\":\"y\",\"domain\":[0.0,1.0],\"title\":{\"text\":\"0\"}},\"yaxis\":{\"anchor\":\"x\",\"domain\":[0.0,1.0],\"title\":{\"text\":\"1\"}},\"legend\":{\"title\":{\"text\":\"\\u30af\\u30e9\\u30b9\\u30bf\"},\"tracegroupgap\":0,\"itemsizing\":\"constant\"},\"title\":{\"text\":\"PCA\\u5f8c\\u6a19\\u6e96\\u5316-\\u7e04\\u6587\\u571f\\u5668\"},\"height\":1000,\"width\":1000,\"font\":{\"family\":\"Courier New, monospace\",\"size\":14}},                        {\"responsive\": true}                    ).then(function(){\n",
              "                            \n",
              "var gd = document.getElementById('ff441815-9b44-4d58-a24a-1c8e392db49d');\n",
              "var x = new MutationObserver(function (mutations, observer) {{\n",
              "        var display = window.getComputedStyle(gd).display;\n",
              "        if (!display || display === 'none') {{\n",
              "            console.log([gd, 'removed!']);\n",
              "            Plotly.purge(gd);\n",
              "            observer.disconnect();\n",
              "        }}\n",
              "}});\n",
              "\n",
              "// Listen for the removal of the full notebook cells\n",
              "var notebookContainer = gd.closest('#notebook-container');\n",
              "if (notebookContainer) {{\n",
              "    x.observe(notebookContainer, {childList: true});\n",
              "}}\n",
              "\n",
              "// Listen for the clearing of the current output cell\n",
              "var outputEl = gd.closest('.output');\n",
              "if (outputEl) {{\n",
              "    x.observe(outputEl, {childList: true});\n",
              "}}\n",
              "\n",
              "                        })                };                            </script>        </div>\n",
              "</body>\n",
              "</html>"
            ]
          },
          "metadata": {}
        }
      ],
      "source": [
        "tsne = TSNE(n_components=2, random_state=0, init='pca')\n",
        "projections = tsne.fit_transform(features_std)\n",
        "\n",
        "x = projections[:,0]\n",
        "y = projections[:,1]\n",
        "color = km_predictions\n",
        "symbol = km_predictions\n",
        "df = pd.DataFrame({'x':x,'y':y, 'name':name_list,'クラスタ':np.array(color, dtype='str')})\n",
        "\n",
        "df_s = df.sort_values(by='クラスタ', ascending=True)\n",
        "\n",
        "\n",
        "fig = px.scatter(\n",
        "    df_s.loc[:,[\"x\",\"y\"]].values, x=0, y=1,\n",
        "    color=df_s.loc[:,\"クラスタ\"].values,\n",
        "    symbol=df_s.loc[:,\"クラスタ\"].values,\n",
        "    labels={'color': 'Categories'},\n",
        "    title='PCA後標準化-縄文土器',\n",
        "    text=df_s.loc[:,\"name\"],\n",
        "    width=1000, height=1000,\n",
        "    size_max=10,\n",
        "    size=np.full(len(km_predictions), 10),\n",
        ")\n",
        "\n",
        "\n",
        "fig.update_layout(\n",
        "    legend_title=\"クラスタ\",\n",
        "    font=dict(\n",
        "        family=\"Courier New, monospace\",\n",
        "        size=14,\n",
        "    )\n",
        ")\n",
        "fig.show()\n",
        "fig.write_html(\"pca_std_type.html\")"
      ],
      "id": "NJTDxu0nJhxd"
    },
    {
      "cell_type": "code",
      "source": [],
      "metadata": {
        "id": "dcxQu4adaavD"
      },
      "id": "dcxQu4adaavD",
      "execution_count": null,
      "outputs": []
    },
    {
      "cell_type": "code",
      "source": [
        "# 縦軸回転拡張データ無し版\n",
        "true_labels_df = pd.read_excel(\"/content/drive/MyDrive/jomon/true_labels_dataset_JomonV7.xlsx\")\n",
        "\n",
        "tsne = TSNE(n_components=2, random_state=0)\n",
        "projections = tsne.fit_transform(features_std)\n",
        "\n",
        "x = projections[:,0]\n",
        "y = projections[:,1]\n",
        "color = km_predictions\n",
        "symbol = km_predictions\n",
        "df = pd.DataFrame({'x':x,'y':y, 'name':true_labels_df[\"列品番号\"], \"labels\":true_labels_df[\"系統型式\"],\"angle\":true_labels_df[\"回転角度\"],'クラスタ':np.array(color, dtype='str')})#, 'init':symbol})\n",
        "\n",
        "df_s = df.sort_values(by='クラスタ', ascending=True)\n",
        "\n",
        "df_s = df_s[df_s['angle'].str.startswith('000')]\n",
        "df_s[\"クラスタsy\"] = df_s[\"クラスタ\"]\n",
        "\n",
        "df_s.loc[12,\"クラスタ\"] = \"4A\"\n",
        "df_s.loc[48,\"クラスタ\"] = \"4B\"\n",
        "df_s.loc[120,\"クラスタ\"] = \"4B\"\n",
        "df_s.loc[144,\"クラスタ\"] = \"4A\"\n",
        "df_s.loc[204,\"クラスタ\"] = \"4B\"\n",
        "df_s.loc[288,\"クラスタ\"] = \"4A\"\n",
        "\n",
        "fig = px.scatter(\n",
        "    df_s.loc[:,[\"x\",\"y\"]].values, x=0, y=1,\n",
        "    color=df_s.loc[:,\"クラスタsy\"].values,\n",
        "    symbol=df_s.loc[:,\"クラスタ\"].values,\n",
        "    labels={'color': 'Categories', 'symbol': 'Categories'},\n",
        "    title='PCA(標準化)-縄文土器',\n",
        "    text=df_s.loc[:,\"labels\"]+\"(\"+df_s.loc[:,\"name\"]+\")\",\n",
        "    width=1000, height=1000,\n",
        "    size_max=15,\n",
        "    size=np.full(len(km_predictions[::12]), 15),\n",
        ")\n",
        "\n",
        "\n",
        "fig.update_layout(\n",
        "    legend_title=\"クラスタ\",\n",
        "    legend= {'itemsizing': 'constant'},\n",
        "    font=dict(\n",
        "        family=\"Courier New, monospace\",\n",
        "        size=20,\n",
        "    )\n",
        ")\n",
        "\n",
        "for trace in fig.data:\n",
        "    trace.marker.size = 15\n",
        "\n",
        "fig.show()\n",
        "fig.write_html(\"JomonV7_000_pca_std_type_3.html\")\n",
        "\n",
        "\n"
      ],
      "metadata": {
        "colab": {
          "base_uri": "https://localhost:8080/",
          "height": 1000
        },
        "id": "2TE3l3vVtwkO",
        "outputId": "18f0d86d-5f60-436e-8a69-09746c7f997c"
      },
      "execution_count": null,
      "outputs": [
        {
          "output_type": "display_data",
          "data": {
            "text/html": [
              "<html>\n",
              "<head><meta charset=\"utf-8\" /></head>\n",
              "<body>\n",
              "    <div>            <script src=\"https://cdnjs.cloudflare.com/ajax/libs/mathjax/2.7.5/MathJax.js?config=TeX-AMS-MML_SVG\"></script><script type=\"text/javascript\">if (window.MathJax && window.MathJax.Hub && window.MathJax.Hub.Config) {window.MathJax.Hub.Config({SVG: {font: \"STIX-Web\"}});}</script>                <script type=\"text/javascript\">window.PlotlyConfig = {MathJaxConfig: 'local'};</script>\n",
              "        <script charset=\"utf-8\" src=\"https://cdn.plot.ly/plotly-2.24.1.min.js\"></script>                <div id=\"58fbe7da-d527-44d2-a01b-3624263f2180\" class=\"plotly-graph-div\" style=\"height:1000px; width:1000px;\"></div>            <script type=\"text/javascript\">                                    window.PLOTLYENV=window.PLOTLYENV || {};                                    if (document.getElementById(\"58fbe7da-d527-44d2-a01b-3624263f2180\")) {                    Plotly.newPlot(                        \"58fbe7da-d527-44d2-a01b-3624263f2180\",                        [{\"hovertemplate\":\"Categories=0\\u003cbr\\u003e0=%{x}\\u003cbr\\u003e1=%{y}\\u003cbr\\u003esize=%{marker.size}\\u003cbr\\u003etext=%{text}\\u003cextra\\u003e\\u003c\\u002fextra\\u003e\",\"legendgroup\":\"0\",\"marker\":{\"color\":\"#636efa\",\"size\":15,\"sizemode\":\"area\",\"sizeref\":0.06666666666666667,\"symbol\":\"circle\"},\"mode\":\"markers+text\",\"name\":\"0\",\"orientation\":\"v\",\"showlegend\":true,\"text\":[\"\\u516d\\u53cd\\u7530(rm0956)\",\"\\u65b0\\u5d0e\\u2161a(rm0732)\",\"\\u516d\\u53cd\\u7530(rm0721)\",\"\\u85e4\\u5185\\u2161\\uff5e\\u4e95\\u6238\\u5c3b\\u2160(rm1318)\",\"\\u516d\\u53cd\\u7530(rm1348)\",\"\\u65b0\\u5d0e\\u2160(rm0695)\"],\"x\":[-20.5885066986084,-19.313589096069336,-22.595417022705078,-20.35198974609375,-22.110164642333984,-24.16839599609375],\"xaxis\":\"x\",\"y\":[-13.697699546813965,-11.402396202087402,-8.944950103759766,-15.516112327575684,-11.50323486328125,-7.5033040046691895],\"yaxis\":\"y\",\"type\":\"scatter\"},{\"hovertemplate\":\"Categories=1\\u003cbr\\u003e0=%{x}\\u003cbr\\u003e1=%{y}\\u003cbr\\u003esize=%{marker.size}\\u003cbr\\u003etext=%{text}\\u003cextra\\u003e\\u003c\\u002fextra\\u003e\",\"legendgroup\":\"1\",\"marker\":{\"color\":\"#EF553B\",\"size\":15,\"sizemode\":\"area\",\"sizeref\":0.06666666666666667,\"symbol\":\"diamond\"},\"mode\":\"markers+text\",\"name\":\"1\",\"orientation\":\"v\",\"showlegend\":true,\"text\":[\"\\u5929\\u795e\\u5c71\\u2162(rm1410)\",\"\\u5927\\u6728\\uff18\\uff42\\u4e2d(rm1406)\",\"\\u516d\\u53cd\\u7530(rm0455)\",\"\\u65b0\\u5d0e\\u2160(rm0683)\",\"\\u5929\\u795e\\u5c71\\u2160(rm0476)\"],\"x\":[14.480027198791504,12.253183364868164,13.417779922485352,12.982518196105957,16.808727264404297],\"xaxis\":\"x\",\"y\":[-21.48320198059082,-21.475553512573242,-25.32767677307129,-20.348052978515625,-22.757240295410156],\"yaxis\":\"y\",\"type\":\"scatter\"},{\"hovertemplate\":\"Categories=2\\u003cbr\\u003e0=%{x}\\u003cbr\\u003e1=%{y}\\u003cbr\\u003esize=%{marker.size}\\u003cbr\\u003etext=%{text}\\u003cextra\\u003e\\u003c\\u002fextra\\u003e\",\"legendgroup\":\"2\",\"marker\":{\"color\":\"#00cc96\",\"size\":15,\"sizemode\":\"area\",\"sizeref\":0.06666666666666667,\"symbol\":\"square\"},\"mode\":\"markers+text\",\"name\":\"2\",\"orientation\":\"v\",\"showlegend\":true,\"text\":[\"\\u713c\\u753a\\u53e4(rm1011)\",\"\\u5929\\u795e\\u5c71\\u2161a(rm0750)\",\"(\\u7121\\u8a18\\u5165)(rm0692)\",\"\\u5929\\u795e\\u5c71\\u2160(rm0701)\"],\"x\":[-0.01166079193353653,-0.34459519386291504,-0.6091403961181641,-1.7330244779586792],\"xaxis\":\"x\",\"y\":[-9.26990795135498,-4.810226917266846,-7.300194263458252,-9.705862045288086],\"yaxis\":\"y\",\"type\":\"scatter\"},{\"hovertemplate\":\"Categories=3\\u003cbr\\u003e0=%{x}\\u003cbr\\u003e1=%{y}\\u003cbr\\u003esize=%{marker.size}\\u003cbr\\u003etext=%{text}\\u003cextra\\u003e\\u003c\\u002fextra\\u003e\",\"legendgroup\":\"3\",\"marker\":{\"color\":\"#ab63fa\",\"size\":15,\"sizemode\":\"area\",\"sizeref\":0.06666666666666667,\"symbol\":\"x\"},\"mode\":\"markers+text\",\"name\":\"3\",\"orientation\":\"v\",\"showlegend\":true,\"text\":[\"\\u5929\\u795e\\u5c71\\u2161a(rm1276)\",\"\\u5929\\u795e\\u5c71\\u2161a(rm0945)\",\"\\u65b0\\u5d0e\\u2161b(rm0871)\",\"\\u5929\\u795e\\u5c71\\u2161a(rm0684)\",\"\\u65b0\\u5d0e\\u2161b(rm0580)\"],\"x\":[29.907926559448242,29.03229522705078,26.7244815826416,27.677274703979492,24.130725860595703],\"xaxis\":\"x\",\"y\":[5.017523288726807,1.8999412059783936,1.0573441982269287,3.5720884799957275,1.4166289567947388],\"yaxis\":\"y\",\"type\":\"scatter\"},{\"hovertemplate\":\"Categories=4A\\u003cbr\\u003e0=%{x}\\u003cbr\\u003e1=%{y}\\u003cbr\\u003esize=%{marker.size}\\u003cbr\\u003etext=%{text}\\u003cextra\\u003e\\u003c\\u002fextra\\u003e\",\"legendgroup\":\"4A\",\"marker\":{\"color\":\"#FFA15A\",\"size\":15,\"sizemode\":\"area\",\"sizeref\":0.06666666666666667,\"symbol\":\"cross\"},\"mode\":\"markers+text\",\"name\":\"4A\",\"orientation\":\"v\",\"showlegend\":true,\"text\":[\"\\u516d\\u53cd\\u7530(rm1316)\",\"(\\u7121\\u8a18\\u5165)(rm0698)\",\"(\\u7121\\u8a18\\u5165)(rm0457)\"],\"x\":[-15.247444152832031,-15.246892929077148,-15.458601951599121],\"xaxis\":\"x\",\"y\":[19.40036964416504,21.54409408569336,18.199609756469727],\"yaxis\":\"y\",\"type\":\"scatter\"},{\"hovertemplate\":\"Categories=4B\\u003cbr\\u003e0=%{x}\\u003cbr\\u003e1=%{y}\\u003cbr\\u003esize=%{marker.size}\\u003cbr\\u003etext=%{text}\\u003cextra\\u003e\\u003c\\u002fextra\\u003e\",\"legendgroup\":\"4B\",\"marker\":{\"color\":\"#FFA15A\",\"size\":15,\"sizemode\":\"area\",\"sizeref\":0.06666666666666667,\"symbol\":\"circle\"},\"mode\":\"markers+text\",\"name\":\"4B\",\"orientation\":\"v\",\"showlegend\":true,\"text\":[\"\\u516d\\u53cd\\u7530(rm0693)\",\"\\u5929\\u795e\\u5c71\\u2160(rm0564)\",\"\\u5929\\u795e\\u5c71\\u2160(rm0863)\"],\"x\":[-19.204959869384766,-20.099124908447266,-21.078691482543945],\"xaxis\":\"x\",\"y\":[9.754223823547363,8.48241138458252,7.194982528686523],\"yaxis\":\"y\",\"type\":\"scatter\"},{\"hovertemplate\":\"Categories=5\\u003cbr\\u003e0=%{x}\\u003cbr\\u003e1=%{y}\\u003cbr\\u003esize=%{marker.size}\\u003cbr\\u003etext=%{text}\\u003cextra\\u003e\\u003c\\u002fextra\\u003e\",\"legendgroup\":\"5\",\"marker\":{\"color\":\"#19d3f3\",\"size\":15,\"sizemode\":\"area\",\"sizeref\":0.06666666666666667,\"symbol\":\"diamond\"},\"mode\":\"markers+text\",\"name\":\"5\",\"orientation\":\"v\",\"showlegend\":true,\"text\":[\"\\u5927\\u6728\\uff18\\uff42\\u4e2d(rm1408)\",\"\\u5927\\u6728\\uff18\\uff42\\u4e2d(rm1407)\",\"\\u516d\\u53cd\\u7530(rm1321)\",\"\\u516d\\u53cd\\u7530(rm0493)\",\"\\u5929\\u795e\\u5c71\\u2160(rm1145)\",\"\\u516d\\u53cd\\u7530(rm0681)\"],\"x\":[2.541264057159424,5.529297351837158,2.0064010620117188,1.0005040168762207,7.477783679962158,3.8117430210113525],\"xaxis\":\"x\",\"y\":[22.000059127807617,25.24155044555664,21.438352584838867,20.56049156188965,24.308391571044922,17.773773193359375],\"yaxis\":\"y\",\"type\":\"scatter\"}],                        {\"template\":{\"data\":{\"histogram2dcontour\":[{\"type\":\"histogram2dcontour\",\"colorbar\":{\"outlinewidth\":0,\"ticks\":\"\"},\"colorscale\":[[0.0,\"#0d0887\"],[0.1111111111111111,\"#46039f\"],[0.2222222222222222,\"#7201a8\"],[0.3333333333333333,\"#9c179e\"],[0.4444444444444444,\"#bd3786\"],[0.5555555555555556,\"#d8576b\"],[0.6666666666666666,\"#ed7953\"],[0.7777777777777778,\"#fb9f3a\"],[0.8888888888888888,\"#fdca26\"],[1.0,\"#f0f921\"]]}],\"choropleth\":[{\"type\":\"choropleth\",\"colorbar\":{\"outlinewidth\":0,\"ticks\":\"\"}}],\"histogram2d\":[{\"type\":\"histogram2d\",\"colorbar\":{\"outlinewidth\":0,\"ticks\":\"\"},\"colorscale\":[[0.0,\"#0d0887\"],[0.1111111111111111,\"#46039f\"],[0.2222222222222222,\"#7201a8\"],[0.3333333333333333,\"#9c179e\"],[0.4444444444444444,\"#bd3786\"],[0.5555555555555556,\"#d8576b\"],[0.6666666666666666,\"#ed7953\"],[0.7777777777777778,\"#fb9f3a\"],[0.8888888888888888,\"#fdca26\"],[1.0,\"#f0f921\"]]}],\"heatmap\":[{\"type\":\"heatmap\",\"colorbar\":{\"outlinewidth\":0,\"ticks\":\"\"},\"colorscale\":[[0.0,\"#0d0887\"],[0.1111111111111111,\"#46039f\"],[0.2222222222222222,\"#7201a8\"],[0.3333333333333333,\"#9c179e\"],[0.4444444444444444,\"#bd3786\"],[0.5555555555555556,\"#d8576b\"],[0.6666666666666666,\"#ed7953\"],[0.7777777777777778,\"#fb9f3a\"],[0.8888888888888888,\"#fdca26\"],[1.0,\"#f0f921\"]]}],\"heatmapgl\":[{\"type\":\"heatmapgl\",\"colorbar\":{\"outlinewidth\":0,\"ticks\":\"\"},\"colorscale\":[[0.0,\"#0d0887\"],[0.1111111111111111,\"#46039f\"],[0.2222222222222222,\"#7201a8\"],[0.3333333333333333,\"#9c179e\"],[0.4444444444444444,\"#bd3786\"],[0.5555555555555556,\"#d8576b\"],[0.6666666666666666,\"#ed7953\"],[0.7777777777777778,\"#fb9f3a\"],[0.8888888888888888,\"#fdca26\"],[1.0,\"#f0f921\"]]}],\"contourcarpet\":[{\"type\":\"contourcarpet\",\"colorbar\":{\"outlinewidth\":0,\"ticks\":\"\"}}],\"contour\":[{\"type\":\"contour\",\"colorbar\":{\"outlinewidth\":0,\"ticks\":\"\"},\"colorscale\":[[0.0,\"#0d0887\"],[0.1111111111111111,\"#46039f\"],[0.2222222222222222,\"#7201a8\"],[0.3333333333333333,\"#9c179e\"],[0.4444444444444444,\"#bd3786\"],[0.5555555555555556,\"#d8576b\"],[0.6666666666666666,\"#ed7953\"],[0.7777777777777778,\"#fb9f3a\"],[0.8888888888888888,\"#fdca26\"],[1.0,\"#f0f921\"]]}],\"surface\":[{\"type\":\"surface\",\"colorbar\":{\"outlinewidth\":0,\"ticks\":\"\"},\"colorscale\":[[0.0,\"#0d0887\"],[0.1111111111111111,\"#46039f\"],[0.2222222222222222,\"#7201a8\"],[0.3333333333333333,\"#9c179e\"],[0.4444444444444444,\"#bd3786\"],[0.5555555555555556,\"#d8576b\"],[0.6666666666666666,\"#ed7953\"],[0.7777777777777778,\"#fb9f3a\"],[0.8888888888888888,\"#fdca26\"],[1.0,\"#f0f921\"]]}],\"mesh3d\":[{\"type\":\"mesh3d\",\"colorbar\":{\"outlinewidth\":0,\"ticks\":\"\"}}],\"scatter\":[{\"fillpattern\":{\"fillmode\":\"overlay\",\"size\":10,\"solidity\":0.2},\"type\":\"scatter\"}],\"parcoords\":[{\"type\":\"parcoords\",\"line\":{\"colorbar\":{\"outlinewidth\":0,\"ticks\":\"\"}}}],\"scatterpolargl\":[{\"type\":\"scatterpolargl\",\"marker\":{\"colorbar\":{\"outlinewidth\":0,\"ticks\":\"\"}}}],\"bar\":[{\"error_x\":{\"color\":\"#2a3f5f\"},\"error_y\":{\"color\":\"#2a3f5f\"},\"marker\":{\"line\":{\"color\":\"#E5ECF6\",\"width\":0.5},\"pattern\":{\"fillmode\":\"overlay\",\"size\":10,\"solidity\":0.2}},\"type\":\"bar\"}],\"scattergeo\":[{\"type\":\"scattergeo\",\"marker\":{\"colorbar\":{\"outlinewidth\":0,\"ticks\":\"\"}}}],\"scatterpolar\":[{\"type\":\"scatterpolar\",\"marker\":{\"colorbar\":{\"outlinewidth\":0,\"ticks\":\"\"}}}],\"histogram\":[{\"marker\":{\"pattern\":{\"fillmode\":\"overlay\",\"size\":10,\"solidity\":0.2}},\"type\":\"histogram\"}],\"scattergl\":[{\"type\":\"scattergl\",\"marker\":{\"colorbar\":{\"outlinewidth\":0,\"ticks\":\"\"}}}],\"scatter3d\":[{\"type\":\"scatter3d\",\"line\":{\"colorbar\":{\"outlinewidth\":0,\"ticks\":\"\"}},\"marker\":{\"colorbar\":{\"outlinewidth\":0,\"ticks\":\"\"}}}],\"scattermapbox\":[{\"type\":\"scattermapbox\",\"marker\":{\"colorbar\":{\"outlinewidth\":0,\"ticks\":\"\"}}}],\"scatterternary\":[{\"type\":\"scatterternary\",\"marker\":{\"colorbar\":{\"outlinewidth\":0,\"ticks\":\"\"}}}],\"scattercarpet\":[{\"type\":\"scattercarpet\",\"marker\":{\"colorbar\":{\"outlinewidth\":0,\"ticks\":\"\"}}}],\"carpet\":[{\"aaxis\":{\"endlinecolor\":\"#2a3f5f\",\"gridcolor\":\"white\",\"linecolor\":\"white\",\"minorgridcolor\":\"white\",\"startlinecolor\":\"#2a3f5f\"},\"baxis\":{\"endlinecolor\":\"#2a3f5f\",\"gridcolor\":\"white\",\"linecolor\":\"white\",\"minorgridcolor\":\"white\",\"startlinecolor\":\"#2a3f5f\"},\"type\":\"carpet\"}],\"table\":[{\"cells\":{\"fill\":{\"color\":\"#EBF0F8\"},\"line\":{\"color\":\"white\"}},\"header\":{\"fill\":{\"color\":\"#C8D4E3\"},\"line\":{\"color\":\"white\"}},\"type\":\"table\"}],\"barpolar\":[{\"marker\":{\"line\":{\"color\":\"#E5ECF6\",\"width\":0.5},\"pattern\":{\"fillmode\":\"overlay\",\"size\":10,\"solidity\":0.2}},\"type\":\"barpolar\"}],\"pie\":[{\"automargin\":true,\"type\":\"pie\"}]},\"layout\":{\"autotypenumbers\":\"strict\",\"colorway\":[\"#636efa\",\"#EF553B\",\"#00cc96\",\"#ab63fa\",\"#FFA15A\",\"#19d3f3\",\"#FF6692\",\"#B6E880\",\"#FF97FF\",\"#FECB52\"],\"font\":{\"color\":\"#2a3f5f\"},\"hovermode\":\"closest\",\"hoverlabel\":{\"align\":\"left\"},\"paper_bgcolor\":\"white\",\"plot_bgcolor\":\"#E5ECF6\",\"polar\":{\"bgcolor\":\"#E5ECF6\",\"angularaxis\":{\"gridcolor\":\"white\",\"linecolor\":\"white\",\"ticks\":\"\"},\"radialaxis\":{\"gridcolor\":\"white\",\"linecolor\":\"white\",\"ticks\":\"\"}},\"ternary\":{\"bgcolor\":\"#E5ECF6\",\"aaxis\":{\"gridcolor\":\"white\",\"linecolor\":\"white\",\"ticks\":\"\"},\"baxis\":{\"gridcolor\":\"white\",\"linecolor\":\"white\",\"ticks\":\"\"},\"caxis\":{\"gridcolor\":\"white\",\"linecolor\":\"white\",\"ticks\":\"\"}},\"coloraxis\":{\"colorbar\":{\"outlinewidth\":0,\"ticks\":\"\"}},\"colorscale\":{\"sequential\":[[0.0,\"#0d0887\"],[0.1111111111111111,\"#46039f\"],[0.2222222222222222,\"#7201a8\"],[0.3333333333333333,\"#9c179e\"],[0.4444444444444444,\"#bd3786\"],[0.5555555555555556,\"#d8576b\"],[0.6666666666666666,\"#ed7953\"],[0.7777777777777778,\"#fb9f3a\"],[0.8888888888888888,\"#fdca26\"],[1.0,\"#f0f921\"]],\"sequentialminus\":[[0.0,\"#0d0887\"],[0.1111111111111111,\"#46039f\"],[0.2222222222222222,\"#7201a8\"],[0.3333333333333333,\"#9c179e\"],[0.4444444444444444,\"#bd3786\"],[0.5555555555555556,\"#d8576b\"],[0.6666666666666666,\"#ed7953\"],[0.7777777777777778,\"#fb9f3a\"],[0.8888888888888888,\"#fdca26\"],[1.0,\"#f0f921\"]],\"diverging\":[[0,\"#8e0152\"],[0.1,\"#c51b7d\"],[0.2,\"#de77ae\"],[0.3,\"#f1b6da\"],[0.4,\"#fde0ef\"],[0.5,\"#f7f7f7\"],[0.6,\"#e6f5d0\"],[0.7,\"#b8e186\"],[0.8,\"#7fbc41\"],[0.9,\"#4d9221\"],[1,\"#276419\"]]},\"xaxis\":{\"gridcolor\":\"white\",\"linecolor\":\"white\",\"ticks\":\"\",\"title\":{\"standoff\":15},\"zerolinecolor\":\"white\",\"automargin\":true,\"zerolinewidth\":2},\"yaxis\":{\"gridcolor\":\"white\",\"linecolor\":\"white\",\"ticks\":\"\",\"title\":{\"standoff\":15},\"zerolinecolor\":\"white\",\"automargin\":true,\"zerolinewidth\":2},\"scene\":{\"xaxis\":{\"backgroundcolor\":\"#E5ECF6\",\"gridcolor\":\"white\",\"linecolor\":\"white\",\"showbackground\":true,\"ticks\":\"\",\"zerolinecolor\":\"white\",\"gridwidth\":2},\"yaxis\":{\"backgroundcolor\":\"#E5ECF6\",\"gridcolor\":\"white\",\"linecolor\":\"white\",\"showbackground\":true,\"ticks\":\"\",\"zerolinecolor\":\"white\",\"gridwidth\":2},\"zaxis\":{\"backgroundcolor\":\"#E5ECF6\",\"gridcolor\":\"white\",\"linecolor\":\"white\",\"showbackground\":true,\"ticks\":\"\",\"zerolinecolor\":\"white\",\"gridwidth\":2}},\"shapedefaults\":{\"line\":{\"color\":\"#2a3f5f\"}},\"annotationdefaults\":{\"arrowcolor\":\"#2a3f5f\",\"arrowhead\":0,\"arrowwidth\":1},\"geo\":{\"bgcolor\":\"white\",\"landcolor\":\"#E5ECF6\",\"subunitcolor\":\"white\",\"showland\":true,\"showlakes\":true,\"lakecolor\":\"white\"},\"title\":{\"x\":0.05},\"mapbox\":{\"style\":\"light\"}}},\"xaxis\":{\"anchor\":\"y\",\"domain\":[0.0,1.0],\"title\":{\"text\":\"0\"}},\"yaxis\":{\"anchor\":\"x\",\"domain\":[0.0,1.0],\"title\":{\"text\":\"1\"}},\"legend\":{\"title\":{\"text\":\"\\u30af\\u30e9\\u30b9\\u30bf\"},\"tracegroupgap\":0,\"itemsizing\":\"constant\"},\"title\":{\"text\":\"PCA(\\u6a19\\u6e96\\u5316)-\\u7e04\\u6587\\u571f\\u5668\"},\"height\":1000,\"width\":1000,\"font\":{\"family\":\"Courier New, monospace\",\"size\":20}},                        {\"responsive\": true}                    ).then(function(){\n",
              "                            \n",
              "var gd = document.getElementById('58fbe7da-d527-44d2-a01b-3624263f2180');\n",
              "var x = new MutationObserver(function (mutations, observer) {{\n",
              "        var display = window.getComputedStyle(gd).display;\n",
              "        if (!display || display === 'none') {{\n",
              "            console.log([gd, 'removed!']);\n",
              "            Plotly.purge(gd);\n",
              "            observer.disconnect();\n",
              "        }}\n",
              "}});\n",
              "\n",
              "// Listen for the removal of the full notebook cells\n",
              "var notebookContainer = gd.closest('#notebook-container');\n",
              "if (notebookContainer) {{\n",
              "    x.observe(notebookContainer, {childList: true});\n",
              "}}\n",
              "\n",
              "// Listen for the clearing of the current output cell\n",
              "var outputEl = gd.closest('.output');\n",
              "if (outputEl) {{\n",
              "    x.observe(outputEl, {childList: true});\n",
              "}}\n",
              "\n",
              "                        })                };                            </script>        </div>\n",
              "</body>\n",
              "</html>"
            ]
          },
          "metadata": {}
        }
      ],
      "id": "2TE3l3vVtwkO"
    },
    {
      "cell_type": "markdown",
      "metadata": {
        "id": "f6734be8"
      },
      "source": [
        "### エルボー法の適用"
      ],
      "id": "f6734be8"
    },
    {
      "cell_type": "code",
      "execution_count": null,
      "metadata": {
        "id": "1a377b3b"
      },
      "outputs": [],
      "source": [
        "inertias1 = []\n",
        "for k in range(2,16):\n",
        "    kmc = KMeans(n_clusters=k, init='k-means++', n_init=16, max_iter=300,\n",
        "                           tol=0.0001, verbose=0, random_state=None, copy_x=True)\n",
        "\n",
        "    km_predictions1_e = kmc.fit_predict(features_std)\n",
        "    inertias1.append(kmc.inertia_)"
      ],
      "id": "1a377b3b"
    },
    {
      "cell_type": "code",
      "execution_count": null,
      "metadata": {
        "id": "6c848350",
        "colab": {
          "base_uri": "https://localhost:8080/",
          "height": 469
        },
        "outputId": "1e288fa0-8c03-4225-ca5c-4e33535f4302"
      },
      "outputs": [
        {
          "output_type": "display_data",
          "data": {
            "text/plain": [
              "<Figure size 640x480 with 1 Axes>"
            ],
            "image/png": "[encoded data removed]"
          },
          "metadata": {}
        }
      ],
      "source": [
        "plt.plot(range(2,16), inertias1, '-')\n",
        "plt.xticks(range(2,16))\n",
        "plt.title(\"clusters\")\n",
        "plt.xlabel('Num of clusters')\n",
        "plt.ylabel('SSE/Distortion')\n",
        "plt.savefig('elbow_chart.png')"
      ],
      "id": "6c848350"
    },
    {
      "cell_type": "markdown",
      "metadata": {
        "id": "OfeBfaP7cy0M"
      },
      "source": [
        "### グラフなどを保存する"
      ],
      "id": "OfeBfaP7cy0M"
    },
    {
      "cell_type": "code",
      "execution_count": null,
      "metadata": {
        "id": "Gvqov4HFtaqM"
      },
      "outputs": [],
      "source": [
        "!mkdir {DATASAVE_DIR}\n",
        "!cp -r *.png *.npy *.html *.hdf5 *.csv {DATASET_SAVE_PATH} {DATASET_SAVE_PATH}-inital {DATASAVE_DIR}\n",
        "!zip -r {DATASAVE_DIR}.zip {DATASAVE_DIR}"
      ],
      "id": "Gvqov4HFtaqM"
    },
    {
      "cell_type": "code",
      "execution_count": null,
      "metadata": {
        "id": "Lby_u9AEBXQt"
      },
      "outputs": [],
      "source": [
        "!mv {DATASAVE_DIR}.zip /content/drive/MyDrive/jomon/jomon"
      ],
      "id": "Lby_u9AEBXQt"
    },
    {
      "cell_type": "markdown",
      "metadata": {
        "id": "V7IgIlYYVFE-"
      },
      "source": [],
      "id": "V7IgIlYYVFE-"
    },
    {
      "cell_type": "markdown",
      "metadata": {
        "id": "araBvcvUVFVO"
      },
      "source": [],
      "id": "araBvcvUVFVO"
    },
    {
      "cell_type": "markdown",
      "metadata": {
        "id": "dQtL10NHVFnP"
      },
      "source": [],
      "id": "dQtL10NHVFnP"
    }
  ],
  "metadata": {
    "colab": {
      "machine_shape": "hm",
      "provenance": [],
      "gpuClass": "premium",
      "toc_visible": true,
      "gpuType": "A100"
    },
    "kernelspec": {
      "display_name": "Python 3",
      "name": "python3"
    },
    "language_info": {
      "codemirror_mode": {
        "name": "ipython",
        "version": 3
      },
      "file_extension": ".py",
      "mimetype": "text/x-python",
      "name": "python",
      "nbconvert_exporter": "python",
      "pygments_lexer": "ipython3",
      "version": "3.9.5"
    },
    "accelerator": "GPU"
  },
  "nbformat": 4,
  "nbformat_minor": 5
}
